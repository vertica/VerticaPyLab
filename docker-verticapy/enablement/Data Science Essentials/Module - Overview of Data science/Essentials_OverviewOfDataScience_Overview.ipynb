{
 "cells": [
  {
   "cell_type": "code",
   "execution_count": null,
   "id": "d8813b06",
   "metadata": {},
   "outputs": [],
   "source": [
    "import ipywidgets as widgets\n",
    "from IPython.display import display, clear_output\n",
    "from ipywidgets import Layout"
   ]
  },
  {
   "cell_type": "code",
   "execution_count": null,
   "id": "73c74fd4",
   "metadata": {},
   "outputs": [],
   "source": [
    "%%html\n",
    "<!--The top Logo and the menu bar-->\n",
    "\n",
    "<head>\n",
    "<meta name=\"viewport\" content=\"width=device-width, initial-scale=1\">\n",
    "<style>\n",
    "body {\n",
    "  font-family: Arial, Helvetica, sans-serif;\n",
    "  margin: 0px 0px 0px 0px;\n",
    "}\n",
    ".back{\n",
    "    height: 90px;\n",
    "    width: 100%;\n",
    "    background-color:#263133;\n",
    "    display: flex;\n",
    "    align-items: center;\n",
    "}\n",
    ".navbar_0 {\n",
    "  overflow: hidden;\n",
    "  background-color: #263133; \n",
    "  display: block;\n",
    "  z-index: 2;\n",
    "}\n",
    ".navbar_0 a {\n",
    "  float: left;\n",
    "  font-size: 16px;\n",
    "  color: white;\n",
    "  text-align: center;\n",
    "  padding: 14px 16px;\n",
    "  text-decoration: none;\n",
    "  overflow: visible;\n",
    "  display: inline-block;\n",
    "  z-index: 2;\n",
    "}\n",
    ".subnav {\n",
    "  float: left;\n",
    "  display:inline-block;\n",
    "  overflow: visible;\n",
    "}\n",
    ".subnav .subnavbtn {\n",
    "  font-size: 16px;\n",
    "  border: none;\n",
    "  outline: none;\n",
    "  color: white;\n",
    "  padding: 14px 16px;\n",
    "  background-color: inherit;\n",
    "  font-family: inherit;\n",
    "  margin: 0;\n",
    "  position: relative;\n",
    "}\n",
    ".navbar_0 a:hover, .subnav:hover .subnavbtn {\n",
    "  position:relative;\n",
    "  display:inline-block;\n",
    "  overflow:visible;\n",
    "  background-color: #F48B34;\n",
    "}\n",
    ".subnav-content {\n",
    "  display: none;\n",
    "  overflow: visible;\n",
    "  position: absolute;\n",
    "  left: 0;\n",
    "  background-color: #263133;\n",
    "  width: 100%;\n",
    "  z-index: 3;\n",
    "  border-style: solid;\n",
    "  border-color: white;\n",
    "  border-width:1px;\n",
    "    \n",
    "}\n",
    ".subnav-content a {\n",
    "  float: left;\n",
    "  overflow:visible;\n",
    "  color: white;\n",
    "  text-decoration: none;\n",
    "}\n",
    ".subnav-content a:hover {\n",
    "  background-color: #F48B34;\n",
    "  color: black;\n",
    "}\n",
    ".subnav:hover .subnav-content {\n",
    "  display: block;\n",
    "}\n",
    ".sticky {\n",
    "  position: fixed;\n",
    "  top: 0;\n",
    "  width: 100%;\n",
    "  overflow: visible;\n",
    "}\n",
    "\n",
    ".sticky + .content {\n",
    "  padding-top: 10px;\n",
    "}\n",
    ".sticky_2 {\n",
    "  position: relative;\n",
    "  top: 0;\n",
    "  width: 100%;\n",
    "}\n",
    "</style>\n",
    "</head>\n",
    "\n",
    "<style>\n",
    ".content_0 {\n",
    "  display: flex;\n",
    "  text-align: center;\n",
    "  vertical-align: middle;\n",
    "}\n",
    "\n",
    "\n",
    ".icon-container {\n",
    "  margin-top: 0px;\n",
    "  width: 100%;\n",
    "  height: 70px;\n",
    "}\n",
    "\n",
    ".icon {\n",
    "  cursor: pointer;\n",
    "  position: relative;\n",
    "  display: inline-block;\n",
    "  width: 45px;\n",
    "  height: 45px;\n",
    "  margin-left: 12px;\n",
    "  margin-right: 12px;\n",
    "  border-radius: 30px;\n",
    "  overflow: hidden;\n",
    "  background-color:white;\n",
    "}\n",
    ".icon::before, .icon::after {\n",
    "  content: \"\";\n",
    "  position: absolute;\n",
    "  top: 0;\n",
    "  left: 0;\n",
    "  height: 100%;\n",
    "  width: 100%;\n",
    "  transition: all 0.25s ease;\n",
    "  border-radius: 30px;\n",
    "}\n",
    ".icon i {\n",
    "  position: relative;\n",
    "  color: #263133;\n",
    "  font-size: 24px;\n",
    "  margin-top: 10px;\n",
    "  transition: all 0.25s ease;\n",
    "}\n",
    "\n",
    ".icon-fill::before {\n",
    "  transition-duration: 0.7s;\n",
    "}\n",
    ".icon-fill:hover::before {\n",
    "  box-shadow: inset 0 0 0 60px #F48B34;\n",
    "    \n",
    "}\n",
    "</style>\n",
    "\n",
    "\n",
    "\n",
    "\n",
    "\n",
    "<body>\n",
    "<div class=back>\n",
    "<img src=\"Figures/v2.svg.png\" alt=\"Vertica logo\" width=\"200\">\n",
    "</div>\n",
    "<div class=\"navbar_0\" id=\"navbar_top\">\n",
    "\n",
    "  <div class=\"subnav\">\n",
    "    <div class=\"content_0\">\n",
    "      <div class=\"icon-container\">\n",
    "        <div class=\"icon icon-fill\" onclick=\"window.location.href = '/voila/render/demos/enablement/Data%20Science%20Essentials/Data_Science_Essentials.ipynb';\"><i class=\"fa fa-home\"></i></div>\n",
    "      </div>\n",
    "    </div>\n",
    "  </div>\n",
    "\n",
    "  <div class=\"subnav\">\n",
    "    <button class=\"subnavbtn\">Courses <i class=\"fa fa-caret-down\"></i></button>\n",
    "    <div class=\"subnav-content\">\n",
    "      <a href=\"/voila/render/demos/enablement/Data%20Science%20Essentials/Data_Science_Essentials.ipynb\">Data Science Essentials</a>\n",
    "\n",
    "    </div>\n",
    "  </div> \n",
    "  <div class=\"subnav\">\n",
    "    <button class=\"subnavbtn\">Documentation <i class=\"fa fa-caret-down\"></i></button>\n",
    "    <div class=\"subnav-content\">\n",
    "      <a href=\"https://www.vertica.com/python/documentation_last/vdataframe/\">vDataFrame</a>\n",
    "      <a href=\"https://www.vertica.com/python/documentation_last/vdataframe/plot.php\">Plots</a>\n",
    "      <a href=\"https://www.vertica.com/python/workshop/ml/\">Machine Learning</a>\n",
    "    </div>\n",
    "  </div> \n",
    "    <div class=\"subnav\">\n",
    "    <button class=\"subnavbtn\">Quick Examples <i class=\"fa fa-caret-down\"></i></button>\n",
    "    <div class=\"subnav-content\">\n",
    "      <a href=\"/voila/render/demos/enablement/Examples/Inference%20of%20geopolitical%20data/Example_Data_Wrangling_And_Analysis.ipynb\">Geopolitical Analysis</a>\n",
    "      <a href=\"https://www.vertica.com/python/examples/\">Business Applications</a>\n",
    "\n",
    "    </div>\n",
    "  </div> \n",
    "  <a href=\"https://www.vertica.com/contact-us/\">Contact</a>\n",
    "</div>\n",
    "</body>"
   ]
  },
  {
   "cell_type": "code",
   "execution_count": null,
   "id": "b1fec60f",
   "metadata": {},
   "outputs": [],
   "source": [
    "%%html\n",
    "<!--Style for correct and incorrect prompts-->\n",
    "<style>\n",
    "\n",
    ".correct-prompt {\n",
    "  font-family: \"Helvetica\", \"Arial\", sans-serif;\n",
    "  display: inline-block;\n",
    "  font-size: 17px;\n",
    "  background-color: green;\n",
    "  color: #fff;\n",
    "  border-radius: 4px;\n",
    "  position: relative;\n",
    "  box-shadow: 0 2px 25px rgba(25,163,97,0.75);\n",
    "  padding:5px;\n",
    "}\n",
    ".incorrect-prompt {\n",
    "  font-family: \"Helvetica\", \"Arial\", sans-serif;\n",
    "  display: inline-block;\n",
    "  font-size: 17px;\n",
    "  background-color: red;\n",
    "  color: #fff;\n",
    "  border-radius: 4px;\n",
    "  position: relative;\n",
    "  box-shadow: 0 2px 25px rgba(255, 0, 130, 0.5);\n",
    "  padding:5px;\n",
    "}  \n",
    "</style>"
   ]
  },
  {
   "cell_type": "code",
   "execution_count": null,
   "id": "8b0862f1",
   "metadata": {},
   "outputs": [],
   "source": [
    "# Defining a function for multiple choice widgets\n",
    "\n",
    "def create_multipleChoice_widget(options, correct_answer):\n",
    "    if correct_answer not in options:\n",
    "        options.append(correct_answer)\n",
    "    \n",
    "    correct_answer_index = options.index(correct_answer)\n",
    "    \n",
    "    radio_options = [(words, i) for i, words in enumerate(options)]\n",
    "    alternativ = widgets.RadioButtons(\n",
    "        options = radio_options,\n",
    "        description = '',\n",
    "        disabled = False\n",
    "    )\n",
    "    \n",
    "    description_out = widgets.Output()\n",
    "#    with description_out:\n",
    "#        print(description)\n",
    "        \n",
    "    feedback_out = widgets.Output()\n",
    "\n",
    "    def check_selection(b):\n",
    "        a = int(alternativ.value)\n",
    "        if a==correct_answer_index:\n",
    "            s = widgets.HTML('<div class=\"correct-prompt\">Correct!</div>')\n",
    "        else:\n",
    "            s = widgets.HTML('<div class=\"incorrect-prompt\">Try Again!</div>')\n",
    "        with feedback_out:\n",
    "            clear_output()\n",
    "            display(s)\n",
    "        return\n",
    "    \n",
    "    check = widgets.Button(description=\"submit\")\n",
    "    check.on_click(check_selection)\n",
    "    \n",
    "    \n",
    "    return widgets.VBox([description_out, alternativ, check, feedback_out])\n",
    "\n",
    "def create_numeric_widget(correct_answer):\n",
    "    \n",
    "    #correct_answer_index = options.index(correct_answer)\n",
    "    \n",
    "    #radio_options = [(words, i) for i, words in enumerate(options)]\n",
    "    alternativ = widgets.Text(\n",
    "        #options = radio_options,\n",
    "        #description = '',\n",
    "        disabled = False\n",
    "    )\n",
    "    \n",
    "    description_out = widgets.Output()\n",
    "#    with description_out:\n",
    "#        print(description)\n",
    "        \n",
    "    feedback_out = widgets.Output()\n",
    "\n",
    "    def check_selection(b):\n",
    "        try:\n",
    "            a = int(alternativ.value)\n",
    "        except ValueError:\n",
    "            a = float(alternativ.value)\n",
    "        if a==correct_answer:\n",
    "            s = widgets.HTML('<div class=\"correct-prompt\">Correct!</div>')\n",
    "        else:\n",
    "            s = widgets.HTML('<div class=\"incorrect-prompt\">Try Again!</div>')\n",
    "        with feedback_out:\n",
    "            clear_output()\n",
    "            display(s)\n",
    "        return\n",
    "    \n",
    "    check = widgets.Button(description=\"submit\")\n",
    "    check.on_click(check_selection)\n",
    "    \n",
    "    \n",
    "    return widgets.VBox([description_out, alternativ, check, feedback_out])"
   ]
  },
  {
   "cell_type": "code",
   "execution_count": null,
   "id": "dab1e034",
   "metadata": {},
   "outputs": [],
   "source": [
    "%%html\n",
    "<!--Module Button-->\n",
    "\n",
    "<style>\n",
    ".moduler{\n",
    "    box-shadow: 0px 15px 10px -15px #F48B34;  \n",
    "    font-size:30px;\n",
    "    color: blue;\n",
    "}\n",
    "    </style>\n",
    "    \n",
    "<div class=\"moduler\">\n",
    "  <a href=\"/voila/render/demos/enablement/Data%20Science%20Essentials/Module%20-%20Overview%20of%20Data%20science/Essentials_OverviewOfDataScience.ipynb\">\n",
    "    Overview of Data Science</a>\n",
    "</div>\n"
   ]
  },
  {
   "cell_type": "markdown",
   "id": "1eb61592",
   "metadata": {},
   "source": [
    "## Overview"
   ]
  },
  {
   "cell_type": "code",
   "execution_count": 4,
   "id": "8e5bc7f2",
   "metadata": {},
   "outputs": [
    {
     "data": {
      "text/html": [
       "<i class=\"fas fa-clock\" style='color:#F48B34'></i> Time in mins\n"
      ],
      "text/plain": [
       "<IPython.core.display.HTML object>"
      ]
     },
     "metadata": {},
     "output_type": "display_data"
    }
   ],
   "source": [
    "%%html\n",
    "<!--Time required-->\n",
    "<i class=\"fas fa-clock\" style='color:#F48B34;font-size:18px;'></i> 15 mins"
   ]
  },
  {
   "cell_type": "markdown",
   "id": "989fd8da",
   "metadata": {},
   "source": [
    "### Table of Contents\n",
    "\n",
    "- [Data Science](#h1_cell)\n",
    "- [Introduction to VerticaPy](#h2_cell)\n",
    " - [Vertica](#h3_cell)\n",
    " - [Creation of VerticaPy](#h4_cell)\n",
    " - [vDataFrame](#h5_cell)\n"
   ]
  },
  {
   "cell_type": "markdown",
   "id": "7a49c17e",
   "metadata": {},
   "source": [
    "Before we begin a deep dive into other focused subject matters, it is essential we get an overview of the topic of Data Science. Along with that, this lesson will also introduce VerticaPy for those who have not heard of it. "
   ]
  },
  {
   "cell_type": "markdown",
   "id": "e359fcc6",
   "metadata": {},
   "source": [
    "### What you will learn in this module?\n",
    "\n",
    "- What is Data Science?\n",
    "- What are some of the applications of Data Science?\n",
    "- What is VerticaPy?"
   ]
  },
  {
   "cell_type": "markdown",
   "id": "e4eae0c4",
   "metadata": {},
   "source": [
    "***"
   ]
  },
  {
   "cell_type": "markdown",
   "id": "e91b7444",
   "metadata": {},
   "source": [
    "<a id='h1_cell'></a>\n",
    "### Data Science\n"
   ]
  },
  {
   "cell_type": "markdown",
   "id": "7050ec65",
   "metadata": {},
   "source": [
    "Data Science is the the practice of analyzing data to draw insights, or to predict scenarios, using a wide range of methods. It spans the entire lifespan of data, from collecting, storing, manipulating, analyzing, all the way up till decision making.\n",
    "\n",
    "There are many advantages of Data Science for any organization including:\n",
    "\n",
    "- (i) **Informed Decisions:** Studying the data can give insights which can be helpful in making investment decisions. \n",
    "- (ii) **Predictive Analysis:** Based on other trends, forecasts can be made about future events.\n",
    "- (iii) **Pattern Discoveries:** By understanding patterns, groups of users can be segmented and targeted differently.\n",
    "- (iv) **Find Causal Relationships:** Sometimes organizations want to find the cause-effect relationships and separate them from mere associations."
   ]
  },
  {
   "cell_type": "code",
   "execution_count": null,
   "id": "53658b13",
   "metadata": {},
   "outputs": [],
   "source": [
    "file = open(\"Figures/fig_all.png\", \"rb\")\n",
    "image = file.read()\n",
    "\n",
    "image= widgets.Image(\n",
    "                    value=image,\n",
    "                    format='png',\n",
    "                    width='500px'\n",
    "                )\n",
    "display(image)"
   ]
  },
  {
   "cell_type": "markdown",
   "id": "311dcf05",
   "metadata": {},
   "source": [
    "<div class=\"alert alert-block alert-success\">\n",
    "    <b>Knowledge Check:</b> <i>Figuring out the optimum advertisement portfolio to increase sales</i> - in which category does it fall?\n",
    "</div>"
   ]
  },
  {
   "cell_type": "code",
   "execution_count": null,
   "id": "700d0b3c",
   "metadata": {},
   "outputs": [],
   "source": [
    "Q1 = create_multipleChoice_widget(['Informed Decisions','Predictive Analysis','Pattern Discovery'],'Informed Decisions')"
   ]
  },
  {
   "cell_type": "code",
   "execution_count": null,
   "id": "06818193",
   "metadata": {},
   "outputs": [],
   "source": [
    "display(Q1)"
   ]
  },
  {
   "cell_type": "markdown",
   "id": "9c1f8e5c",
   "metadata": {},
   "source": [
    "<br><br>"
   ]
  },
  {
   "cell_type": "markdown",
   "id": "3b2dd636",
   "metadata": {},
   "source": [
    "Data Science is generally a continuous process which can be listed as follows:\n",
    "\n",
    "- *Step 0:* Problem Question<p>Understanding the business problem and figuring out the right questions to answer from the data. This step is perhaps the most crucial step because if the problem is not understood correctly then a lot of time can be spent in vain.</p>\n",
    "- *Step 1:* Data Collection<p>In this step data is collected from different sources such as surveys, existing databases, sensors etc.</p>\n",
    "- *Step 2:* Data Ingestion/Storage<p>Data is transferred from all other sources and stored into a database.</p>\n",
    "- *Step 3:* Data Preparation<p>Data is thoroughly examined to find descrepancies, anomalies, missing values etc. They are then treated to <i>clean</i> the data.</p>\n",
    "- *Step 4:* Data Exploration<p>Data is visualized in different plots to understand the data and gain initial insights.</p>\n",
    "- *Step 5:* Model Building<p>Depending on the type of data and the problem question, models are built.</p>\n",
    "- *Step 6:* Deployment and Monitoring<p>The last phase is continuous as the model needs to be monitored and, if needed, adjusted as per the results in actual environment.</p>\n",
    "\n",
    "Most of these steps will be covered in some detail in the *Data Science Essentials* lesson series. "
   ]
  },
  {
   "cell_type": "markdown",
   "id": "953a3987",
   "metadata": {},
   "source": [
    "In order to make it more relatable, let us look at an example of Data Science application. One of the most common examples are the targeted ads that we come across on the internet. The ads seem to read our mind, whereas Data Science is not telepathy. It is only picking up cues from all the data about a user that is out there. Data Science is not restricted to business cases, but it is being increasingly used in almost all domains of our life; from schools to prisons, and from hospitals to military, data sciece is everywhere!\n",
    "\n",
    "Lastly, let us talk about the languages that people use for Data Science. Until recently, the most popular language for Data Science was R. But python is slowly taking over with its ever-increasing number of libraries. SQL is also heavily used in this domain, especially for relational databases which can be efficiently queried. "
   ]
  },
  {
   "cell_type": "markdown",
   "id": "3b946cb8",
   "metadata": {},
   "source": [
    "***"
   ]
  },
  {
   "cell_type": "markdown",
   "id": "3fd84ef3",
   "metadata": {},
   "source": [
    "<a id='h2_cell'></a>\n",
    "### Introduction to VerticaPy"
   ]
  },
  {
   "cell_type": "markdown",
   "id": "ae348a5c",
   "metadata": {},
   "source": [
    "Before we talk about VerticaPy, it is imperative that we know what Vertica is."
   ]
  },
  {
   "cell_type": "markdown",
   "id": "aae0e3ac",
   "metadata": {},
   "source": [
    "<a id='h3_cell'></a>\n",
    "#### Vertica"
   ]
  },
  {
   "cell_type": "markdown",
   "id": "0ef0675d",
   "metadata": {},
   "source": [
    "Taking up the analogy shared above, Vertica could be thought of as a place where data is stored and analyzed. But it is not just any data warehouse, Vertica is a columnar data storage platform designed to handle large volumes of data, which enables very fast query performance in traditionally intensive scenarios.\n",
    "\n",
    "However, Vertica is based on SQL. And SQL alone isn't flexible enough to meet the needs of data scientists. Python has quickly become the most popular tool in this domain, owing much of its flexibility to its high-level of abstraction and impressively large and ever-growing set of libraries. Its accessibility has led to the development of popular and perfomant APIs, like pandas and scikit-learn, and a dedicated community of data scientists. To answer this customer need, <a href=\"https://www.vertica.com/blog/author/eedd6a068c5959b7b46d/\">Badr Ouali</a>, who was an intern at the time, came up with an ingenious solution: VerticaPy."
   ]
  },
  {
   "cell_type": "code",
   "execution_count": null,
   "id": "92cbf75e",
   "metadata": {},
   "outputs": [],
   "source": [
    "file = open(\"Figures/logo_small.png\", \"rb\")\n",
    "image = file.read()\n",
    "\n",
    "image= widgets.Image(\n",
    "                    value=image,\n",
    "                    format='png',\n",
    "                    width='150px'\n",
    "                )\n",
    "display(image)"
   ]
  },
  {
   "cell_type": "markdown",
   "id": "65b20645",
   "metadata": {},
   "source": [
    "<a id='h4_cell'></a>\n",
    "#### VerticaPy"
   ]
  },
  {
   "cell_type": "markdown",
   "id": "25b6827c",
   "metadata": {},
   "source": [
    "In 2016, VerticaPy started as *Vertica ML Python* when Badr joined the scalability of Vertica with the flexibility of Python. It was designed to be a python wrapper for the SQL-based Vertica. VerticaPy was set-up as an <a href=\"https://github.com/vertica/VerticaPy\">open source project on GitHub</a> so that users can request for features, report bugs, and contribute as well. One of the first goals was to simplify Data Exploration and Data Modelling by incorporating the necessary backend-python. \n",
    "\n",
    "Upon seeing the customer response and adoption, Badr decided to extend it to much more, step by step. And gradually, almost all of the functions of Vertica are now available on Python. Not just that, but there are certain functions which are only available in VerticaPy with much more ease of use and flexibility. One such object is vDataFrame."
   ]
  },
  {
   "cell_type": "code",
   "execution_count": 2,
   "id": "a9b4dd97",
   "metadata": {
    "collapsed": true,
    "jupyter": {
     "outputs_hidden": true
    }
   },
   "outputs": [
    {
     "ename": "NameError",
     "evalue": "name 'widgets' is not defined",
     "output_type": "error",
     "traceback": [
      "\u001b[1;31m---------------------------------------------------------------------------\u001b[0m",
      "\u001b[1;31mNameError\u001b[0m                                 Traceback (most recent call last)",
      "Input \u001b[1;32mIn [2]\u001b[0m, in \u001b[0;36m<cell line: 4>\u001b[1;34m()\u001b[0m\n\u001b[0;32m      1\u001b[0m file \u001b[38;5;241m=\u001b[39m \u001b[38;5;28mopen\u001b[39m(\u001b[38;5;124m\"\u001b[39m\u001b[38;5;124mFigures/verticapy.png\u001b[39m\u001b[38;5;124m\"\u001b[39m, \u001b[38;5;124m\"\u001b[39m\u001b[38;5;124mrb\u001b[39m\u001b[38;5;124m\"\u001b[39m)\n\u001b[0;32m      2\u001b[0m image \u001b[38;5;241m=\u001b[39m file\u001b[38;5;241m.\u001b[39mread()\n\u001b[1;32m----> 4\u001b[0m image\u001b[38;5;241m=\u001b[39m \u001b[43mwidgets\u001b[49m\u001b[38;5;241m.\u001b[39mImage(\n\u001b[0;32m      5\u001b[0m                     value\u001b[38;5;241m=\u001b[39mimage,\n\u001b[0;32m      6\u001b[0m                     \u001b[38;5;28mformat\u001b[39m\u001b[38;5;241m=\u001b[39m\u001b[38;5;124m'\u001b[39m\u001b[38;5;124mpng\u001b[39m\u001b[38;5;124m'\u001b[39m,\n\u001b[0;32m      7\u001b[0m                     width\u001b[38;5;241m=\u001b[39m\u001b[38;5;124m'\u001b[39m\u001b[38;5;124m200px\u001b[39m\u001b[38;5;124m'\u001b[39m\n\u001b[0;32m      8\u001b[0m                 )\n\u001b[0;32m      9\u001b[0m display(image)\n",
      "\u001b[1;31mNameError\u001b[0m: name 'widgets' is not defined"
     ]
    }
   ],
   "source": [
    "file = open(\"Figures/verticapy.png\", \"rb\")\n",
    "image = file.read()\n",
    "\n",
    "image= widgets.Image(\n",
    "                    value=image,\n",
    "                    format='png',\n",
    "                    width='600px'\n",
    "                )\n",
    "display(image)"
   ]
  },
  {
   "cell_type": "markdown",
   "id": "7260ff10",
   "metadata": {},
   "source": [
    "<a id='h5_cell'></a>\n",
    "#### vDataFrame\n",
    "\n",
    "The <a href=\"https://www.vertica.com/python/documentation_last/vdataframe/\">Virtual DataFrame</a> is the main object and star of the library and acts as the perfect transition between small and Big Data. The principle is quite simple: As Vertica is a powerful columnar massive parallel processing (MPP) database with many built-in functions, we want it to do as much of the computation work as possible.\n",
    "\n",
    "Indeed, columnar orientation allows for high compression, and its structure inherently avoids unnecessary parsing when retrieving data. MPP allows to parallelize our computations accross the different nodes.\n",
    "\n",
    "The best way to take advantage of your data is by simply keeping it in your Vertica database, rather than within the limitations of the working memory. VerticaPy pushes all computation to your Vertica database before aggregating the final result, so you can get the best of both worlds: Vertica's power and Python's flexibility.\n",
    "\n",
    "With Python, it's easy to add abstractions, and the vDataFrame acts as the primary abstraction layer. Simple but powerful; it'll help any user through the data science life cycle.\n",
    "\n",
    "Check out all the efficient and easy-to-use operations of vDataFrame <a href=\"https://www.vertica.com/python/documentation_last/vdataframe/\">here</a>."
   ]
  },
  {
   "cell_type": "code",
   "execution_count": null,
   "id": "e3d23abb",
   "metadata": {},
   "outputs": [],
   "source": [
    "file = open(\"Figures/app_fig_1.png\", \"rb\")\n",
    "image = file.read()\n",
    "\n",
    "image= widgets.Image(\n",
    "                    value=image,\n",
    "                    format='png',\n",
    "                    width='500px'\n",
    "                )\n",
    "display(image)"
   ]
  },
  {
   "cell_type": "code",
   "execution_count": null,
   "id": "36dd0a83",
   "metadata": {},
   "outputs": [],
   "source": [
    "%%javascript\n",
    "// When the user scrolls the page, execute myFunction\n",
    "window.onscroll = function() {myFunction()};\n",
    "\n",
    "// Get the navbar\n",
    "var navbar = document.getElementById(\"navbar_top\");\n",
    "\n",
    "// Get the offset position of the navbar\n",
    "var sticky = navbar.offsetTop;\n",
    "\n",
    "// Add the sticky class to the navbar when you reach its scroll position. Remove \"sticky\" when you leave the scroll position\n",
    "function myFunction() {\n",
    "  if (window.pageYOffset >= sticky+140) {\n",
    "    navbar.classList.add(\"sticky\")\n",
    "  } else {\n",
    "    navbar.classList.remove(\"sticky\");\n",
    "  }\n",
    "  if (window.pageYOffset <= sticky) {\n",
    "    navbar.classList.remove(\"sticky\");\n",
    "  }\n",
    "}"
   ]
  },
  {
   "cell_type": "markdown",
   "id": "a6cf54bc",
   "metadata": {},
   "source": [
    "<html>\n",
    "<head>\n",
    "<meta name=\"viewport\" content=\"width=device-width, initial-scale=1\">\n",
    "<style>\n",
    "a {\n",
    "  text-decoration: none;\n",
    "  display: inline-block;\n",
    "  padding: 8px 16px;\n",
    "}\n",
    "\n",
    "a:hover {\n",
    "  background-color: #ddd;\n",
    "  color: black;\n",
    "}\n",
    "\n",
    ".previous {\n",
    "  background-color: #f1f1f1;\n",
    "  color: black;\n",
    "}\n",
    "\n",
    ".next {\n",
    "  background-color: #F48B34;\n",
    "  color: white;\n",
    "}\n",
    "\n",
    ".round {\n",
    "  border-radius: 50%;\n",
    "}\n",
    "</style>\n",
    "</head>\n",
    "<body>\n",
    "\n",
    "<a href=\"/voila/render/demos/enablement/Data%20Science%20Essentials/Module%20-%20Overview%20of%20Data%20science/Essentials_OverviewOfDataScience.ipynb\" font-size= 40px class=\"previous round\">&#8249;</a>\n",
    "<a href=\"/voila/render/demos/enablement/Data%20Science%20Essentials/Module%20-%20Data%20Ingestion/Essentials_DataIngestion.ipynb\" class=\"next round\">&#8250;</a>\n",
    "  \n",
    "</body>\n",
    "</html> "
   ]
  },
  {
   "cell_type": "markdown",
   "id": "c02f25ee",
   "metadata": {},
   "source": [
    "***"
   ]
  },
  {
   "cell_type": "markdown",
   "id": "ca2aa185",
   "metadata": {},
   "source": [
    "<font style=\"font-family:Calibri\"> Author Name: Umar Farooq Ghumman\n",
    "<br>\n",
    "Author Contact: umarfarooq.ghumman@vertica.com</font>"
   ]
  },
  {
   "cell_type": "markdown",
   "id": "185edfa5",
   "metadata": {},
   "source": [
    "### Resources\n",
    "\n",
    "- [<font size='2'>Why VerticaPy</font>](https://www.vertica.com/python/about.php)\n"
   ]
  }
 ],
 "metadata": {
  "kernelspec": {
   "display_name": "Python 3 (ipykernel)",
   "language": "python",
   "name": "python3"
  },
  "language_info": {
   "codemirror_mode": {
    "name": "ipython",
    "version": 3
   },
   "file_extension": ".py",
   "mimetype": "text/x-python",
   "name": "python",
   "nbconvert_exporter": "python",
   "pygments_lexer": "ipython3",
   "version": "3.9.12"
  }
 },
 "nbformat": 4,
 "nbformat_minor": 5
}
