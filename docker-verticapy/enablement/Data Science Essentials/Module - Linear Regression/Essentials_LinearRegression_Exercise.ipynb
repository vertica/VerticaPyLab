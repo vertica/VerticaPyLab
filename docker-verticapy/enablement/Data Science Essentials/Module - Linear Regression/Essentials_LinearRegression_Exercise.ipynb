{
 "cells": [
  {
   "cell_type": "code",
   "execution_count": 1,
   "id": "d8813b06",
   "metadata": {},
   "outputs": [],
   "source": [
    "import ipywidgets as widgets\n",
    "from IPython.display import display, clear_output"
   ]
  },
  {
   "cell_type": "code",
   "execution_count": 2,
   "id": "73c74fd4",
   "metadata": {},
   "outputs": [
    {
     "data": {
      "text/html": [
       "<!--The top Logo and the menu bar-->\n",
       "\n",
       "<head>\n",
       "<meta name=\"viewport\" content=\"width=device-width, initial-scale=1\">\n",
       "<style>\n",
       "body {\n",
       "  font-family: Arial, Helvetica, sans-serif;\n",
       "  margin: 0 0 0 0px;\n",
       "}\n",
       ".back{\n",
       "    height: 130px;\n",
       "    width: 100%;\n",
       "    background-color:#263133;\n",
       "    display: flex;\n",
       "    align-items: center;\n",
       "}\n",
       ".navbar_0 {\n",
       "  overflow: hidden;\n",
       "  background-color: #263133; \n",
       "  display: block;\n",
       "}\n",
       ".navbar_0 a {\n",
       "  float: left;\n",
       "  font-size: 16px;\n",
       "  color: white;\n",
       "  text-align: center;\n",
       "  padding: 14px 16px;\n",
       "  text-decoration: none;\n",
       "  overflow: visible;\n",
       "  display: inline-block;\n",
       "}\n",
       ".subnav {\n",
       "  float: left;\n",
       "  overflow: hidden;\n",
       "}\n",
       ".subnav .subnavbtn {\n",
       "  font-size: 16px;\n",
       "  border: none;\n",
       "  outline: none;\n",
       "  color: white;\n",
       "  padding: 14px 16px;\n",
       "  background-color: inherit;\n",
       "  font-family: inherit;\n",
       "  margin: 0;\n",
       "  position: relative;\n",
       "}\n",
       ".navbar_0 a:hover, .subnav:hover .subnavbtn {\n",
       "  position:relative;\n",
       "  display:inlije-block;\n",
       "  overflow:visible;\n",
       "  background-color: #F48B34;\n",
       "}\n",
       ".subnav-content {\n",
       "  display: none;\n",
       "  position: absolute;\n",
       "  left: 0;\n",
       "  background-color: #263133;\n",
       "  width: 100%;\n",
       "  z-index: 1;\n",
       "    border-style: solid;\n",
       "  border-color: white;\n",
       "    border-width:1px;\n",
       "}\n",
       ".subnav-content a {\n",
       "  float: left;\n",
       "  overflow:visible;\n",
       "  color: white;\n",
       "  text-decoration: none;\n",
       "}\n",
       ".subnav-content a:hover {\n",
       "  background-color: #F48B34;\n",
       "  color: black;\n",
       "}\n",
       ".subnav:hover .subnav-content {\n",
       "  display: block;\n",
       "}\n",
       "</style>\n",
       "</head>\n",
       "\n",
       "\n",
       "\n",
       "\n",
       "\n",
       "<style>\n",
       ".content_0 {\n",
       "  display: flex;\n",
       "  text-align: center;\n",
       "  vertical-align: middle;\n",
       "}\n",
       "\n",
       "\n",
       ".icon-container {\n",
       "  margin-top: 0px;\n",
       "  width: 100%;\n",
       "  height: 70px;\n",
       "}\n",
       "\n",
       ".icon {\n",
       "  cursor: pointer;\n",
       "  position: relative;\n",
       "  display: inline-block;\n",
       "  width: 45px;\n",
       "  height: 45px;\n",
       "  margin-left: 12px;\n",
       "  margin-right: 12px;\n",
       "  border-radius: 30px;\n",
       "  overflow: hidden;\n",
       "  background-color:white;\n",
       "}\n",
       ".icon::before, .icon::after {\n",
       "  content: \"\";\n",
       "  position: absolute;\n",
       "  top: 0;\n",
       "  left: 0;\n",
       "  height: 100%;\n",
       "  width: 100%;\n",
       "  transition: all 0.25s ease;\n",
       "  border-radius: 30px;\n",
       "}\n",
       ".icon i {\n",
       "  position: relative;\n",
       "  color: #263133;\n",
       "  font-size: 24px;\n",
       "  margin-top: 10px;\n",
       "  transition: all 0.25s ease;\n",
       "}\n",
       "\n",
       ".icon-fill::before {\n",
       "  transition-duration: 0.7s;\n",
       "}\n",
       ".icon-fill:hover::before {\n",
       "  box-shadow: inset 0 0 0 60px #F48B34;\n",
       "    \n",
       "}\n",
       "</style>\n",
       "\n",
       "\n",
       "\n",
       "\n",
       "\n",
       "<body>\n",
       "<div class=back>\n",
       "<img src=\"Figures/v2.svg.png\" alt=\"Vertica logo\" width=\"300\">\n",
       "</div>\n",
       "<div class=\"navbar_0\">\n",
       "\n",
       "  <div class=\"subnav\">\n",
       "    <div class=\"content_0\">\n",
       "      <div class=\"icon-container\">\n",
       "        <div class=\"icon icon-fill\" onclick=\"window.location.href = '/voila/render/demos/enablement/Template/Course_Page_v1.ipynb';\"><i class=\"fa fa-home\"></i></div>\n",
       "      </div>\n",
       "    </div>\n",
       "  </div>\n",
       "\n",
       "  <div class=\"subnav\">\n",
       "    <button class=\"subnavbtn\">Courses <i class=\"fa fa-caret-down\"></i></button>\n",
       "    <div class=\"subnav-content\">\n",
       "      <a href=\"#\">Course 1</a>\n",
       "      <a href=\"#\">Course 2</a>\n",
       "      <a href=\"#\">Course 3</a>\n",
       "    </div>\n",
       "  </div> \n",
       "  <div class=\"subnav\">\n",
       "    <button class=\"subnavbtn\">Documentation <i class=\"fa fa-caret-down\"></i></button>\n",
       "    <div class=\"subnav-content\">\n",
       "      <a href=\"#\">Topic 1</a>\n",
       "      <a href=\"#\">Topic 2</a>\n",
       "      <a href=\"#\">Topic 3</a>\n",
       "    </div>\n",
       "  </div> \n",
       "    <div class=\"subnav\">\n",
       "    <button class=\"subnavbtn\">Quick Examples <i class=\"fa fa-caret-down\"></i></button>\n",
       "    <div class=\"subnav-content\">\n",
       "      <a href=\"#\">Example 1</a>\n",
       "      <a href=\"#\">Example 2</a>\n",
       "      <a href=\"#\">Example 3 3</a>\n",
       "    </div>\n",
       "  </div> \n",
       "  <a href=\"#contact\">Contact</a>\n",
       "</div>\n",
       "</body>\n"
      ],
      "text/plain": [
       "<IPython.core.display.HTML object>"
      ]
     },
     "metadata": {},
     "output_type": "display_data"
    }
   ],
   "source": [
    "%%html\n",
    "<!--The top Logo and the menu bar-->\n",
    "\n",
    "<head>\n",
    "<meta name=\"viewport\" content=\"width=device-width, initial-scale=1\">\n",
    "<style>\n",
    "body {\n",
    "  font-family: Arial, Helvetica, sans-serif;\n",
    "  margin: 0px 0px 0px 0px;\n",
    "}\n",
    ".back{\n",
    "    height: 90px;\n",
    "    width: 100%;\n",
    "    background-color:#263133;\n",
    "    display: flex;\n",
    "    align-items: center;\n",
    "}\n",
    ".navbar_0 {\n",
    "  overflow: hidden;\n",
    "  background-color: #263133; \n",
    "  display: block;\n",
    "  z-index: 2;\n",
    "}\n",
    ".navbar_0 a {\n",
    "  float: left;\n",
    "  font-size: 16px;\n",
    "  color: white;\n",
    "  text-align: center;\n",
    "  padding: 14px 16px;\n",
    "  text-decoration: none;\n",
    "  overflow: visible;\n",
    "  display: inline-block;\n",
    "  z-index: 2;\n",
    "}\n",
    ".subnav {\n",
    "  float: left;\n",
    "  display:inline-block;\n",
    "  overflow: visible;\n",
    "}\n",
    ".subnav .subnavbtn {\n",
    "  font-size: 16px;\n",
    "  border: none;\n",
    "  outline: none;\n",
    "  color: white;\n",
    "  padding: 14px 16px;\n",
    "  background-color: inherit;\n",
    "  font-family: inherit;\n",
    "  margin: 0;\n",
    "  position: relative;\n",
    "}\n",
    ".navbar_0 a:hover, .subnav:hover .subnavbtn {\n",
    "  position:relative;\n",
    "  display:inline-block;\n",
    "  overflow:visible;\n",
    "  background-color: #F48B34;\n",
    "}\n",
    ".subnav-content {\n",
    "  display: none;\n",
    "  overflow: visible;\n",
    "  position: absolute;\n",
    "  left: 0;\n",
    "  background-color: #263133;\n",
    "  width: 100%;\n",
    "  z-index: 3;\n",
    "  border-style: solid;\n",
    "  border-color: white;\n",
    "  border-width:1px;\n",
    "    \n",
    "}\n",
    ".subnav-content a {\n",
    "  float: left;\n",
    "  overflow:visible;\n",
    "  color: white;\n",
    "  text-decoration: none;\n",
    "}\n",
    ".subnav-content a:hover {\n",
    "  background-color: #F48B34;\n",
    "  color: black;\n",
    "}\n",
    ".subnav:hover .subnav-content {\n",
    "  display: block;\n",
    "}\n",
    ".sticky {\n",
    "  position: fixed;\n",
    "  top: 0;\n",
    "  width: 100%;\n",
    "  overflow: visible;\n",
    "}\n",
    "\n",
    ".sticky + .content {\n",
    "  padding-top: 10px;\n",
    "}\n",
    ".sticky_2 {\n",
    "  position: relative;\n",
    "  top: 0;\n",
    "  width: 100%;\n",
    "}\n",
    "</style>\n",
    "</head>\n",
    "\n",
    "<style>\n",
    ".content_0 {\n",
    "  display: flex;\n",
    "  text-align: center;\n",
    "  vertical-align: middle;\n",
    "}\n",
    "\n",
    "\n",
    ".icon-container {\n",
    "  margin-top: 0px;\n",
    "  width: 100%;\n",
    "  height: 70px;\n",
    "}\n",
    "\n",
    ".icon {\n",
    "  cursor: pointer;\n",
    "  position: relative;\n",
    "  display: inline-block;\n",
    "  width: 45px;\n",
    "  height: 45px;\n",
    "  margin-left: 12px;\n",
    "  margin-right: 12px;\n",
    "  border-radius: 30px;\n",
    "  overflow: hidden;\n",
    "  background-color:white;\n",
    "}\n",
    ".icon::before, .icon::after {\n",
    "  content: \"\";\n",
    "  position: absolute;\n",
    "  top: 0;\n",
    "  left: 0;\n",
    "  height: 100%;\n",
    "  width: 100%;\n",
    "  transition: all 0.25s ease;\n",
    "  border-radius: 30px;\n",
    "}\n",
    ".icon i {\n",
    "  position: relative;\n",
    "  color: #263133;\n",
    "  font-size: 24px;\n",
    "  margin-top: 10px;\n",
    "  transition: all 0.25s ease;\n",
    "}\n",
    "\n",
    ".icon-fill::before {\n",
    "  transition-duration: 0.7s;\n",
    "}\n",
    ".icon-fill:hover::before {\n",
    "  box-shadow: inset 0 0 0 60px #F48B34;\n",
    "    \n",
    "}\n",
    "</style>\n",
    "\n",
    "\n",
    "\n",
    "\n",
    "\n",
    "<body>\n",
    "<div class=back>\n",
    "<img src=\"Figures/v2.svg.png\" alt=\"Vertica logo\" width=\"200\">\n",
    "</div>\n",
    "<div class=\"navbar_0\" id=\"navbar_top\">\n",
    "\n",
    "  <div class=\"subnav\">\n",
    "    <div class=\"content_0\">\n",
    "      <div class=\"icon-container\">\n",
    "        <div class=\"icon icon-fill\" onclick=\"window.location.href = '/voila/render/demos/enablement/Data%20Science%20Essentials/Data_Science_Essentials.ipynb';\"><i class=\"fa fa-home\"></i></div>\n",
    "      </div>\n",
    "    </div>\n",
    "  </div>\n",
    "\n",
    "  <div class=\"subnav\">\n",
    "    <button class=\"subnavbtn\">Courses <i class=\"fa fa-caret-down\"></i></button>\n",
    "    <div class=\"subnav-content\">\n",
    "      <a href=\"/voila/render/demos/enablement/Data%20Science%20Essentials/Data_Science_Essentials.ipynb\">Data Science Essentials</a>\n",
    "\n",
    "    </div>\n",
    "  </div> \n",
    "  <div class=\"subnav\">\n",
    "    <button class=\"subnavbtn\">Documentation <i class=\"fa fa-caret-down\"></i></button>\n",
    "    <div class=\"subnav-content\">\n",
    "      <a href=\"https://www.vertica.com/python/documentation_last/vdataframe/\">vDataFrame</a>\n",
    "      <a href=\"https://www.vertica.com/python/documentation_last/vdataframe/plot.php\">Plots</a>\n",
    "      <a href=\"https://www.vertica.com/python/workshop/ml/\">Machine Learning</a>\n",
    "    </div>\n",
    "  </div> \n",
    "    <div class=\"subnav\">\n",
    "    <button class=\"subnavbtn\">Quick Examples <i class=\"fa fa-caret-down\"></i></button>\n",
    "    <div class=\"subnav-content\">\n",
    "      <a href=\"/voila/render/demos/enablement/Examples/Inference%20of%20geopolitical%20data/Example_Data_Wrangling_And_Analysis.ipynb\">Geopolitical Analysis</a>\n",
    "      <a href=\"https://www.vertica.com/python/examples/\">Business Applications</a>\n",
    "\n",
    "    </div>\n",
    "  </div> \n",
    "  <a href=\"https://www.vertica.com/contact-us/\">Contact</a>\n",
    "</div>\n",
    "</body>"
   ]
  },
  {
   "cell_type": "code",
   "execution_count": 3,
   "id": "8b0862f1",
   "metadata": {},
   "outputs": [
    {
     "data": {
      "text/html": [
       "<!--Style for correct and incorrect prompts-->\n",
       "<style>\n",
       "\n",
       ".correct-prompt {\n",
       "  font-family: \"Helvetica\", \"Arial\", sans-serif;\n",
       "  display: inline-block;\n",
       "  font-size: 17px;\n",
       "  background-color: green;\n",
       "  color: #fff;\n",
       "  border-radius: 4px;\n",
       "  position: relative;\n",
       "  box-shadow: 0 2px 25px rgba(25,163,97,0.75);\n",
       "  padding:5px;\n",
       "}\n",
       ".incorrect-prompt {\n",
       "  font-family: \"Helvetica\", \"Arial\", sans-serif;\n",
       "  display: inline-block;\n",
       "  font-size: 17px;\n",
       "  background-color: red;\n",
       "  color: #fff;\n",
       "  border-radius: 4px;\n",
       "  position: relative;\n",
       "  box-shadow: 0 2px 25px rgba(255, 0, 130, 0.5);\n",
       "  padding:5px;\n",
       "}  \n",
       "</style>\n"
      ],
      "text/plain": [
       "<IPython.core.display.HTML object>"
      ]
     },
     "metadata": {},
     "output_type": "display_data"
    }
   ],
   "source": [
    "%%html\n",
    "<!--Style for correct and incorrect prompts-->\n",
    "<style>\n",
    "\n",
    ".correct-prompt {\n",
    "  font-family: \"Helvetica\", \"Arial\", sans-serif;\n",
    "  display: inline-block;\n",
    "  font-size: 17px;\n",
    "  background-color: green;\n",
    "  color: #fff;\n",
    "  border-radius: 4px;\n",
    "  position: relative;\n",
    "  box-shadow: 0 2px 25px rgba(25,163,97,0.75);\n",
    "  padding:5px;\n",
    "}\n",
    ".incorrect-prompt {\n",
    "  font-family: \"Helvetica\", \"Arial\", sans-serif;\n",
    "  display: inline-block;\n",
    "  font-size: 17px;\n",
    "  background-color: red;\n",
    "  color: #fff;\n",
    "  border-radius: 4px;\n",
    "  position: relative;\n",
    "  box-shadow: 0 2px 25px rgba(255, 0, 130, 0.5);\n",
    "  padding:5px;\n",
    "}  \n",
    "</style>"
   ]
  },
  {
   "cell_type": "code",
   "execution_count": 4,
   "id": "cef26fd2",
   "metadata": {},
   "outputs": [],
   "source": [
    "# Defining a function for multiple choice widgets\n",
    "\n",
    "def create_multipleChoice_widget(options, correct_answer):\n",
    "    if correct_answer not in options:\n",
    "        options.append(correct_answer)\n",
    "    \n",
    "    correct_answer_index = options.index(correct_answer)\n",
    "    \n",
    "    radio_options = [(words, i) for i, words in enumerate(options)]\n",
    "    alternativ = widgets.RadioButtons(\n",
    "        options = radio_options,\n",
    "        description = '',\n",
    "        disabled = False\n",
    "    )\n",
    "    \n",
    "    description_out = widgets.Output()\n",
    "#    with description_out:\n",
    "#        print(description)\n",
    "        \n",
    "    feedback_out = widgets.Output()\n",
    "\n",
    "    def check_selection(b):\n",
    "        a = int(alternativ.value)\n",
    "        if a==correct_answer_index:\n",
    "            s = widgets.HTML('<div class=\"correct-prompt\">Correct!</div>')\n",
    "        else:\n",
    "            s = widgets.HTML('<div class=\"incorrect-prompt\">Try Again!</div>')\n",
    "        with feedback_out:\n",
    "            clear_output()\n",
    "            display(s)\n",
    "        return\n",
    "    \n",
    "    check = widgets.Button(description=\"submit\")\n",
    "    check.on_click(check_selection)\n",
    "    \n",
    "    \n",
    "    return widgets.VBox([description_out, alternativ, check, feedback_out])\n",
    "\n",
    "def create_numeric_widget(correct_answer):\n",
    "    \n",
    "    #correct_answer_index = options.index(correct_answer)\n",
    "    \n",
    "    #radio_options = [(words, i) for i, words in enumerate(options)]\n",
    "    alternativ = widgets.Text(\n",
    "        #options = radio_options,\n",
    "        #description = '',\n",
    "        disabled = False\n",
    "    )\n",
    "    \n",
    "    description_out = widgets.Output()\n",
    "#    with description_out:\n",
    "#        print(description)\n",
    "        \n",
    "    feedback_out = widgets.Output()\n",
    "\n",
    "    def check_selection(b):\n",
    "        try:\n",
    "            a = int(alternativ.value)\n",
    "        except ValueError:\n",
    "            a = float(alternativ.value)\n",
    "        if a==correct_answer:\n",
    "            s = widgets.HTML('<div class=\"correct-prompt\">Correct!</div>')\n",
    "        else:\n",
    "            s = widgets.HTML('<div class=\"incorrect-prompt\">Try Again!</div>')\n",
    "        with feedback_out:\n",
    "            clear_output()\n",
    "            display(s)\n",
    "        return\n",
    "    \n",
    "    check = widgets.Button(description=\"submit\")\n",
    "    check.on_click(check_selection)\n",
    "    \n",
    "    \n",
    "    return widgets.VBox([description_out, alternativ, check, feedback_out])"
   ]
  },
  {
   "cell_type": "code",
   "execution_count": 5,
   "id": "ea96c6bf",
   "metadata": {},
   "outputs": [
    {
     "data": {
      "text/html": [
       "<!--Module Button-->\n",
       "<style>\n",
       ".moduler{\n",
       "    box-shadow: 0px 15px 10px -15px #F48B34;  \n",
       "    font-size:30px;\n",
       "    color: blue;\n",
       "}\n",
       "    </style>\n",
       "    \n",
       "<div class=\"moduler\">\n",
       "  <a href=\"/voila/render/demos/enablement/Data%20Science%20Essentials/Module%20-%20Linear%20Regression/Essentials_LinearRegression.ipynb\">\n",
       "    Linear Regression</a>\n",
       "</div>\n"
      ],
      "text/plain": [
       "<IPython.core.display.HTML object>"
      ]
     },
     "metadata": {},
     "output_type": "display_data"
    }
   ],
   "source": [
    "%%html\n",
    "<!--Module Button-->\n",
    "\n",
    "<style>\n",
    ".moduler{\n",
    "    box-shadow: 0px 15px 10px -15px #F48B34;  \n",
    "    font-size:30px;\n",
    "    color: blue;\n",
    "}\n",
    "    </style>\n",
    "    \n",
    "<div class=\"moduler\">\n",
    "  <a href=\"/voila/render/demos/enablement/Data%20Science%20Essentials/Module%20-%20Linear%20Regression/Essentials_LinearRegression.ipynb\">\n",
    "    Linear Regression</a>\n",
    "</div>\n"
   ]
  },
  {
   "cell_type": "markdown",
   "id": "1eb61592",
   "metadata": {},
   "source": [
    "## Exercise"
   ]
  },
  {
   "cell_type": "code",
   "execution_count": 6,
   "id": "e239bfb2",
   "metadata": {},
   "outputs": [
    {
     "data": {
      "text/html": [
       "<!--Time required-->\n",
       "<i class=\"fas fa-clock\" style='color:#F48B34;font-size:18px;'></i> 15 mins\n"
      ],
      "text/plain": [
       "<IPython.core.display.HTML object>"
      ]
     },
     "metadata": {},
     "output_type": "display_data"
    }
   ],
   "source": [
    "%%html\n",
    "<!--Time required-->\n",
    "<i class=\"fas fa-clock\" style='color:#F48B34;font-size:18px;'></i> 15 mins"
   ]
  },
  {
   "cell_type": "markdown",
   "id": "7a49c17e",
   "metadata": {},
   "source": [
    "The following exercise uses linear regression with VerticaPy to solve data science problems."
   ]
  },
  {
   "cell_type": "markdown",
   "id": "e4eae0c4",
   "metadata": {},
   "source": [
    "***"
   ]
  },
  {
   "cell_type": "markdown",
   "id": "e91b7444",
   "metadata": {},
   "source": [
    "<a id='h1_cell'></a>\n",
    "### Visualizing Data\n",
    "\n",
    "Download the [Auto dataset](https://r-data.pmagunia.com/system/files/datasets/dataset-38913.csv) with the following:\n",
    "\n",
    "```Python\n",
    "import requests\n",
    "URL =\"https://r-data.pmagunia.com/system/files/datasets/dataset-38913.csv\"\n",
    "response = requests.get(URL)\n",
    "open(\"data.csv\", \"wb\").write(response.content)\n",
    "```"
   ]
  },
  {
   "cell_type": "code",
   "execution_count": 7,
   "id": "4e6614e6",
   "metadata": {
    "scrolled": true
   },
   "outputs": [
    {
     "data": {
      "application/vnd.jupyter.widget-view+json": {
       "model_id": "2f477e07960944719da2741097d84332",
       "version_major": 2,
       "version_minor": 0
      },
      "text/plain": [
       "VBox(children=(HTML(value=\"<font size='3'><b> Question 1: </b> Looking at the scatter matrix, which combinatio…"
      ]
     },
     "metadata": {},
     "output_type": "display_data"
    }
   ],
   "source": [
    "text_1 = widgets.HTML(value=\"<font size='3'><b> Question 1: </b> Looking at the scatter matrix, which combination of features look linearly correlated? </font>\")\n",
    "Q1 = create_multipleChoice_widget(['Weight & Year','Horsepower & MPG','Weight & Displacement','Acceleration & MPG'],'Weight & Displacement')\n",
    "display(widgets.VBox([text_1,Q1]))"
   ]
  },
  {
   "cell_type": "code",
   "execution_count": 8,
   "id": "30817d65",
   "metadata": {
    "scrolled": true
   },
   "outputs": [
    {
     "data": {
      "application/vnd.jupyter.widget-view+json": {
       "model_id": "93e40dc81efe4a1993c91241d90cc1e1",
       "version_major": 2,
       "version_minor": 0
      },
      "text/plain": [
       "VBox(children=(HTML(value=\"<font size='3'><b> Question 2: </b> Based on our understanding of the assumptions o…"
      ]
     },
     "metadata": {},
     "output_type": "display_data"
    }
   ],
   "source": [
    "text_1 = widgets.HTML(value=\"<font size='3'><b> Question 2: </b> Based on the understanding of the assumptions of linear regression, can the above selected pair be used as features together in a linear regression model?\")\n",
    "Q1 = create_multipleChoice_widget(['Yes','No'],'No')\n",
    "display(widgets.VBox([text_1,Q1]))"
   ]
  },
  {
   "cell_type": "code",
   "execution_count": 9,
   "id": "733023c3",
   "metadata": {
    "scrolled": false
   },
   "outputs": [
    {
     "data": {
      "application/vnd.jupyter.widget-view+json": {
       "model_id": "27e58b8792a5427e86203970f1c2af34",
       "version_major": 2,
       "version_minor": 0
      },
      "text/plain": [
       "VBox(children=(HTML(value=\"<font size='3'><b> Question 3: </b> How many total datapoints do we have in the dat…"
      ]
     },
     "metadata": {},
     "output_type": "display_data"
    }
   ],
   "source": [
    "text_2 = widgets.HTML(value=\"<font size='3'><b> Question 3: </b> How many total datapoints do we have in the dataset?</font>\")\n",
    "Q2 = create_numeric_widget(392)\n",
    "display(widgets.VBox([text_2,Q2]))"
   ]
  },
  {
   "cell_type": "code",
   "execution_count": 10,
   "id": "0d276534",
   "metadata": {
    "scrolled": true
   },
   "outputs": [
    {
     "data": {
      "application/vnd.jupyter.widget-view+json": {
       "model_id": "198f9c7567444d5c954b762010b03b39",
       "version_major": 2,
       "version_minor": 0
      },
      "text/plain": [
       "VBox(children=(HTML(value=\"<font size='3'><b> Question 4: </b> What is Spearman's rank correlation coefficient…"
      ]
     },
     "metadata": {},
     "output_type": "display_data"
    }
   ],
   "source": [
    "text_2 = widgets.HTML(value=\"<font size='3'><b> Question 4: </b> What is Spearman's rank correlation coefficient between Origin & Year (to three significant figures)?</font>\")\n",
    "Q2 = create_numeric_widget(0.158)\n",
    "display(widgets.VBox([text_2,Q2]))"
   ]
  },
  {
   "cell_type": "code",
   "execution_count": 11,
   "id": "7f963edd",
   "metadata": {},
   "outputs": [
    {
     "data": {
      "application/vnd.jupyter.widget-view+json": {
       "model_id": "279d1251e5d748d9920ea0f8318ab175",
       "version_major": 2,
       "version_minor": 0
      },
      "text/plain": [
       "VBox(children=(HTML(value=\"<font size='3'><b> Question 5: </b> Based on our understanding of the assumptions o…"
      ]
     },
     "metadata": {},
     "output_type": "display_data"
    }
   ],
   "source": [
    "text_1 = widgets.HTML(value=\"<font size='3'><b> Question 5: </b> Based on our understanding of the assumptions of linear regresion, can the above selected pair be used as features together in a linear regression model?\")\n",
    "Q1 = create_multipleChoice_widget(['Yes','No'],'Yes')\n",
    "display(widgets.VBox([text_1,Q1]))"
   ]
  },
  {
   "cell_type": "markdown",
   "id": "3b946cb8",
   "metadata": {},
   "source": [
    "***"
   ]
  },
  {
   "cell_type": "markdown",
   "id": "3fd84ef3",
   "metadata": {},
   "source": [
    "<a id='h2_cell'></a>\n",
    "### Model Building\n",
    "\n"
   ]
  },
  {
   "cell_type": "code",
   "execution_count": 12,
   "id": "589218ac",
   "metadata": {
    "scrolled": false
   },
   "outputs": [
    {
     "data": {
      "application/vnd.jupyter.widget-view+json": {
       "model_id": "5f546931abbb438585ba48ed6a283ecb",
       "version_major": 2,
       "version_minor": 0
      },
      "text/plain": [
       "VBox(children=(HTML(value=\"<font size='3'><b> Question 1: </b> With Acceleration, Year, and Cylinders as input…"
      ]
     },
     "metadata": {},
     "output_type": "display_data"
    }
   ],
   "source": [
    "text_1 = widgets.HTML(value=\"<font size='3'><b> Question 1: </b> With Acceleration, Year, and Cylinders as inputs and MPG as output, which feature has the highest p-values in a linear regression model?</font>\")\n",
    "Q1 = create_multipleChoice_widget(['Cylinders','Acceleration','MPG'],'Acceleration')\n",
    "display(widgets.VBox([text_1,Q1]))"
   ]
  },
  {
   "cell_type": "code",
   "execution_count": 13,
   "id": "b7a3a8ef",
   "metadata": {
    "scrolled": true
   },
   "outputs": [
    {
     "data": {
      "application/vnd.jupyter.widget-view+json": {
       "model_id": "c5b4c58862654b118c538f8d14659f20",
       "version_major": 2,
       "version_minor": 0
      },
      "text/plain": [
       "VBox(children=(HTML(value=\"<font size='3'><b> Question 2: </b> What is the p-value for cylinders? </font>\"), V…"
      ]
     },
     "metadata": {},
     "output_type": "display_data"
    }
   ],
   "source": [
    "text_2 = widgets.HTML(value=\"<font size='3'><b> Question 2: </b> What is the p-value for cylinders? </font>\")\n",
    "Q2 = create_numeric_widget(0)\n",
    "display(widgets.VBox([text_2,Q2]))"
   ]
  },
  {
   "cell_type": "code",
   "execution_count": 14,
   "id": "80007971",
   "metadata": {},
   "outputs": [
    {
     "data": {
      "application/vnd.jupyter.widget-view+json": {
       "model_id": "6880ca59554a47f5b02c7848334e9580",
       "version_major": 2,
       "version_minor": 0
      },
      "text/plain": [
       "VBox(children=(HTML(value=\"<font size='3'><b> Question 3: </b> What is the R-squared value of the model above …"
      ]
     },
     "metadata": {},
     "output_type": "display_data"
    }
   ],
   "source": [
    "text_2 = widgets.HTML(value=\"<font size='3'><b> Question 3: </b> What is the R-squared value of the model above (up to three significant figures)? </font>\")\n",
    "Q2 = create_numeric_widget(0.715)\n",
    "display(widgets.VBox([text_2,Q2]))"
   ]
  },
  {
   "cell_type": "code",
   "execution_count": 15,
   "id": "351950cb",
   "metadata": {},
   "outputs": [
    {
     "data": {
      "application/vnd.jupyter.widget-view+json": {
       "model_id": "6fbdb0b532d44e078f9d1a4e13aee5c1",
       "version_major": 2,
       "version_minor": 0
      },
      "text/plain": [
       "VBox(children=(HTML(value=\"<font size='3'><b> Question 4: </b> What is the new R-squared value if Acceleration…"
      ]
     },
     "metadata": {},
     "output_type": "display_data"
    }
   ],
   "source": [
    "text_2 = widgets.HTML(value=\"<font size='3'><b> Question 4: </b> What is the new R-squared value if Acceleration is removed from the input (upto three significant figures)? </font>\")\n",
    "Q2 = create_numeric_widget(0.715)\n",
    "display(widgets.VBox([text_2,Q2]))"
   ]
  },
  {
   "cell_type": "code",
   "execution_count": 16,
   "id": "4501fb90",
   "metadata": {},
   "outputs": [
    {
     "data": {
      "application/vnd.jupyter.widget-view+json": {
       "model_id": "98756f8ec0944d79a94f484818120a14",
       "version_major": 2,
       "version_minor": 0
      },
      "text/plain": [
       "VBox(children=(HTML(value=\"<font size='3'><b> Question 5: </b> Based on the two answers above, should you incl…"
      ]
     },
     "metadata": {},
     "output_type": "display_data"
    }
   ],
   "source": [
    "text_1 = widgets.HTML(value=\"<font size='3'><b> Question 5: </b> Based on the two answers above, should you include Acceleration?\")\n",
    "Q1 = create_multipleChoice_widget(['Yes','No'],'No')\n",
    "display(widgets.VBox([text_1,Q1]))"
   ]
  },
  {
   "cell_type": "code",
   "execution_count": null,
   "id": "55d6cbcc",
   "metadata": {},
   "outputs": [],
   "source": [
    "%%javascript\n",
    "// When the user scrolls the page, execute myFunction\n",
    "window.onscroll = function() {myFunction()};\n",
    "\n",
    "// Get the navbar\n",
    "var navbar = document.getElementById(\"navbar_top\");\n",
    "\n",
    "// Get the offset position of the navbar\n",
    "var sticky = navbar.offsetTop;\n",
    "\n",
    "// Add the sticky class to the navbar when you reach its scroll position. Remove \"sticky\" when you leave the scroll position\n",
    "function myFunction() {\n",
    "  if (window.pageYOffset >= sticky+140) {\n",
    "    navbar.classList.add(\"sticky\")\n",
    "  } else {\n",
    "    navbar.classList.remove(\"sticky\");\n",
    "  }\n",
    "  if (window.pageYOffset <= sticky) {\n",
    "    navbar.classList.remove(\"sticky\");\n",
    "  }\n",
    "}"
   ]
  },
  {
   "cell_type": "markdown",
   "id": "6bdd6362",
   "metadata": {},
   "source": [
    "<html>\n",
    "<head>\n",
    "<meta name=\"viewport\" content=\"width=device-width, initial-scale=1\">\n",
    "<style>\n",
    "a {\n",
    "  text-decoration: none;\n",
    "  display: inline-block;\n",
    "  padding: 8px 16px;\n",
    "}\n",
    "\n",
    "a:hover {\n",
    "  background-color: #ddd;\n",
    "  color: black;\n",
    "}\n",
    "\n",
    ".previous {\n",
    "  background-color: #f1f1f1;\n",
    "  color: black;\n",
    "}\n",
    "\n",
    ".next {\n",
    "  background-color: #F48B34;\n",
    "  color: white;\n",
    "}\n",
    "\n",
    ".round {\n",
    "  border-radius: 50%;\n",
    "}\n",
    "</style>\n",
    "</head>\n",
    "<body>\n",
    "\n",
    "<a href=\"/voila/render/demos/enablement/Data%20Science%20Essentials/Module%20-%20Linear%20Regression/Essentials_LinearRegression_Example.ipynb\" font-size= 40px class=\"previous round\">&#8249;</a>\n",
    "<a href=\"/voila/render/demos/enablement/Data%20Science%20Essentials/Module%20-%20Classification/Essentials_Classification.ipynb\" class=\"next round\">&#8250;</a>\n",
    "  \n",
    "</body>\n",
    "</html> "
   ]
  },
  {
   "cell_type": "markdown",
   "id": "c02f25ee",
   "metadata": {},
   "source": [
    "***"
   ]
  },
  {
   "cell_type": "markdown",
   "id": "ca2aa185",
   "metadata": {},
   "source": [
    "<font style=\"font-family:Calibri\"> Author Name: Umar Farooq Ghumman\n",
    "<br>\n",
    "Author Contact: umarfarooq.ghumman@vertica.com</font>"
   ]
  },
  {
   "cell_type": "markdown",
   "id": "185edfa5",
   "metadata": {},
   "source": [
    "### Resources\n"
   ]
  }
 ],
 "metadata": {
  "kernelspec": {
   "display_name": "Python 3 (ipykernel)",
   "language": "python",
   "name": "python3"
  },
  "language_info": {
   "codemirror_mode": {
    "name": "ipython",
    "version": 3
   },
   "file_extension": ".py",
   "mimetype": "text/x-python",
   "name": "python",
   "nbconvert_exporter": "python",
   "pygments_lexer": "ipython3",
   "version": "3.9.12"
  }
 },
 "nbformat": 4,
 "nbformat_minor": 5
}
