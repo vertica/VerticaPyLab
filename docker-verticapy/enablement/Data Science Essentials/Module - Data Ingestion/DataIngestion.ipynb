{
 "cells": [
  {
   "cell_type": "code",
   "execution_count": 1,
   "id": "d8813b06",
   "metadata": {},
   "outputs": [],
   "source": [
    "import ipywidgets as widgets\n",
    "from IPython.display import display, clear_output\n",
    "from ipywidgets import Layout"
   ]
  },
  {
   "cell_type": "code",
   "execution_count": 2,
   "id": "73c74fd4",
   "metadata": {},
   "outputs": [
    {
     "data": {
      "text/html": [
       "<!--The top Logo and the menu bar-->\n",
       "\n",
       "<head>\n",
       "<meta name=\"viewport\" content=\"width=device-width, initial-scale=1\">\n",
       "<style>\n",
       "body {\n",
       "  font-family: Arial, Helvetica, sans-serif;\n",
       "  margin: 0 0 0 0px;\n",
       "}\n",
       ".back{\n",
       "    height: 130px;\n",
       "    width: 100%;\n",
       "    background-color:#263133;\n",
       "    display: flex;\n",
       "    align-items: center;\n",
       "}\n",
       ".navbar_0 {\n",
       "  overflow: hidden;\n",
       "  background-color: #263133; \n",
       "  display: block;\n",
       "}\n",
       ".navbar_0 a {\n",
       "  float: left;\n",
       "  font-size: 16px;\n",
       "  color: white;\n",
       "  text-align: center;\n",
       "  padding: 14px 16px;\n",
       "  text-decoration: none;\n",
       "  overflow: visible;\n",
       "  display: inline-block;\n",
       "}\n",
       ".subnav {\n",
       "  float: left;\n",
       "  overflow: hidden;\n",
       "}\n",
       ".subnav .subnavbtn {\n",
       "  font-size: 16px;\n",
       "  border: none;\n",
       "  outline: none;\n",
       "  color: white;\n",
       "  padding: 14px 16px;\n",
       "  background-color: inherit;\n",
       "  font-family: inherit;\n",
       "  margin: 0;\n",
       "  position: relative;\n",
       "}\n",
       ".navbar_0 a:hover, .subnav:hover .subnavbtn {\n",
       "  position:relative;\n",
       "  display:inlije-block;\n",
       "  overflow:visible;\n",
       "  background-color: #F48B34;\n",
       "}\n",
       ".subnav-content {\n",
       "  display: none;\n",
       "  position: absolute;\n",
       "  left: 0;\n",
       "  background-color: #263133;\n",
       "  width: 100%;\n",
       "  z-index: 1;\n",
       "    border-style: solid;\n",
       "  border-color: white;\n",
       "    border-width:1px;\n",
       "}\n",
       ".subnav-content a {\n",
       "  float: left;\n",
       "  overflow:visible;\n",
       "  color: white;\n",
       "  text-decoration: none;\n",
       "}\n",
       ".subnav-content a:hover {\n",
       "  background-color: #F48B34;\n",
       "  color: black;\n",
       "}\n",
       ".subnav:hover .subnav-content {\n",
       "  display: block;\n",
       "}\n",
       "</style>\n",
       "</head>\n",
       "\n",
       "\n",
       "\n",
       "\n",
       "\n",
       "<style>\n",
       ".content_0 {\n",
       "  display: flex;\n",
       "  text-align: center;\n",
       "  vertical-align: middle;\n",
       "}\n",
       "\n",
       "\n",
       ".icon-container {\n",
       "  margin-top: 0px;\n",
       "  width: 100%;\n",
       "  height: 70px;\n",
       "}\n",
       "\n",
       ".icon {\n",
       "  cursor: pointer;\n",
       "  position: relative;\n",
       "  display: inline-block;\n",
       "  width: 45px;\n",
       "  height: 45px;\n",
       "  margin-left: 12px;\n",
       "  margin-right: 12px;\n",
       "  border-radius: 30px;\n",
       "  overflow: hidden;\n",
       "  background-color:white;\n",
       "}\n",
       ".icon::before, .icon::after {\n",
       "  content: \"\";\n",
       "  position: absolute;\n",
       "  top: 0;\n",
       "  left: 0;\n",
       "  height: 100%;\n",
       "  width: 100%;\n",
       "  transition: all 0.25s ease;\n",
       "  border-radius: 30px;\n",
       "}\n",
       ".icon i {\n",
       "  position: relative;\n",
       "  color: #263133;\n",
       "  font-size: 24px;\n",
       "  margin-top: 10px;\n",
       "  transition: all 0.25s ease;\n",
       "}\n",
       "\n",
       ".icon-fill::before {\n",
       "  transition-duration: 0.7s;\n",
       "}\n",
       ".icon-fill:hover::before {\n",
       "  box-shadow: inset 0 0 0 60px #F48B34;\n",
       "    \n",
       "}\n",
       "</style>\n",
       "\n",
       "\n",
       "\n",
       "\n",
       "\n",
       "<body>\n",
       "<div class=back>\n",
       "<img src=\"Figures/v2.svg.png\" alt=\"Vertica logo\" width=\"300\">\n",
       "</div>\n",
       "<div class=\"navbar_0\">\n",
       "\n",
       "  <div class=\"subnav\">\n",
       "    <div class=\"content_0\">\n",
       "      <div class=\"icon-container\">\n",
       "        <div class=\"icon icon-fill\" onclick=\"window.location.href = 'http://localhost:8888/voila/render/demos/enablement/Template/Course_Page_v1.ipynb';\"><i class=\"fa fa-home\"></i></div>\n",
       "      </div>\n",
       "    </div>\n",
       "  </div>\n",
       "\n",
       "  <div class=\"subnav\">\n",
       "    <button class=\"subnavbtn\">Courses <i class=\"fa fa-caret-down\"></i></button>\n",
       "    <div class=\"subnav-content\">\n",
       "      <a href=\"#\">Course 1</a>\n",
       "      <a href=\"#\">Course 2</a>\n",
       "      <a href=\"#\">Course 3</a>\n",
       "    </div>\n",
       "  </div> \n",
       "  <div class=\"subnav\">\n",
       "    <button class=\"subnavbtn\">Documentation <i class=\"fa fa-caret-down\"></i></button>\n",
       "    <div class=\"subnav-content\">\n",
       "      <a href=\"#\">Topic 1</a>\n",
       "      <a href=\"#\">Topic 2</a>\n",
       "      <a href=\"#\">Topic 3</a>\n",
       "    </div>\n",
       "  </div> \n",
       "    <div class=\"subnav\">\n",
       "    <button class=\"subnavbtn\">Quick Examples <i class=\"fa fa-caret-down\"></i></button>\n",
       "    <div class=\"subnav-content\">\n",
       "      <a href=\"#\">Example 1</a>\n",
       "      <a href=\"#\">Example 2</a>\n",
       "      <a href=\"#\">Example 3 3</a>\n",
       "    </div>\n",
       "  </div> \n",
       "  <a href=\"#contact\">Contact</a>\n",
       "</div>\n",
       "</body>\n"
      ],
      "text/plain": [
       "<IPython.core.display.HTML object>"
      ]
     },
     "metadata": {},
     "output_type": "display_data"
    }
   ],
   "source": [
    "%%html\n",
    "<!--The top Logo and the menu bar-->\n",
    "\n",
    "<head>\n",
    "<meta name=\"viewport\" content=\"width=device-width, initial-scale=1\">\n",
    "<style>\n",
    "body {\n",
    "  font-family: Arial, Helvetica, sans-serif;\n",
    "  margin: 0px 0px 0px 0px;\n",
    "}\n",
    ".back{\n",
    "    height: 90px;\n",
    "    width: 100%;\n",
    "    background-color:#263133;\n",
    "    display: flex;\n",
    "    align-items: center;\n",
    "}\n",
    ".navbar_0 {\n",
    "  overflow: hidden;\n",
    "  background-color: #263133; \n",
    "  display: block;\n",
    "  z-index: 2;\n",
    "}\n",
    ".navbar_0 a {\n",
    "  float: left;\n",
    "  font-size: 16px;\n",
    "  color: white;\n",
    "  text-align: center;\n",
    "  padding: 14px 16px;\n",
    "  text-decoration: none;\n",
    "  overflow: visible;\n",
    "  display: inline-block;\n",
    "  z-index: 2;\n",
    "}\n",
    ".subnav {\n",
    "  float: left;\n",
    "  display:inline-block;\n",
    "  overflow: visible;\n",
    "}\n",
    ".subnav .subnavbtn {\n",
    "  font-size: 16px;\n",
    "  border: none;\n",
    "  outline: none;\n",
    "  color: white;\n",
    "  padding: 14px 16px;\n",
    "  background-color: inherit;\n",
    "  font-family: inherit;\n",
    "  margin: 0;\n",
    "  position: relative;\n",
    "}\n",
    ".navbar_0 a:hover, .subnav:hover .subnavbtn {\n",
    "  position:relative;\n",
    "  display:inline-block;\n",
    "  overflow:visible;\n",
    "  background-color: #F48B34;\n",
    "}\n",
    ".subnav-content {\n",
    "  display: none;\n",
    "  overflow: visible;\n",
    "  position: absolute;\n",
    "  left: 0;\n",
    "  background-color: #263133;\n",
    "  width: 100%;\n",
    "  z-index: 3;\n",
    "  border-style: solid;\n",
    "  border-color: white;\n",
    "  border-width:1px;\n",
    "    \n",
    "}\n",
    ".subnav-content a {\n",
    "  float: left;\n",
    "  overflow:visible;\n",
    "  color: white;\n",
    "  text-decoration: none;\n",
    "}\n",
    ".subnav-content a:hover {\n",
    "  background-color: #F48B34;\n",
    "  color: black;\n",
    "}\n",
    ".subnav:hover .subnav-content {\n",
    "  display: block;\n",
    "}\n",
    ".sticky {\n",
    "  position: fixed;\n",
    "  top: 0;\n",
    "  width: 100%;\n",
    "  overflow: visible;\n",
    "}\n",
    "\n",
    ".sticky + .content {\n",
    "  padding-top: 10px;\n",
    "}\n",
    ".sticky_2 {\n",
    "  position: relative;\n",
    "  top: 0;\n",
    "  width: 100%;\n",
    "}\n",
    "</style>\n",
    "</head>\n",
    "\n",
    "<style>\n",
    ".content_0 {\n",
    "  display: flex;\n",
    "  text-align: center;\n",
    "  vertical-align: middle;\n",
    "}\n",
    "\n",
    "\n",
    ".icon-container {\n",
    "  margin-top: 0px;\n",
    "  width: 100%;\n",
    "  height: 70px;\n",
    "}\n",
    "\n",
    ".icon {\n",
    "  cursor: pointer;\n",
    "  position: relative;\n",
    "  display: inline-block;\n",
    "  width: 45px;\n",
    "  height: 45px;\n",
    "  margin-left: 12px;\n",
    "  margin-right: 12px;\n",
    "  border-radius: 30px;\n",
    "  overflow: hidden;\n",
    "  background-color:white;\n",
    "}\n",
    ".icon::before, .icon::after {\n",
    "  content: \"\";\n",
    "  position: absolute;\n",
    "  top: 0;\n",
    "  left: 0;\n",
    "  height: 100%;\n",
    "  width: 100%;\n",
    "  transition: all 0.25s ease;\n",
    "  border-radius: 30px;\n",
    "}\n",
    ".icon i {\n",
    "  position: relative;\n",
    "  color: #263133;\n",
    "  font-size: 24px;\n",
    "  margin-top: 10px;\n",
    "  transition: all 0.25s ease;\n",
    "}\n",
    "\n",
    ".icon-fill::before {\n",
    "  transition-duration: 0.7s;\n",
    "}\n",
    ".icon-fill:hover::before {\n",
    "  box-shadow: inset 0 0 0 60px #F48B34;\n",
    "    \n",
    "}\n",
    "</style>\n",
    "\n",
    "\n",
    "\n",
    "\n",
    "\n",
    "<body>\n",
    "<div class=back>\n",
    "<img src=\"Figures/v2.svg.png\" alt=\"Vertica logo\" width=\"200\">\n",
    "</div>\n",
    "<div class=\"navbar_0\" id=\"navbar_top\">\n",
    "\n",
    "  <div class=\"subnav\">\n",
    "    <div class=\"content_0\">\n",
    "      <div class=\"icon-container\">\n",
    "        <div class=\"icon icon-fill\" onclick=\"window.location.href = '/voila/render/demos/enablement/Data%20Science%20Essentials/Data_Science_Essentials.ipynb';\"><i class=\"fa fa-home\"></i></div>\n",
    "      </div>\n",
    "    </div>\n",
    "  </div>\n",
    "\n",
    "  <div class=\"subnav\">\n",
    "    <button class=\"subnavbtn\">Courses <i class=\"fa fa-caret-down\"></i></button>\n",
    "    <div class=\"subnav-content\">\n",
    "      <a href=\"/voila/render/demos/enablement/Data%20Science%20Essentials/Data_Science_Essentials.ipynb\">Data Science Essentials</a>\n",
    "\n",
    "    </div>\n",
    "  </div> \n",
    "  <div class=\"subnav\">\n",
    "    <button class=\"subnavbtn\">Documentation <i class=\"fa fa-caret-down\"></i></button>\n",
    "    <div class=\"subnav-content\">\n",
    "      <a href=\"https://www.vertica.com/python/documentation_last/vdataframe/\">vDataFrame</a>\n",
    "      <a href=\"https://www.vertica.com/python/documentation_last/vdataframe/plot.php\">Plots</a>\n",
    "      <a href=\"https://www.vertica.com/python/workshop/ml/\">Machine Learning</a>\n",
    "    </div>\n",
    "  </div> \n",
    "    <div class=\"subnav\">\n",
    "    <button class=\"subnavbtn\">Quick Examples <i class=\"fa fa-caret-down\"></i></button>\n",
    "    <div class=\"subnav-content\">\n",
    "      <a href=\"/voila/render/demos/enablement/Examples/Inference%20of%20geopolitical%20data/Example_Data_Wrangling_And_Analysis.ipynb\">Geopolitical Analysis</a>\n",
    "      <a href=\"https://www.vertica.com/python/examples/\">Business Applications</a>\n",
    "\n",
    "    </div>\n",
    "  </div> \n",
    "  <a href=\"https://www.vertica.com/contact-us/\">Contact</a>\n",
    "</div>\n",
    "</body>"
   ]
  },
  {
   "cell_type": "code",
   "execution_count": 3,
   "id": "b1fec60f",
   "metadata": {},
   "outputs": [
    {
     "data": {
      "text/html": [
       "<!--Style for correct and incorrect prompts-->\n",
       "<style>\n",
       "\n",
       ".correct-prompt {\n",
       "  font-family: \"Helvetica\", \"Arial\", sans-serif;\n",
       "  display: inline-block;\n",
       "  font-size: 17px;\n",
       "  background-color: green;\n",
       "  color: #fff;\n",
       "  border-radius: 4px;\n",
       "  position: relative;\n",
       "  box-shadow: 0 2px 25px rgba(25,163,97,0.75);\n",
       "  padding:5px;\n",
       "}\n",
       ".incorrect-prompt {\n",
       "  font-family: \"Helvetica\", \"Arial\", sans-serif;\n",
       "  display: inline-block;\n",
       "  font-size: 17px;\n",
       "  background-color: red;\n",
       "  color: #fff;\n",
       "  border-radius: 4px;\n",
       "  position: relative;\n",
       "  box-shadow: 0 2px 25px rgba(255, 0, 130, 0.5);\n",
       "  padding:5px;\n",
       "}  \n",
       "</style>\n"
      ],
      "text/plain": [
       "<IPython.core.display.HTML object>"
      ]
     },
     "metadata": {},
     "output_type": "display_data"
    }
   ],
   "source": [
    "%%html\n",
    "<!--Style for correct and incorrect prompts-->\n",
    "<style>\n",
    "\n",
    ".correct-prompt {\n",
    "  font-family: \"Helvetica\", \"Arial\", sans-serif;\n",
    "  display: inline-block;\n",
    "  font-size: 17px;\n",
    "  background-color: green;\n",
    "  color: #fff;\n",
    "  border-radius: 4px;\n",
    "  position: relative;\n",
    "  box-shadow: 0 2px 25px rgba(25,163,97,0.75);\n",
    "  padding:5px;\n",
    "}\n",
    ".incorrect-prompt {\n",
    "  font-family: \"Helvetica\", \"Arial\", sans-serif;\n",
    "  display: inline-block;\n",
    "  font-size: 17px;\n",
    "  background-color: red;\n",
    "  color: #fff;\n",
    "  border-radius: 4px;\n",
    "  position: relative;\n",
    "  box-shadow: 0 2px 25px rgba(255, 0, 130, 0.5);\n",
    "  padding:5px;\n",
    "}  \n",
    "</style>"
   ]
  },
  {
   "cell_type": "code",
   "execution_count": 4,
   "id": "8b0862f1",
   "metadata": {},
   "outputs": [],
   "source": [
    "# Defining a function for multiple choice widgets\n",
    "\n",
    "def create_multipleChoice_widget(options, correct_answer):\n",
    "    if correct_answer not in options:\n",
    "        options.append(correct_answer)\n",
    "    \n",
    "    correct_answer_index = options.index(correct_answer)\n",
    "    \n",
    "    radio_options = [(words, i) for i, words in enumerate(options)]\n",
    "    alternativ = widgets.RadioButtons(\n",
    "        options = radio_options,\n",
    "        description = '',\n",
    "        disabled = False\n",
    "    )\n",
    "    \n",
    "    description_out = widgets.Output()\n",
    "#    with description_out:\n",
    "#        print(description)\n",
    "        \n",
    "    feedback_out = widgets.Output()\n",
    "\n",
    "    def check_selection(b):\n",
    "        a = int(alternativ.value)\n",
    "        if a==correct_answer_index:\n",
    "            s = widgets.HTML('<div class=\"correct-prompt\">Correct!</div>')\n",
    "        else:\n",
    "            s = widgets.HTML('<div class=\"incorrect-prompt\">Try Again!</div>')\n",
    "        with feedback_out:\n",
    "            clear_output()\n",
    "            display(s)\n",
    "        return\n",
    "    \n",
    "    check = widgets.Button(description=\"submit\")\n",
    "    check.on_click(check_selection)\n",
    "    \n",
    "    \n",
    "    return widgets.VBox([description_out, alternativ, check, feedback_out])\n",
    "\n",
    "def create_numeric_widget(correct_answer):\n",
    "    \n",
    "    #correct_answer_index = options.index(correct_answer)\n",
    "    \n",
    "    #radio_options = [(words, i) for i, words in enumerate(options)]\n",
    "    alternativ = widgets.Text(\n",
    "        #options = radio_options,\n",
    "        #description = '',\n",
    "        disabled = False\n",
    "    )\n",
    "    \n",
    "    description_out = widgets.Output()\n",
    "#    with description_out:\n",
    "#        print(description)\n",
    "        \n",
    "    feedback_out = widgets.Output()\n",
    "\n",
    "    def check_selection(b):\n",
    "        try:\n",
    "            a = int(alternativ.value)\n",
    "        except ValueError:\n",
    "            a = float(alternativ.value)\n",
    "        if a==correct_answer:\n",
    "            s = widgets.HTML('<div class=\"correct-prompt\">Correct!</div>')\n",
    "        else:\n",
    "            s = widgets.HTML('<div class=\"incorrect-prompt\">Try Again!</div>')\n",
    "        with feedback_out:\n",
    "            clear_output()\n",
    "            display(s)\n",
    "        return\n",
    "    \n",
    "    check = widgets.Button(description=\"submit\")\n",
    "    check.on_click(check_selection)\n",
    "    \n",
    "    \n",
    "    return widgets.VBox([description_out, alternativ, check, feedback_out])"
   ]
  },
  {
   "cell_type": "code",
   "execution_count": 5,
   "id": "dab1e034",
   "metadata": {},
   "outputs": [
    {
     "data": {
      "text/html": [
       "<!--Module Button-->\n",
       "\n",
       "<style>\n",
       ".moduler{\n",
       "    box-shadow: 0px 15px 10px -15px #F48B34;  \n",
       "    font-size:30px;\n",
       "    color: blue;\n",
       "}\n",
       "    </style>\n",
       "    \n",
       "<div class=\"moduler\">\n",
       "  <a href=\"http://localhost:8888/voila/render/demos/enablement/Template/Module_Page_v1.ipynb\">Data Science Essentials</a>\n",
       "</div>\n"
      ],
      "text/plain": [
       "<IPython.core.display.HTML object>"
      ]
     },
     "metadata": {},
     "output_type": "display_data"
    }
   ],
   "source": [
    "%%html\n",
    "<!--Module Button-->\n",
    "\n",
    "<style>\n",
    ".moduler{\n",
    "    box-shadow: 0px 15px 10px -15px #F48B34;  \n",
    "    font-size:30px;\n",
    "    color: blue;\n",
    "}\n",
    "    </style>\n",
    "    \n",
    "<div class=\"moduler\">\n",
    "  <a href=\"/voila/render/demos/enablement/Data%20Science%20Essentials/Module%20-%20Data%20Ingestion/Essentials_DataIngestion.ipynb\">Data Ingestion</a>\n",
    "</div>\n"
   ]
  },
  {
   "cell_type": "markdown",
   "id": "1eb61592",
   "metadata": {},
   "source": [
    "## Data Ingestion Basics"
   ]
  },
  {
   "cell_type": "code",
   "execution_count": 6,
   "id": "8e5bc7f2",
   "metadata": {
    "scrolled": true
   },
   "outputs": [
    {
     "data": {
      "text/html": [
       "<!--Time required-->\n",
       "<i class=\"fas fa-clock\" style='color:#F48B34;font-size:18px;'></i> 15 mins\n"
      ],
      "text/plain": [
       "<IPython.core.display.HTML object>"
      ]
     },
     "metadata": {},
     "output_type": "display_data"
    }
   ],
   "source": [
    "%%html\n",
    "<!--Time required-->\n",
    "<i class=\"fas fa-clock\" style='color:#F48B34;font-size:18px;'></i> 15 mins"
   ]
  },
  {
   "cell_type": "markdown",
   "id": "989fd8da",
   "metadata": {},
   "source": [
    "### Table of Contents\n",
    "\n",
    "- [Introduction](#h1_cell)\n",
    "- [Types of data](#h2_cell)\n",
    "- [Difference between data warehouse and data lake](#h3_cell)\n"
   ]
  },
  {
   "cell_type": "markdown",
   "id": "7a49c17e",
   "metadata": {},
   "source": [
    "One of the first tasks in most data science problems is to ingest the data you plan on analyzing. This is typically an automated process, but to go over the nuances, this module follows the manual process."
   ]
  },
  {
   "cell_type": "markdown",
   "id": "e359fcc6",
   "metadata": {},
   "source": [
    "### Covered in This Module\n",
    "\n",
    "- Data ingestion\n",
    "- The structure of ingested data\n",
    "- Data warehouses and data lakes"
   ]
  },
  {
   "cell_type": "markdown",
   "id": "e4eae0c4",
   "metadata": {},
   "source": [
    "***"
   ]
  },
  {
   "cell_type": "markdown",
   "id": "e91b7444",
   "metadata": {},
   "source": [
    "<a id='h1_cell'></a>\n",
    "### Introduction\n"
   ]
  },
  {
   "cell_type": "markdown",
   "id": "7050ec65",
   "metadata": {},
   "source": [
    "Data ingestion is the process of importing, transferring, loading, and processing data from a source into some target destination for later use. The source of data could range from a simple spreadsheet to real-time data from an online application, whereas the target destination is generally a database, document store, data warehouse, or data lake."
   ]
  },
  {
   "cell_type": "code",
   "execution_count": 7,
   "id": "220a1f58",
   "metadata": {},
   "outputs": [
    {
     "data": {
      "application/vnd.jupyter.widget-view+json": {
       "model_id": "a47805ae4c05446b97e1f391c0201821",
       "version_major": 2,
       "version_minor": 0
      },
      "text/plain": [
       "Image(value=b'\\x89PNG\\r\\n\\x1a\\n\\x00\\x00\\x00\\rIHDR\\x00\\x00\\r\\xc1\\x00\\x00\\x07$\\x08\\x06\\x00\\x00\\x00>\\xf8-$\\x00\\x0…"
      ]
     },
     "metadata": {},
     "output_type": "display_data"
    }
   ],
   "source": [
    "file = open(\"Figures/Ingestion.png\", \"rb\")\n",
    "image = file.read()\n",
    "\n",
    "image= widgets.Image(\n",
    "                    value=image,\n",
    "                    format='png',\n",
    "                    width='500px'\n",
    "                )\n",
    "display(image)"
   ]
  },
  {
   "cell_type": "markdown",
   "id": "3b946cb8",
   "metadata": {},
   "source": [
    "***"
   ]
  },
  {
   "cell_type": "markdown",
   "id": "3fd84ef3",
   "metadata": {},
   "source": [
    "### The Structure of Ingested Data\n",
    "\n",
    "<a id='h2_cell'></a>"
   ]
  },
  {
   "cell_type": "markdown",
   "id": "0ef0675d",
   "metadata": {},
   "source": [
    "Target storage for data ingestion, like databases, typically requires data to be organized in a certain way. In the real world, source data can be organized or disorganized, which complicates the process of adjusting the data to fit the requirements of your target.\n",
    "\n",
    "Generally speaking, data can be one of the following types:\n",
    "\n",
    "* Structured data\n",
    "* Semi-structured data\n",
    "* Unstructured data\n",
    "\n",
    "<b>Structured Data:</b>\n",
    "\n",
    "As the name suggests, data of this type follows a defined structure or shape. For example, data in a table:"
   ]
  },
  {
   "cell_type": "code",
   "execution_count": 8,
   "id": "0e4d1a5f",
   "metadata": {},
   "outputs": [
    {
     "data": {
      "application/vnd.jupyter.widget-view+json": {
       "model_id": "0cabfd2275174033afbe5b7f51ae9e25",
       "version_major": 2,
       "version_minor": 0
      },
      "text/plain": [
       "Image(value=b'\\x89PNG\\r\\n\\x1a\\n\\x00\\x00\\x00\\rIHDR\\x00\\x00\\tW\\x00\\x00\\x05/\\x08\\x06\\x00\\x00\\x00\\xbf\\xccG\\xe2\\x00…"
      ]
     },
     "metadata": {},
     "output_type": "display_data"
    }
   ],
   "source": [
    "file = open(\"Figures/table.png\", \"rb\")\n",
    "image = file.read()\n",
    "\n",
    "image= widgets.Image(\n",
    "                    value=image,\n",
    "                    format='png',\n",
    "                    width='500px'\n",
    "                )\n",
    "display(image)"
   ]
  },
  {
   "cell_type": "markdown",
   "id": "539d8990",
   "metadata": {},
   "source": [
    "However, structure data can be more complex than a simple table, like tables with columns nested inside columns. This type of structured data is sometimes called \"complex data\". The architecture of this nested data is detailed by a \"schema\".\n",
    "\n",
    "For example, the following diagram details the structure of data from a soccer tournament. In this dataset, the details about the \"Home Team\" (\"Team Name,\" \"Team Gender,\" \"Manager\") are nested inside the \"Home Team\" column:"
   ]
  },
  {
   "cell_type": "code",
   "execution_count": 9,
   "id": "4daa53e4",
   "metadata": {},
   "outputs": [
    {
     "data": {
      "application/vnd.jupyter.widget-view+json": {
       "model_id": "d4d2c77fc32d42ee8a9ad07b4f45db0d",
       "version_major": 2,
       "version_minor": 0
      },
      "text/plain": [
       "Image(value=b'\\x89PNG\\r\\n\\x1a\\n\\x00\\x00\\x00\\rIHDR\\x00\\x00\\x110\\x00\\x00\\t\\x11\\x08\\x06\\x00\\x00\\x00a\\x12q\\xcc\\x00…"
      ]
     },
     "metadata": {},
     "output_type": "display_data"
    }
   ],
   "source": [
    "file = open(\"Figures/complex.png\", \"rb\")\n",
    "image = file.read()\n",
    "\n",
    "image= widgets.Image(\n",
    "                    value=image,\n",
    "                    format='png',\n",
    "                    width='500px'\n",
    "                )\n",
    "display(image)"
   ]
  },
  {
   "cell_type": "markdown",
   "id": "a66eedec",
   "metadata": {},
   "source": [
    "<b>Semi-structured Data:</b>\n",
    "\n",
    "Semi-structured data has <i>some</i> structure, but this structure is less ridigly defined than structured data. Common formats for this type of data are `.xml` and `.json`.\n",
    "\n",
    "Examples:\n",
    "\n",
    "- Emails\n",
    "- HTML code\n",
    "- PDF documents with graphs\n",
    "\n",
    "Advantages:\n",
    "\n",
    "- Sorting flexibility\n",
    "- Can more easily handle heterogeneous sources\n",
    "\n",
    "\n",
    "Disadvantages:\n",
    "\n",
    "- Difficult to store\n",
    "- Not as performant as structured data\n",
    "\n"
   ]
  },
  {
   "cell_type": "markdown",
   "id": "24ef17a3",
   "metadata": {},
   "source": [
    "<b>Unstructured data:</b>\n",
    "\n",
    "This type of data does not conform to a data model, and does not have any structure. This type of data cannot be stored inside a relational database. While inconvenient, unstructured data is becoming increasingly prevelant, so it is important to know how to handle and analyze it.\n",
    "\n",
    "Processing/analyzing unstructured data is significantly more challenging than processing/analyzing structured and semi-structured data because unstructured data cannot be queried using regular SQL, and typically requires specialized tools to search for and manipulate.\n",
    "\n",
    "Examples:\n",
    "\n",
    "- Text documents\n",
    "- Audio files\n",
    "- Sensor data\n",
    "- Video files\n",
    "\n",
    "Generally, unstructured data is stored in data lakes."
   ]
  },
  {
   "cell_type": "markdown",
   "id": "c02f25ee",
   "metadata": {},
   "source": [
    "***"
   ]
  },
  {
   "cell_type": "markdown",
   "id": "ec8d1c66",
   "metadata": {},
   "source": [
    "### Data Warehouses and Data Lakes\n",
    "\n",
    "<a id='h3_cell'></a>"
   ]
  },
  {
   "cell_type": "markdown",
   "id": "6dc6ffd3",
   "metadata": {},
   "source": [
    "A data warehouse is a system used to analyze and report data, and so it is a core component of business intelligence. These act as central repositories where all the data of an organization is stored and then processed for further analysis.\n",
    "\n",
    "A key element of data warehouses is that it has \"schemas,\" which define the structure of its data, and this allows it to be queried and manipulated efficiently. Schemas are analogous to the organizational structure in a real warehouse with racks, folders, and files.\n",
    "\n",
    "Another characteristic of data warehouses is data tiers, where the most frequently and quickly retrieved/accessed data is on the topmost tier.\n",
    "\n",
    "A data lake, on the other hand, is also a repository for data, but it lacks schema/structure. While this lack of organization makes accessing and manipulating the data more difficult, it also gives data lakes a lot of flexibility - only data lakes can store unstructured data. In fact, any type of data can be stored in its raw form inside a data lake.\n",
    "\n",
    "Typically, all raw data (including structured and semi-structured data) is stored in the data lake. The data warehouse then extracts the data from the data lake for additional processing and analysis."
   ]
  },
  {
   "cell_type": "code",
   "execution_count": 12,
   "id": "35f137c4",
   "metadata": {},
   "outputs": [
    {
     "data": {
      "application/vnd.jupyter.widget-view+json": {
       "model_id": "2fb13673901a408d8292b307398b6ce3",
       "version_major": 2,
       "version_minor": 0
      },
      "text/plain": [
       "Image(value=b'\\x89PNG\\r\\n\\x1a\\n\\x00\\x00\\x00\\rIHDR\\x00\\x00\\x08\\x9c\\x00\\x00\\x05s\\x08\\x06\\x00\\x00\\x00\\x85Q\\xa5\\xf…"
      ]
     },
     "metadata": {},
     "output_type": "display_data"
    }
   ],
   "source": [
    "file = open(\"Figures/DWnDL.png\", \"rb\")\n",
    "image = file.read()\n",
    "\n",
    "image= widgets.Image(\n",
    "                    value=image,\n",
    "                    format='png',\n",
    "                    width='450px'\n",
    "                )\n",
    "display(image)"
   ]
  },
  {
   "cell_type": "code",
   "execution_count": null,
   "id": "e61e3ef2",
   "metadata": {},
   "outputs": [],
   "source": [
    "%%javascript\n",
    "// When the user scrolls the page, execute myFunction\n",
    "window.onscroll = function() {myFunction()};\n",
    "\n",
    "// Get the navbar\n",
    "var navbar = document.getElementById(\"navbar_top\");\n",
    "\n",
    "// Get the offset position of the navbar\n",
    "var sticky = navbar.offsetTop;\n",
    "\n",
    "// Add the sticky class to the navbar when you reach its scroll position. Remove \"sticky\" when you leave the scroll position\n",
    "function myFunction() {\n",
    "  if (window.pageYOffset >= sticky+140) {\n",
    "    navbar.classList.add(\"sticky\")\n",
    "  } else {\n",
    "    navbar.classList.remove(\"sticky\");\n",
    "  }\n",
    "  if (window.pageYOffset <= sticky) {\n",
    "    navbar.classList.remove(\"sticky\");\n",
    "  }\n",
    "}"
   ]
  },
  {
   "cell_type": "markdown",
   "id": "dd9b38b4",
   "metadata": {},
   "source": [
    "<html>\n",
    "<head>\n",
    "<meta name=\"viewport\" content=\"width=device-width, initial-scale=1\">\n",
    "<style>\n",
    "a {\n",
    "  text-decoration: none;\n",
    "  display: inline-block;\n",
    "  padding: 8px 16px;\n",
    "}\n",
    "\n",
    "a:hover {\n",
    "  background-color: #ddd;\n",
    "  color: black;\n",
    "}\n",
    "\n",
    ".previous {\n",
    "  background-color: #f1f1f1;\n",
    "  color: black;\n",
    "}\n",
    "\n",
    ".next {\n",
    "  background-color: #F48B34;\n",
    "  color: white;\n",
    "}\n",
    "\n",
    ".round {\n",
    "  border-radius: 50%;\n",
    "}\n",
    "</style>\n",
    "</head>\n",
    "<body>\n",
    "\n",
    "<a href=\"/voila/render/demos/enablement/Data%20Science%20Essentials/Module%20-%20Data%20Ingestion/Essentials_DataIngestion.ipynb\" font-size= 40px class=\"previous round\">&#8249;</a>\n",
    "<a href=\"/voila/render/demos/enablement/Data%20Science%20Essentials/Module%20-%20Data%20Ingestion/Application.ipynb\" class=\"next round\">&#8250;</a>\n",
    "  \n",
    "</body>\n",
    "</html> "
   ]
  },
  {
   "cell_type": "markdown",
   "id": "07076341",
   "metadata": {},
   "source": [
    "***"
   ]
  },
  {
   "cell_type": "markdown",
   "id": "ca2aa185",
   "metadata": {},
   "source": [
    "<font style=\"font-family:Calibri\"> Author Name: Umar Farooq Ghumman\n",
    "<br>\n",
    "Author Contact: umarfarooq.ghumman@vertica.com</font>"
   ]
  },
  {
   "cell_type": "markdown",
   "id": "185edfa5",
   "metadata": {},
   "source": [
    "### Resources\n",
    "\n",
    "- [<font size='2'>Data Lake wiki</font>](https://en.wikipedia.org/wiki/Data_lake)\n",
    "\n"
   ]
  }
 ],
 "metadata": {
  "kernelspec": {
   "display_name": "Python 3 (ipykernel)",
   "language": "python",
   "name": "python3"
  },
  "language_info": {
   "codemirror_mode": {
    "name": "ipython",
    "version": 3
   },
   "file_extension": ".py",
   "mimetype": "text/x-python",
   "name": "python",
   "nbconvert_exporter": "python",
   "pygments_lexer": "ipython3",
   "version": "3.9.12"
  },
  "vscode": {
   "interpreter": {
    "hash": "5064d1ad74215ade56820a9aa3de8a8b83705b05442f4287700e70ac09aa58b3"
   }
  }
 },
 "nbformat": 4,
 "nbformat_minor": 5
}
