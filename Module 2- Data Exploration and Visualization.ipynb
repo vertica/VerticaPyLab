{
 "cells": [
  {
   "cell_type": "code",
   "execution_count": 7,
   "id": "d8813b06",
   "metadata": {},
   "outputs": [],
   "source": [
    "import ipywidgets as widgets\n",
    "from IPython.display import display, clear_output, Image, YouTubeVideo\n",
    "from ipywidgets import Layout"
   ]
  },
  {
   "cell_type": "code",
   "execution_count": null,
   "id": "73c74fd4",
   "metadata": {},
   "outputs": [],
   "source": [
    "%%html\n",
    "<!--The top Logo and the menu bar-->\n",
    "\n",
    "<head>\n",
    "<meta name=\"viewport\" content=\"width=device-width, initial-scale=1\">\n",
    "<style>\n",
    "body {\n",
    "  font-family: Arial, Helvetica, sans-serif;\n",
    "  margin: 0 0 0 0px;\n",
    "}\n",
    ".back{\n",
    "    height: 130px;\n",
    "    width: 100%;\n",
    "    background-color:#263133;\n",
    "    display: flex;\n",
    "    align-items: center;\n",
    "}\n",
    ".navbar_0 {\n",
    "  overflow: hidden;\n",
    "  background-color: #263133; \n",
    "  display: block;\n",
    "}\n",
    ".navbar_0 a {\n",
    "  float: left;\n",
    "  font-size: 16px;\n",
    "  color: white;\n",
    "  text-align: center;\n",
    "  padding: 14px 16px;\n",
    "  text-decoration: none;\n",
    "  overflow: visible;\n",
    "  display: inline-block;\n",
    "}\n",
    ".subnav {\n",
    "  float: left;\n",
    "  overflow: hidden;\n",
    "}\n",
    ".subnav .subnavbtn {\n",
    "  font-size: 16px;\n",
    "  border: none;\n",
    "  outline: none;\n",
    "  color: white;\n",
    "  padding: 14px 16px;\n",
    "  background-color: inherit;\n",
    "  font-family: inherit;\n",
    "  margin: 0;\n",
    "  position: relative;\n",
    "}\n",
    ".navbar_0 a:hover, .subnav:hover .subnavbtn {\n",
    "  position:relative;\n",
    "  display:inlije-block;\n",
    "  overflow:visible;\n",
    "  background-color: #F48B34;\n",
    "}\n",
    ".subnav-content {\n",
    "  display: none;\n",
    "  position: absolute;\n",
    "  left: 0;\n",
    "  background-color: #263133;\n",
    "  width: 100%;\n",
    "  z-index: 1;\n",
    "    border-style: solid;\n",
    "  border-color: white;\n",
    "    border-width:1px;\n",
    "}\n",
    ".subnav-content a {\n",
    "  float: left;\n",
    "  overflow:visible;\n",
    "  color: white;\n",
    "  text-decoration: none;\n",
    "}\n",
    ".subnav-content a:hover {\n",
    "  background-color: #F48B34;\n",
    "  color: black;\n",
    "}\n",
    ".subnav:hover .subnav-content {\n",
    "  display: block;\n",
    "}\n",
    "</style>\n",
    "</head>\n",
    "\n",
    "\n",
    "\n",
    "\n",
    "\n",
    "<style>\n",
    ".content_0 {\n",
    "  display: flex;\n",
    "  text-align: center;\n",
    "  vertical-align: middle;\n",
    "}\n",
    "\n",
    "\n",
    ".icon-container {\n",
    "  margin-top: 0px;\n",
    "  width: 100%;\n",
    "  height: 70px;\n",
    "}\n",
    "\n",
    ".icon {\n",
    "  cursor: pointer;\n",
    "  position: relative;\n",
    "  display: inline-block;\n",
    "  width: 45px;\n",
    "  height: 45px;\n",
    "  margin-left: 12px;\n",
    "  margin-right: 12px;\n",
    "  border-radius: 30px;\n",
    "  overflow: hidden;\n",
    "  background-color:white;\n",
    "}\n",
    ".icon::before, .icon::after {\n",
    "  content: \"\";\n",
    "  position: absolute;\n",
    "  top: 0;\n",
    "  left: 0;\n",
    "  height: 100%;\n",
    "  width: 100%;\n",
    "  transition: all 0.25s ease;\n",
    "  border-radius: 30px;\n",
    "}\n",
    ".icon i {\n",
    "  position: relative;\n",
    "  color: #263133;\n",
    "  font-size: 24px;\n",
    "  margin-top: 10px;\n",
    "  transition: all 0.25s ease;\n",
    "}\n",
    "\n",
    ".icon-fill::before {\n",
    "  transition-duration: 0.7s;\n",
    "}\n",
    ".icon-fill:hover::before {\n",
    "  box-shadow: inset 0 0 0 60px #F48B34;\n",
    "    \n",
    "}\n",
    "</style>\n",
    "\n",
    "\n",
    "\n",
    "\n",
    "\n",
    "<body>\n",
    "<div class=back>\n",
    "<img src=\"Figures/v2.svg.png\" alt=\"Vertica logo\" width=\"300\">\n",
    "</div>\n",
    "<div class=\"navbar_0\">\n",
    "\n",
    "  <div class=\"subnav\">\n",
    "    <div class=\"content_0\">\n",
    "      <div class=\"icon-container\">\n",
    "        <div class=\"icon icon-fill\" onclick=\"window.location.href = 'http://localhost:8888/voila/render/Documents/GitHub/vertica-demo/docker-verticapy/enablement/Template/Course_Page_v1.ipynb';\"><i class=\"fa fa-home\"></i></div>\n",
    "      </div>\n",
    "    </div>\n",
    "  </div>\n",
    "\n",
    "  <div class=\"subnav\">\n",
    "    <button class=\"subnavbtn\">Courses <i class=\"fa fa-caret-down\"></i></button>\n",
    "    <div class=\"subnav-content\">\n",
    "      <a href=\"#\">Course 1</a>\n",
    "      <a href=\"#\">Course 2</a>\n",
    "      <a href=\"#\">Course 3</a>\n",
    "    </div>\n",
    "  </div> \n",
    "  <div class=\"subnav\">\n",
    "    <button class=\"subnavbtn\">Documentation <i class=\"fa fa-caret-down\"></i></button>\n",
    "    <div class=\"subnav-content\">\n",
    "      <a href=\"#\">Topic 1</a>\n",
    "      <a href=\"#\">Topic 2</a>\n",
    "      <a href=\"#\">Topic 3</a>\n",
    "    </div>\n",
    "  </div> \n",
    "    <div class=\"subnav\">\n",
    "    <button class=\"subnavbtn\">Quick Examples <i class=\"fa fa-caret-down\"></i></button>\n",
    "    <div class=\"subnav-content\">\n",
    "      <a href=\"#\">Example 1</a>\n",
    "      <a href=\"#\">Example 2</a>\n",
    "      <a href=\"#\">Example 3 3</a>\n",
    "    </div>\n",
    "  </div> \n",
    "  <a href=\"#contact\">Contact</a>\n",
    "</div>\n",
    "</body>"
   ]
  },
  {
   "cell_type": "code",
   "execution_count": null,
   "id": "b1fec60f",
   "metadata": {},
   "outputs": [],
   "source": [
    "%%html\n",
    "<!--Style for correct and incorrect prompts-->\n",
    "<style>\n",
    "\n",
    ".correct-prompt {\n",
    "  font-family: \"Helvetica\", \"Arial\", sans-serif;\n",
    "  display: inline-block;\n",
    "  font-size: 17px;\n",
    "  background-color: green;\n",
    "  color: #fff;\n",
    "  border-radius: 4px;\n",
    "  position: relative;\n",
    "  box-shadow: 0 2px 25px rgba(25,163,97,0.75);\n",
    "  padding:5px;\n",
    "}\n",
    ".incorrect-prompt {\n",
    "  font-family: \"Helvetica\", \"Arial\", sans-serif;\n",
    "  display: inline-block;\n",
    "  font-size: 17px;\n",
    "  background-color: red;\n",
    "  color: #fff;\n",
    "  border-radius: 4px;\n",
    "  position: relative;\n",
    "  box-shadow: 0 2px 25px rgba(255, 0, 130, 0.5);\n",
    "  padding:5px;\n",
    "}  \n",
    "</style>"
   ]
  },
  {
   "cell_type": "code",
   "execution_count": null,
   "id": "8b0862f1",
   "metadata": {},
   "outputs": [],
   "source": [
    "# Defining a function for multiple choice widgets\n",
    "\n",
    "def create_multipleChoice_widget(options, correct_answer):\n",
    "    if correct_answer not in options:\n",
    "        options.append(correct_answer)\n",
    "    \n",
    "    correct_answer_index = options.index(correct_answer)\n",
    "    \n",
    "    radio_options = [(words, i) for i, words in enumerate(options)]\n",
    "    alternativ = widgets.RadioButtons(\n",
    "        options = radio_options,\n",
    "        description = '',\n",
    "        disabled = False\n",
    "    )\n",
    "    \n",
    "    description_out = widgets.Output()\n",
    "#    with description_out:\n",
    "#        print(description)\n",
    "        \n",
    "    feedback_out = widgets.Output()\n",
    "\n",
    "    def check_selection(b):\n",
    "        a = int(alternativ.value)\n",
    "        if a==correct_answer_index:\n",
    "            s = widgets.HTML('<div class=\"correct-prompt\">Correct!</div>')\n",
    "        else:\n",
    "            s = widgets.HTML('<div class=\"incorrect-prompt\">Try Again!</div>')\n",
    "        with feedback_out:\n",
    "            clear_output()\n",
    "            display(s)\n",
    "        return\n",
    "    \n",
    "    check = widgets.Button(description=\"submit\")\n",
    "    check.on_click(check_selection)\n",
    "    \n",
    "    \n",
    "    return widgets.VBox([description_out, alternativ, check, feedback_out])\n",
    "\n",
    "def create_numeric_widget(correct_answer):\n",
    "    \n",
    "    #correct_answer_index = options.index(correct_answer)\n",
    "    \n",
    "    #radio_options = [(words, i) for i, words in enumerate(options)]\n",
    "    alternativ = widgets.Text(\n",
    "        #options = radio_options,\n",
    "        #description = '',\n",
    "        disabled = False\n",
    "    )\n",
    "    \n",
    "    description_out = widgets.Output()\n",
    "#    with description_out:\n",
    "#        print(description)\n",
    "        \n",
    "    feedback_out = widgets.Output()\n",
    "\n",
    "    def check_selection(b):\n",
    "        try:\n",
    "            a = int(alternativ.value)\n",
    "        except ValueError:\n",
    "            a = float(alternativ.value)\n",
    "        if a==correct_answer:\n",
    "            s = widgets.HTML('<div class=\"correct-prompt\">Correct!</div>')\n",
    "        else:\n",
    "            s = widgets.HTML('<div class=\"incorrect-prompt\">Try Again!</div>')\n",
    "        with feedback_out:\n",
    "            clear_output()\n",
    "            display(s)\n",
    "        return\n",
    "    \n",
    "    check = widgets.Button(description=\"submit\")\n",
    "    check.on_click(check_selection)\n",
    "    \n",
    "    \n",
    "    return widgets.VBox([description_out, alternativ, check, feedback_out])"
   ]
  },
  {
   "cell_type": "code",
   "execution_count": null,
   "id": "dab1e034",
   "metadata": {},
   "outputs": [],
   "source": [
    "%%html\n",
    "<!--Module Button-->\n",
    "\n",
    "<style>\n",
    ".moduler{\n",
    "    box-shadow: 0px 15px 10px -15px #F48B34;  \n",
    "    font-size:30px;\n",
    "    color: blue;\n",
    "}\n",
    "    </style>\n",
    "    \n",
    "<div class=\"moduler\">\n",
    "  <a href=\"http://localhost:8888/voila/render/Documents/GitHub/vertica-demo/docker-verticapy/enablement/Template/Module_Page_v1.ipynb\">Module Name</a>\n",
    "</div>\n"
   ]
  },
  {
   "cell_type": "markdown",
   "id": "1eb61592",
   "metadata": {},
   "source": [
    "## Interactive Data Exploration using Advanced Visualizations"
   ]
  },
  {
   "cell_type": "code",
   "execution_count": 4,
   "id": "8e5bc7f2",
   "metadata": {
    "tags": []
   },
   "outputs": [
    {
     "data": {
      "text/html": [
       "<!--Time required-->\n",
       "<i class=\"fas fa-clock\" style='color:#F48B34;font-size:18px;'></i> 45 mins\n"
      ],
      "text/plain": [
       "<IPython.core.display.HTML object>"
      ]
     },
     "metadata": {},
     "output_type": "display_data"
    }
   ],
   "source": [
    "%%html\n",
    "<!--Time required-->\n",
    "<i class=\"fas fa-clock\" style='color:#F48B34;font-size:18px;'></i> 45 mins"
   ]
  },
  {
   "cell_type": "markdown",
   "id": "989fd8da",
   "metadata": {},
   "source": [
    "<a id='toc_cell'></a>\n",
    "### Table of Contents\n",
    "\n",
    "- [Identifying the Problem to be Solved](#h1_cell)\n",
    "   - [Research Question](#h2_cell)\n",
    "      - [Variable Correlation](#h14_cell)\n",
    "      - [Feature Reduction](#h13_cell)\n",
    "      - [Measures of Association](#h16_cell)\n",
    "   - [Hypothosis](#h3_cell)\n",
    "      - [Balancing an Imbalanced Dataset](#h15_cell)\n",
    "   - [Variable Selection](#h4_cell)\n",
    "- [Data Exploration and Visualization](#h5_cell)\n",
    "   - [Statistics](#h6_cell)\n",
    "      - [Descriptive](#h7_cell)\n",
    "         - [Outliers](#h8_cell)\n",
    "         - [Missingness](#h9_cell)\n",
    "         - [Dispersion](#h10_cell)\n",
    "       - [Inferential](#h11_cell)\n",
    "         - [Sampling](#h12_cell)"
   ]
  },
  {
   "cell_type": "markdown",
   "id": "7a49c17e",
   "metadata": {},
   "source": [
    "<b> Data Exploration </b> is a preliminary data analysis step, preparing the dataset for in-depth analysis using data modeling and machine learning techniques. <i> Statistics </i> and <i> Data Visualization </i> are used to comprehend the nature and characteristics of the dataset; such as the size, type, completeness, distribution, and accuracy of individual sample groups, as well as the global dataset population.\n",
    "\n",
    "- <b>Statistics</b> is an essential element of the data exploration process and it comprises two distinct branches: <i>descriptive</i> and <i>inferential</i>, with each branch serving its own purpose. <i>Descriptive Statistics </i> quantifies the data, while <i> Inferential Statistics </i> allows for generalizations to be made about the data.\n",
    "\n",
    "   - <i>Descrptive</i>: Summarizes and describes the dataset's characteristics, such as the data's center, spread, variability, and frequency. Descriptive statistics are an integral data exploration tool.\n",
    "   \n",
    "   - <i>Inferential</i>: Draws conclusions about the dataset's global population based on sampling smaller subsets of the data. \n",
    "   \n",
    "   > <p style=\"color:dimgrey;\"><b><u>NOTE:</u></b><i> Inferential statistics are used in advanced data sampling and modeling techniques, which follow the initial data exploration and visualization stage. For this reason, inferential statistics are not covered in this prelimintary data exploration lesson with the exception of creating the smaller sample from the larger populaion.<p></i>\n",
    "\n",
    "- <b>Data Visualization</b> is a critical component of the data exploration process, and it uses visual aids, like charts and graphs to pictorially depict the data.\n",
    "\n",
    "   - Relationships between variables are quickly perceived, accomodating fast identification of points of interest and patterns in the data.\n",
    "   \n",
    "   - The size and shape of the data is intuitive since data outliers and missing data are automatically recognized. \n"
   ]
  },
  {
   "cell_type": "markdown",
   "id": "e359fcc6",
   "metadata": {},
   "source": [
    "### What you will learn in this module?\n",
    "\n",
    "- You will learn how to:\n",
    "   - Answer a business problem using technology \n",
    "   - Identify and select variables\n",
    "   - Perform statistical analysis  \n",
    "   - Feature reduction\n",
    "   - Balance imbalanced data\n",
    "   - Drop null values\n",
    "   - Impute missing values\n",
    "   - Remove data outliers\n",
    "   - Transform existing and create new variables (Feature Engineering)\n",
    "   - Discover relationships and patterns in the data"
   ]
  },
  {
   "cell_type": "markdown",
   "id": "e4eae0c4",
   "metadata": {},
   "source": [
    "***"
   ]
  },
  {
   "cell_type": "markdown",
   "id": "e91b7444",
   "metadata": {
    "tags": []
   },
   "source": [
    "<a id='h1_cell'></a>\n",
    "### Identifying the Problem to be Solved\n"
   ]
  },
  {
   "cell_type": "markdown",
   "id": "7050ec65",
   "metadata": {},
   "source": [
    "In this section a critical business problem is identified and turned ito a technical problem"
   ]
  },
  {
   "cell_type": "markdown",
   "id": "f8d04247",
   "metadata": {},
   "source": [
    "<h3 style=\"font-size:20px;color:green;\"><u>Business Problem:</u>"
   ]
  },
  {
   "cell_type": "markdown",
   "id": "3b2dd636",
   "metadata": {},
   "source": [
    "<p style=\"color:green;\"><i>How to offset risk to the business by examining a life insurance applicant's health and lifestyle?</i></p>"
   ]
  },
  {
   "cell_type": "markdown",
   "id": "3b8b5fbd-1704-40b9-ba0b-b1f1c11b6008",
   "metadata": {},
   "source": [
    "<p style=\"font-family: Arial; font-size:1.2em;color:#F4511E;\">\n",
    "    <u>In the <b>Pie</b> and <b>Bar Chart</b> examples below</u> \n",
    "\n",
    "<p style=\"font-family: Arial; font-size:1em;color:#F4511E;\">The Response Value in the train dataset reflects the level of risk associated with a life insurance applicant's application. While we do not know the meaning of each of these 8 Response Categories, we will assume in this Lesson that Response Category 8 (32.8% of applicants) is high risk and therefore should prompt a rejected application. Response Categories 1-7 are therefore low risk, in this Lesson, and imply the application should be accepted.</p>\n",
    "\n",
    "<p style=\"font-family: Arial; font-size:1em;color:#F4511E;\"><i>Navigate to the VerticaPy <a href=\"https://www.vertica.com/python/gallery/responsive_pie/index.php\">Responsive Pie Chart</a> and <a href=\"https://www.vertica.com/python/gallery/bar1D/index.php\">Bar Chart</a> pages for more information on the charts used in this example. </i></p>"
   ]
  },
  {
   "cell_type": "markdown",
   "id": "533649a6-da09-4bd2-bc4f-f56b516a45cc",
   "metadata": {},
   "source": [
    "<p float=\"left\">\n",
    "  <img src=\"Figures/bar_chart_response.png\" width=\"400\" />\n",
    "  <img src=\"Figures/pie_chart_response.png\" width=\"330\" />\n",
    "</p>"
   ]
  },
  {
   "cell_type": "markdown",
   "id": "585b0108-e117-4bbe-a778-905a10056d3d",
   "metadata": {},
   "source": [
    "<div class=\"alert alert-block alert-info\">\n",
    "<i> <p style=\"color:black;\">The following code snippet can be copied/pasted into your Python 3 Jupyter Notebook and altered as needed for your environment:</p></i>\n",
    "\n",
    "```python\n",
    "#Input line 1\n",
    "%matplotlib inline\n",
    "train2_vdf[\"Response\"].bar()\n",
    "\n",
    "#Input line 2\n",
    "train2_vdf[\"Response\"].pie()\n",
    "```"
   ]
  },
  {
   "cell_type": "markdown",
   "id": "95423120-dadc-4275-8464-4eb7aca2c5a2",
   "metadata": {},
   "source": [
    "<a id='h2_cell'></a>\n",
    "### Research Question"
   ]
  },
  {
   "cell_type": "markdown",
   "id": "953a3987",
   "metadata": {},
   "source": [
    "The technical question that this data exploration intends to answer:"
   ]
  },
  {
   "cell_type": "markdown",
   "id": "f691e3b2",
   "metadata": {},
   "source": [
    "<p style=\"color:green;\"><b><u>Q1:</u></b>  Is there a correlation between height, weight, and age, and rejected life insurance applications?<p>"
   ]
  },
  {
   "cell_type": "markdown",
   "id": "0a07997a-6c0c-4b14-9b29-1c807e72414e",
   "metadata": {},
   "source": [
    "<a id='h14_cell'></a>\n",
    "#### Correlating Variables"
   ]
  },
  {
   "cell_type": "markdown",
   "id": "dd166cc9-6c7e-4860-b22f-2080435c7253",
   "metadata": {},
   "source": [
    "<b>Correlation</b> is a statistic that measures the degree to which two variables move in relation to each other, either up (positive) or down (negative). Correlation Matrices (corr_matrix) are visualziaton tools used to measure variable correlation coefficients. The corr_matrix scale varies from +1 to –1, with 0 indicating no observed correlation. <br>\n",
    "<br>\n",
    "A measurement of +1 indicates a  complete <i>postive correlation</i> between two variables, where as -1 indicates a very strong <i>negative correlation</i> between the variables. <br>\n",
    "<br>\n",
    "When two variable increases together, the correlation is positive. In turn, when one variable decreases as another varaible increases, the correlation is negative. The absence of any kind of correlation between variables is represented by 0. "
   ]
  },
  {
   "cell_type": "markdown",
   "id": "388314bb-c373-4480-a8b7-fa4f6f473a7c",
   "metadata": {},
   "source": [
    "<p style=\"font-family: Arial; font-size:1.2em;color:#F4511E;\">\n",
    "    <u>In the <b>Correlation Matrix</b> example below</u> \n",
    "\n",
    "<p style=\"font-family: Arial; font-size:1em;color:#F4511E;\">The train dataset has 128 varaibles (columns). If a correlation maxtrix is executed against all fields, then its density largely precludes intepretation, as observed below. Look at the corr_matrix below, can you read any of the [128] variables on the far left or along the bottom? The number of variables (also known as features or dimensions) needs to be reduced and all irrelevant features removed from the dataset. To answer our research question for the business, we know that we need the <i> Height, Weight, Age, and Response </i>varaibles, however, are any other varaibles relevant to this answer? </p>\n",
    "\n",
    "<p style=\"font-family: Arial; font-size:1em;color:#F4511E;\"><i>Navigate to the VerticaPy <a href=\"https://www.vertica.com/python/gallery/correlation/index.php\">Correlation Matrix</a> page for more information. </i></p>"
   ]
  },
  {
   "cell_type": "markdown",
   "id": "cff17765-c788-4ee2-8991-3781f20db82b",
   "metadata": {},
   "source": [
    "<p float=\"left\">\n",
    "  <img src=\"Figures/corr_matrix.png\" width=\"350\" />\n",
    "</p>"
   ]
  },
  {
   "cell_type": "markdown",
   "id": "edb844f8-cb15-4aa4-83c8-e2939ec6597d",
   "metadata": {},
   "source": [
    "<div class=\"alert alert-block alert-info\">\n",
    "<i> <p style=\"color:black;\">The following code snippet can be copied/pasted into your Python 3 Jupyter Notebook and altered as needed for your environment:</p></i>\n",
    "\n",
    "```python\n",
    "train_vdf.corr()\n",
    "```"
   ]
  },
  {
   "cell_type": "markdown",
   "id": "60397b14-624c-46b8-a55d-cad88aa185a5",
   "metadata": {},
   "source": [
    "<a id='h13_cell'></a>\n",
    "#### Feature Reduction"
   ]
  },
  {
   "cell_type": "markdown",
   "id": "855a28fd-d5c1-4931-af86-0f57e0e0808b",
   "metadata": {},
   "source": [
    "<a href=\"https://www.vertica.com/python/documentation_last/learn/PCA/\">Principal Component Analysis (PCA)</a> is one data modeling technique used in data exploration to reduce the number of data features, or dimentions in large datasets. PCA enables dimentionality reduction through data visualization. Primarily used for descriptive analysis, PCA enhances data interpretability.<br>"
   ]
  },
  {
   "cell_type": "markdown",
   "id": "0f1c69d5-d031-4281-86f3-f08f29a7efbe",
   "metadata": {},
   "source": [
    "<p style=\"font-family: Arial; font-size:1.2em;color:#F4511E;\">\n",
    "    <u>In the <b>Principal Component Analysis (PCA)</b> example below</u> \n",
    "\n",
    "<p style=\"font-family: Arial; font-size:1em;color:#F4511E;\">PCA is used in this lesson to reduce the number of corr_matrix features observed in the train dataset from 128 down to 7. This process is iterative, with an increasing number of variables removed until maximum variance is achieved. Thus, the initial PCA run leveraged 12 variables, the second run used 8 varaibles, and the final run leveraged 7 varaibles. A snippet of output from the final PCA model fit is included below, it shows the different columns used in the model fit, the amount of variance between the variables, and principal components. <br>\n",
    "<br>\n",
    "    <i>All PCA model creation and fit code is included in the subsequent code section.</i></p>"
   ]
  },
  {
   "cell_type": "markdown",
   "id": "42734d59-e847-4374-a67c-1a7d1de81c4d",
   "metadata": {},
   "source": [
    "<p float=\"left\">\n",
    "  <img src=\"Figures/pca-output-only.png\" width=\"500\" />\n",
    "</p>"
   ]
  },
  {
   "cell_type": "markdown",
   "id": "b6c8526a-f336-48c7-9c58-414631dc05e2",
   "metadata": {},
   "source": [
    "<div class=\"alert alert-block alert-info\">\n",
    "<i> <p style=\"color:black;\">The following code snippet can be copied/pasted into your Python 3 Jupyter Notebook and altered as needed for your environment:</p></i>\n",
    "\n",
    "```python\n",
    "#Input line 1\n",
    "from verticapy.learn.decomposition import PCA\n",
    "pca_model = PCA(name = \"pca_train_ins\")\n",
    "\n",
    "#Input line 2\n",
    "##PCA Run with 12 variables\n",
    "pca_model.fit(\"prudential_balanced\", \n",
    "              [\"Medical_History_4\", \"Medical_History_15\", \"Medical_History_23\", \"Ins_Age\", \"Ht\", \"Wt\", \"BMI\", \n",
    "               \"Family_Hist_2\", \"Family_Hist_3\", \"Family_Hist_4\", \"Family_Hist_5\", \"Response\"])\n",
    "\n",
    "#Input line 3\n",
    "##PCA Run with 8 variables \n",
    "#Removed: \"Medical_History_4\", \"Medical_History_15\", \"Medical_History_23\", \"Response\"\n",
    "pca_model.fit(\"prudential_balanced\", \n",
    "              [\"Ins_Age\", \"Ht\", \"Wt\", \"BMI\", \"Family_Hist_2\", \"Family_Hist_3\", \"Family_Hist_4\", \"Family_Hist_5\"])\n",
    "\n",
    "#Input line 4\n",
    "##PCA Run with 7 variables \n",
    "#Removed: \"Medical_History_4\", \"Medical_History_15\", \"Medical_History_23\", \"Response\", \"Ins_Age\"\n",
    "pca_model.fit(\"prudential_balanced\", \n",
    "              [ \"Ht\", \"Wt\", \"BMI\", \"Family_Hist_2\", \"Family_Hist_3\", \"Family_Hist_4\", \"Family_Hist_5\"])\n",
    "```"
   ]
  },
  {
   "cell_type": "markdown",
   "id": "c3e6368c-05d3-40ac-aad3-239b0853da9a",
   "metadata": {},
   "source": [
    "<br>\n",
    "<p style=\"font-family: Arial; font-size:1.2em;color:#F4511E;\">\n",
    "    <u>In the <b>PCA Plots</b> example below</u> \n",
    "\n",
    "<p style=\"font-family: Arial; font-size:1em;color:#F4511E;\">The first <b>PCA Model scatterplot</b> shows the data features in relation to the first two PCA dimensions (Dim1: Height and Dim2: Weight). The second <b>PCA Circle Chart</b> shows the correlation for these same two PCA variables and displays correlation information on the supplementary variables. The third <b>PCA Scree Chart</b> reveals the maximum varience between the first PCA variable (Dim1: Height) and the last PCA variable (Dim7:Family_Hist_5). Here, we see that the variable Family_Hist_5 affords no \"value add\" and can be removed from the sample, thereby reducing the featureset down to 5 variables from its original 128 variables.</p>\n",
    "\n",
    "<p style=\"font-family: Arial; font-size:1em;color:#F4511E;\"><i>Navigate to the following VerticaPy help pages for more information on the PCA <a href=\"https://www.vertica.com/python/documentation_last/learn/Model/plot_decomposition/\">Model Scatter Plot</a>, the <a href=\"https://www.vertica.com/python/documentation_last/learn/Model/plot_decomposition_circle/\">Circle Plot</a>, and the\n",
    "<a href=\"https://www.vertica.com/python/documentation_last/learn/Model/plot_scree/\">Scree Plot</a>.</i></p>"
   ]
  },
  {
   "cell_type": "markdown",
   "id": "5295a660-8ce8-4c1d-bffe-9b63e428868a",
   "metadata": {
    "tags": []
   },
   "source": [
    "<p float=\"left\">\n",
    "  <img src=\"Figures/pca_model_scatter_plot.png\" width=\"300\" />\n",
    "  <img src=\"Figures/pca_circle-plot.png\" width=\"260\" />\n",
    "  <img src=\"Figures/pca_scree-plot.png\" width=\"230\" />\n",
    "</p>"
   ]
  },
  {
   "cell_type": "markdown",
   "id": "6479f4f4-9487-45d1-b619-83f1d1f3e8d0",
   "metadata": {},
   "source": [
    "<div class=\"alert alert-block alert-info\">\n",
    "<i> <p style=\"color:black;\">The following code snippet can be copied/pasted into your Python 3 Jupyter Notebook and altered as needed for your environment:</p></i>\n",
    "\n",
    "```python\n",
    "#Input line 1\n",
    "#PCA Model Scatterplot\n",
    "pca_model.plot()\n",
    "\n",
    "#Input line 2\n",
    "#PCA model circle plot\n",
    "pca_model.plot_circle()\n",
    "\n",
    "#Input line 3\n",
    "#PCA model scree plot\n",
    "pca_model.plot_scree()\n",
    "\n",
    "```"
   ]
  },
  {
   "cell_type": "markdown",
   "id": "e81dc552-e8c0-4603-ac08-1bd2e0dd5e5d",
   "metadata": {},
   "source": [
    "<a id='h16_cell'></a>\n",
    "#### Measures of Associations "
   ]
  },
  {
   "cell_type": "markdown",
   "id": "d659cbf0-0f89-4bd4-9acb-9aac8822b4a6",
   "metadata": {},
   "source": [
    "Now that the number of features has been reduced in the train dataset, a corr_matrix will be an effective tool for <i>measuring the association</i>, either positive or negative between the identified varaibles.<br>\n",
    "<br>\n",
    "Correlations have a built-in assumption that the association is linear, with one variable increasing or decreasing as another variable increases or decreases. This measure of linear association is referred to as <b>Pearson’s Correlation Coefficient</b>.\n",
    "\n",
    "The stength of corr_matrix assocations is routinely measured as follows:\n",
    "\n",
    "- 0.2-0.39     weak\n",
    "- 0.40-0.59    moderate\n",
    "- 0.6-0.79     strong \n",
    "\n",
    "    > A measure of association <b>>0.8</b> usually indicates the variables are too closely correlated which increases the chance of data bias.  \n",
    "\n",
    "These rankings are somewhat arbitrary and the context of the variables and corresponding results should always be considered.\n",
    "\n",
    "It is important to keep in mind that correlation measures association, however, it does not show if one variable's movement causes another variable's movement since the association could be caused by a third  variable or some external factor that the corr_matrix does not factor. "
   ]
  },
  {
   "cell_type": "markdown",
   "id": "e0f5d191-3800-4dcc-9217-1218bc4c79f4",
   "metadata": {},
   "source": [
    "<br>\n",
    "<p style=\"font-family: Arial; font-size:1.2em;color:#F4511E;\">\n",
    "    <u>In the <b>Responsive Correlation Matrix</b> example below</u> \n",
    "\n",
    "<p style=\"font-family: Arial; font-size:1em;color:#F4511E;\">The corr_matrix below lists the pearson coefficient for all variable associations. The legends indicates that variables are more correlated than not. That said, the association of between is BMI and Wt is <i>very strongly correlated</i> (0.85) as would be expected. The association between Ht and Wt has a <i>stong corrlation</i> (0.61). Likewise, there is a <i>very strong negative corrlation</i> between Ins_Age and Medical_History_23 (-0.39).\n",
    "\n",
    "<p style=\"font-family: Arial; font-size:1em;color:#F4511E;\"><i>Navigate to the VerticaPy <a href=\"https://www.vertica.com/python/gallery/responsive_correlation/index.php\">Responsive Correlation Matrix</a> page for more information. </i></p>"
   ]
  },
  {
   "cell_type": "markdown",
   "id": "86923685-b104-42bd-8855-050aa5388748",
   "metadata": {},
   "source": [
    "<p float=\"left\">\n",
    "  <img src=\"Figures/corr_chat_pearson_coeff.png\" width=\"600\" />\n",
    "</p>"
   ]
  },
  {
   "cell_type": "markdown",
   "id": "0188e856-150d-4780-af0c-c446712f6bd6",
   "metadata": {},
   "source": [
    "<div class=\"alert alert-block alert-info\">\n",
    "<i> <p style=\"color:black;\">The following code snippet can be copied/pasted into your Python 3 Jupyter Notebook and altered as needed for your environment:</p></i>\n",
    "\n",
    "```python\n",
    "train2_vdf.hchart(kind = \"pearson\")\n",
    "```"
   ]
  },
  {
   "cell_type": "markdown",
   "id": "69e206e2-864d-4953-923a-c163fa852c40",
   "metadata": {},
   "source": [
    "Boo"
   ]
  },
  {
   "cell_type": "markdown",
   "id": "50115625-25b1-462d-8308-f9e13db7852f",
   "metadata": {},
   "source": [
    "<br>\n",
    "<p style=\"font-family: Arial; font-size:1.2em;color:#F4511E;\">\n",
    "    <u>In the <b>Responsive Pivot Table</b> examples below</u> \n",
    "\n",
    "<p style=\"font-family: Arial; font-size:1em;color:#F4511E;\">The three different visualizations below reveal the number (count) of values for each Response Category for three different varaibles: Ins_Age, BMI, and Ht. As with a corr_matrix, the darker the orange, the higher the value count, indicating a good measurement of association. \n",
    "\n",
    "<p style=\"font-family: Arial; font-size:1em;color:#F4511E;\"><i>Navigate to the VerticaPy <a href=\"https://www.vertica.com/python/gallery/responsive_pivot_table/index.php\">Responsive Pivot Table</a> page for more information. </i></p>"
   ]
  },
  {
   "cell_type": "markdown",
   "id": "465abd05-cd66-4c4f-9592-062abfec4ea9",
   "metadata": {},
   "source": [
    "<p float=\"left\">\n",
    "  <img src=\"Figures/heatmap_count_age.png\" width=\"400\" /><br>\n",
    "  <img src=\"Figures/heatmap_count_bmi.png\" width=\"400\" /><br>\n",
    "  <img src=\"Figures/heatmap_count_ht.png\" width=\"400\" />\n",
    "</p>"
   ]
  },
  {
   "cell_type": "markdown",
   "id": "8ee5a71c-faa3-461f-9bbd-731942dffa15",
   "metadata": {},
   "source": [
    "<div class=\"alert alert-block alert-info\">\n",
    "<i> <p style=\"color:black;\">The following code snippet can be copied/pasted into your Python 3 Jupyter Notebook and altered as needed for your environment:</p></i>\n",
    "\n",
    "```python\n",
    "#Replace BMI with Ht and Ins_Age to obtain the other 2 charts above\n",
    "\n",
    "train2_vdf.hchart(x = \"BMI\",\n",
    "               y = \"Response\",\n",
    "               z = \"COUNT(*)\",\n",
    "               kind = \"heatmap\")\n",
    "```"
   ]
  },
  {
   "cell_type": "markdown",
   "id": "b91f6eb8-648a-488b-bf3b-6d1bbee315c0",
   "metadata": {},
   "source": [
    "<a id='h3_cell'></a>\n",
    "### Hypothosis"
   ]
  },
  {
   "cell_type": "markdown",
   "id": "27ca075f-ea53-4ba3-b411-18026bbbb802",
   "metadata": {},
   "source": [
    "A hypothesis is a clear, concise statement that can be accepted or rejected, based on the research findings."
   ]
  },
  {
   "cell_type": "markdown",
   "id": "93151f00-6019-4ce7-a73f-c7c2748df324",
   "metadata": {},
   "source": [
    "<p style=\"color:green;\"><i><b><u>H1:</u></b> There <b>is</b> correlation between height, weight, and age, and rejected life insurance applications.</i><br>\n",
    "    <br><i>True</i> or <i>False</i>?<p>"
   ]
  },
  {
   "cell_type": "markdown",
   "id": "42fe2170-d9a9-4cd6-8c7f-756c02dcc709",
   "metadata": {},
   "source": [
    "<a id='h15_cell'></a>\n",
    "#### Balancing an Imbalanced Dataset"
   ]
  },
  {
   "cell_type": "markdown",
   "id": "b22d3089-0d45-49a2-af71-a24d06d955b9",
   "metadata": {},
   "source": [
    "Now the the variables have been identified, the dataset must be balanced to ensure data bias has been reduced as much as possible. As observed in the historgram below, a serious imbalance exists in the Response categories. If a predictive model was built around this imbalanced dataset, predictions would almost certainly be skewed toward Response 8, which has anywhere from 2-100X more values than Responses 1-7."
   ]
  },
  {
   "cell_type": "markdown",
   "id": "260ab842-3aaa-4478-9000-3ab10a4b4433",
   "metadata": {},
   "source": [
    "<p float=\"left\">\n",
    "  <img src=\"Figures/response_imbalanced_hist.png\" width=\"330\" />  \n",
    "</p>"
   ]
  },
  {
   "cell_type": "markdown",
   "id": "34ce4107-d394-451c-9046-ccc81b191e15",
   "metadata": {},
   "source": [
    "<p style=\"font-family: Arial; font-size:1.2em;color:#F4511E;\">\n",
    "    <u>In the <b>Balance</b> examples below</u> \n",
    "\n",
    "<p style=\"font-family: Arial; font-size:1em;color:#F4511E;\">The histogram (column graph) in this example shows an equal distribution of the response_column (Response). It is important to keep in mind the the Balance function uses the <b>Vertica</b> database table, and not the VerticaPy vDataframe as the input relation.The chart below shows evenly distributed Response categories, thereby ensuring acceptable data performance. The VerticaPy commands used to create this balanced sample, and the corresponding histogram are all included in the subsequent code section.</p>  \n",
    "\n",
    "<p style=\"font-family: Arial; font-size:1em;color:#F4511E;\"><i>Navigate to the VerticaPy <a href=\"https://www.vertica.com/python/documentation-0.4.0/learn/Balance/\">Balance</a> help page for more information. </i></p>"
   ]
  },
  {
   "cell_type": "markdown",
   "id": "1e395d88-c57f-471f-96e5-0f6496bdd7a5",
   "metadata": {},
   "source": [
    "<p float=\"left\">\n",
    "  <img src=\"Figures/balanced_hybrid_sample_hist.png\" width=\"275\" />\n",
    "</p>"
   ]
  },
  {
   "cell_type": "markdown",
   "id": "dd3326a3-bfe6-4040-bd50-d87283ba4558",
   "metadata": {},
   "source": [
    "<div class=\"alert alert-block alert-info\">\n",
    "<i> <p style=\"color:black;\">The following code snippet can be copied/pasted into your Python 3 Jupyter Notebook and altered as needed for your environment:</p></i>\n",
    "\n",
    "```python\n",
    "#Input line 1\n",
    "from verticapy.learn.preprocessing import Balance\n",
    "balanced_vdf = Balance(name = \"prudential_balanced\", \n",
    "        input_relation = \"prudential_clean\",\n",
    "        y = \"Response\",\n",
    "        method = \"hybrid\", #over, under, hybrid \n",
    "        ratio = 1.0)\n",
    "display(balanced_vdf)\n",
    "\n",
    "#Input line 2\n",
    "balanced_vdf[\"Response\"].hist()\n",
    "```"
   ]
  },
  {
   "cell_type": "markdown",
   "id": "2be87f76-269f-4ffa-81f3-ef09e6a47a2c",
   "metadata": {},
   "source": [
    "<a id='h4_cell'></a>\n",
    "### Variable Selection"
   ]
  },
  {
   "cell_type": "markdown",
   "id": "91613a53-0340-447f-8194-8ef63eabe591",
   "metadata": {},
   "source": [
    "The final stage of variable selection is to identify the following attributes for each variable:\n",
    "- <b>Category</b>: Categorical (nominal & ordinal) or Numerical (discrete & continuous)\n",
    "- <b>Data type</b>: Text, Number, Date & Time, Boolean, etc."
   ]
  },
  {
   "cell_type": "markdown",
   "id": "5175567e-0e3c-49d6-9aab-3b51c27c3110",
   "metadata": {},
   "source": [
    "<p style=\"color:green;\">All variables in this analysis are <i>numerical</i>, and each variable's <i>data type</i> is outlined in the table below.</p>"
   ]
  },
  {
   "cell_type": "markdown",
   "id": "498400c0-eb4d-436f-8630-88ff2da5dbfd",
   "metadata": {},
   "source": [
    "<p float=\"left\">\n",
    "  <img src=\"Figures/balanced_dtypes.png\" width=\"350\" />\n",
    "</p>"
   ]
  },
  {
   "cell_type": "markdown",
   "id": "600f7d2c-fabc-4613-9f5b-f21865b8127a",
   "metadata": {},
   "source": [
    "<br>\n",
    "Next, variable selection determines the <b>Predictor</b>, or input varaible(s), along with the <b>Target</b>, or output variable(s)."
   ]
  },
  {
   "cell_type": "markdown",
   "id": "4b928367-1615-4ae1-bf10-05506af56582",
   "metadata": {},
   "source": [
    "<p style=\"color:green;\">Based on the Research Question: <i>Height (Ht), Weight (Wt), BMI,</i> and <i>Insurance Age (Ins_Age)</i> are the <b>predictor</b> variables, while <i>Response</i> is the <b>target,</b> otherwise known as the <b>response</b> or <b>outcome</b> variable.</p>"
   ]
  },
  {
   "cell_type": "markdown",
   "id": "05ef560f-56ce-49d8-9a48-4772967d2a19",
   "metadata": {},
   "source": [
    "<u>A data exploration analysis can then be either <i>univariate</i> or <i>bivariate</i></u>"
   ]
  },
  {
   "cell_type": "markdown",
   "id": "75b7e335-32b9-42b7-954b-a63a1191544f",
   "metadata": {},
   "source": [
    "<b>Univariate</b> analysis explores a single variable. \n",
    "\n",
    "- Box plots and histograms are common data visualization techniques used to explore continuous variables independantly. In turn, bar charts are used to show categorical variable frequencies. "
   ]
  },
  {
   "cell_type": "markdown",
   "id": "9d0ced5a-e15d-45c4-9818-8437a27fd856",
   "metadata": {},
   "source": [
    "<b>Bivariate</b> analysis studies the interactions between two or more variables.\n",
    "\n",
    "- Visualizations for bivariate analysis include scatter plots for exploring all continuous variables. Stacked column charts are used for analyzing pure categorical data. Mixed categorical and continuous data, often combines boxplots with swarmplots. "
   ]
  },
  {
   "cell_type": "markdown",
   "id": "35ac2908-9234-4de8-9481-cbf6157c05d5",
   "metadata": {},
   "source": [
    "<p style=\"color:green;\">As the effects of <i>height, weight, BMI,</i> and <i>age</i> on the different <i>Response</i> categories are explored in this data exploration and visualization analysis, this lesson performs a <b>bivariate analysis</b>.<p>\n"
   ]
  },
  {
   "cell_type": "markdown",
   "id": "613e3e6b-bb8e-4094-8299-116a57e6adc9",
   "metadata": {},
   "source": [
    "#### [Return to the Table of Contents](#toc_cell)"
   ]
  },
  {
   "cell_type": "markdown",
   "id": "3b946cb8",
   "metadata": {},
   "source": [
    "***"
   ]
  },
  {
   "cell_type": "markdown",
   "id": "3fd84ef3",
   "metadata": {},
   "source": [
    "<a id='h5_cell'></a>\n",
    "## Data Exploration and Visualization"
   ]
  },
  {
   "cell_type": "markdown",
   "id": "f51e5233-8e2d-4908-a770-4a9825a2d5ae",
   "metadata": {},
   "source": [
    "Data can be moved between Python Pandas dataframes and VerticaPy vDataframes, thereby enriching the data exploration and visualization featureset available to users. An example of this is presented in the [Python Visualization Tools](#PyViz) area of the [Dispersion](#h10_cell) section, where a VerticaPy vDataframe is exported to a Pandas Dataframe for additional plotting with <a href=\"https://seaborn.pydata.org/\">Seaborn</a>, an advanced statistical visualization tool.  With the exception of the Python Visualization Tools subsection, all other charts in Lesson 2 are generated with VerticaPy."
   ]
  },
  {
   "cell_type": "markdown",
   "id": "0ef0675d",
   "metadata": {},
   "source": [
    "<br>\n",
    "Lesson 2 builds off what you learned in Lesson 1. Likewise, the same open-source Prudential Insurance dataset from Kaggle, is used in all examples below. VerticaPy has scores of charts available for visualizing and modeling data. Please reference the Vertica <a href=\"https://www.vertica.com/python/gallery/\">Chart Gallery</a> for a comprehensive list.<br>\n",
    "\n",
    "> <p style=\"color:dimgrey;\"><br><b><u>NOTE:</u></b><i> If you have not already loaded and prepared the Kaggle dataset from Lesson 1, then you will need to do this first before continuing with the Lesson 2 Data Exploration and Data Visualization steps below.<p></i>\n",
    "<br>"
   ]
  },
  {
   "cell_type": "markdown",
   "id": "f374608a-1a17-4735-ac9e-5314d72127dd",
   "metadata": {},
   "source": [
    "<b><u>Prerequsites</u></b>\n",
    "<br>Lesson 2 assumes all the following Lesson 1 steps are completed: </br>\n",
    "\n",
    "1. The <i>Prudential Life Insurance Assessment</i> dataset has been imported from Kaggle into your Jupyter notebook\n",
    "2. <i>VerticaPy</i> has been installed and a connection to the Vertica database established\n",
    "3. The <i>train data</i> and <i>test data</i> has been converted to Vertica DataFrames and stored as tables in the Vertica database"
   ]
  },
  {
   "cell_type": "markdown",
   "id": "1fd594e6-41c0-4714-ae18-f12b672cdc62",
   "metadata": {},
   "source": [
    "<a id='h6_cell'></a>\n",
    "### Statistics"
   ]
  },
  {
   "cell_type": "markdown",
   "id": "781ce6c4-15b6-45de-9a13-d7586b3fe8e3",
   "metadata": {},
   "source": [
    "Understanding and applying statistics is important to accurate decision-making, it further helps businesses keep goals realistic and measurable, while minimizing errors and waste."
   ]
  },
  {
   "cell_type": "markdown",
   "id": "fc4574b5-df70-4c62-8554-cff299b8bb59",
   "metadata": {},
   "source": [
    "Statistics helps decision-makers avoid common analytical traps, such as:\n",
    "- <u>Confirmation bias:</u> Where a business stakeholder sees what they already believe to be true, as opposed to an objective interpretation of the data\n",
    "- <u>Overconfidence:</u> Assuming the analysis covers more than it actually does"
   ]
  },
  {
   "cell_type": "markdown",
   "id": "5975676a-a0f5-408d-bccc-f66b835750d9",
   "metadata": {},
   "source": [
    "Statistics helps to ensure information is accurate. Accurate information saves money in business operations and increases profit. Statistics impact a businesses bottom line in many way, some of which include:\n",
    "\n",
    "- Automating operations\n",
    "- Measuring performance\n",
    "- Forecasting conditions, production, and sales\n",
    "- Analyzing risk and return on investments\n",
    "- Market research"
   ]
  },
  {
   "cell_type": "markdown",
   "id": "25b6827c",
   "metadata": {},
   "source": [
    "<a id='h7_cell'></a>\n",
    "#### Descriptive"
   ]
  },
  {
   "cell_type": "markdown",
   "id": "c24742c9-9033-4e70-a059-1fbf64b47ea9",
   "metadata": {},
   "source": [
    "<b>Descriptive Statistics</b> are brief informational coefficients that summarize a given data set, which can be either a representation of the entire population or a sample of a population. Descriptive statistics consists of a diverse set of measurement categories, the following are the most basic and widely collected: \n",
    "\n",
    "1. <u>Central tendency</u> describes the data's <i>center</i> by measuring the <b>mean, median,</b> and <b> mode</b>\n",
    "2. <u>Variability</u> describes the data's <i>dispersion</i> or <i>spread</i> by measuring the <b>variance, minimum/maximum, kurtosis,</b> and <b>skewness</b>\n",
    "3. <u>Frequency</u> describes the data's occurrence by measuring the <b>count</b>"
   ]
  },
  {
   "cell_type": "markdown",
   "id": "a2a1d182-6a1e-4ee1-9202-d9a73aad645f",
   "metadata": {},
   "source": [
    "<br>\n",
    "<p style=\"font-family: Arial; font-size:1em;color:#F4511E;\"><u>In the <b>Descriptive Statistics</b> example below</u></p>\n",
    "\n",
    "<p style=\"font-family: Arial; font-size:1em;color:#F4511E;\">VerticaPy's aggregate function allows for many different statistics to be combined. In the example below, a rich set of descriptive statistics is put together in table format for subsequent visualizations.</p>\n",
    "\n",
    "<p style=\"font-family: Arial; font-size:1em;color:#F4511E;\"><i>Navigate to the VerticaPy <a href=\"https://www.vertica.com/python/documentation_last/vdataframe/main-methods/agg/\">Aggregate Function</a> help page for more information.</i></p>"
   ]
  },
  {
   "cell_type": "markdown",
   "id": "48ae721e-b8c3-45ea-94c6-844d69bd8cda",
   "metadata": {},
   "source": [
    "<img src=\"Figures/verticapy_agg_descr_stats.png\" alt=\"agg_func_descr_stats\" width=\"800\"/>"
   ]
  },
  {
   "cell_type": "markdown",
   "id": "12164a89-8265-48bd-8c1f-008026fd6d4c",
   "metadata": {},
   "source": [
    "<div class=\"alert alert-block alert-info\">\n",
    "<p style=\"color:black;\"><i>The following code snippet can be copied/pasted into your Python 3 Jupyter Notebook and altered as needed for your environment:</i></p>\n",
    "\n",
    "```python\n",
    "descr_stats_vdf = train2_vdf.agg(func = [\"min\", \"max\", \"mean\", \"median\", \"mode\", \"std\", \"kurtosis\", \"skewness\", \"range\", \"unique\", \"var\"])\n",
    "descr_stats_vdf\n",
    "```"
   ]
  },
  {
   "cell_type": "markdown",
   "id": "752a278a-2688-478b-8d51-4b8453ed5e16",
   "metadata": {},
   "source": [
    "> <p style=\"color:dimgrey;\"><br><b><u> NOTE:</u></b><i> The aggregate function will create a \"tablesample\" or view of the data.  It does not create a VerticaPy vDataframe. This tablesample must be convered to a \"vdf\" to be able to perform VerticaPy functions against the the vDataframe </i></p>\n",
    "<br>"
   ]
  },
  {
   "cell_type": "markdown",
   "id": "563a05d4-260a-423f-9bca-952e2db5e56e",
   "metadata": {},
   "source": [
    "<div class=\"alert alert-block alert-info\">\n",
    " \n",
    "> ```python\n",
    "> descr_stats = balanced_vdf.agg(func = [\"min\", \"max\", \"mean\", \"median\", \"mode\", \"std\", \"kurtosis\", \"skewness\", \"range\", \"unique\", \"var\"]).to_vdf()\n",
    "> descr_stats\n",
    "> ```"
   ]
  },
  {
   "cell_type": "markdown",
   "id": "f0bb9139-4a0e-4c7b-8bbd-e4d9d3cef9ce",
   "metadata": {},
   "source": [
    "<br>\n",
    "<p style=\"font-family: Arial; font-size:1.2em;color:#F4511E;\">\n",
    "    <u>In the <b>Boxplot</b> example below</u> \n",
    "\n",
    "<p style=\"font-family: Arial; font-size:1em;color:#F4511E;\">Boxplots show a graphical representation of the data's distribution. Boxplot dimentions include the minimum value (bottom bar), the maximum value (top bar), a rectangle denoting the Interquartile Range (IQR), which lists the first quartile at the bottom of the rectangle, and the third quartile at the top of the rectangle. The median value is denoted by a line through the rectangle. Outliers are identified as dots above or below the min/max lines.<br>\n",
    "<br>\n",
    "Response value Boxplots for Height (Ht/left), Weight (Wt/middle) and BMI (right) are presented below. Here, we see the plots are fairly uniform for Height, and the median values all relatively aligned. The notable exception is Reponse:2, which, while possesing a consistent median value, indicates an extreme minimum value. Likewise, the Weight boxplot reveals extreme maximum values for Response:1 and Response:5, though all the IQRs are between 0.2 and 0.4. Finally, the BMI chart shows extreme mix/max values for Reponse:5, and an overall higher spread of the data for nearly all Response values. \n",
    "</p>\n",
    "\n",
    "<p style=\"font-family: Arial; font-size:1em;color:#F4511E;\"><i>Navigate to the VerticaPy <a href=\"https://www.vertica.com/python/gallery/multi_boxplot/index.php\">Multiple Boxplot</a> help page for more information. </i></p>"
   ]
  },
  {
   "cell_type": "markdown",
   "id": "02b8261b-1113-4c74-b93a-bc628915edba",
   "metadata": {},
   "source": [
    "<p float=\"left\">\n",
    "  <img src=\"Figures/boxplot_ht-response.png\" width=\"300\" />\n",
    "  <img src=\"Figures/boxplot_wt-response.png\" width=\"300\" /> \n",
    "  <img src=\"Figures/boxplot_bmi-response.png\" width=\"300\" /> \n",
    "</p>"
   ]
  },
  {
   "cell_type": "markdown",
   "id": "9860b8e3-888e-4a75-9d47-14d061f5a713",
   "metadata": {},
   "source": [
    "<div class=\"alert alert-block alert-info\">\n",
    "<i> <p style=\"color:black;\">The following code snippet can be copied/pasted into your Python 3 Jupyter Notebook and altered as needed for your environment:</p></i>\n",
    "\n",
    "```python\n",
    "#Replace BMI with Ht and Wt to create the other boxplots shown above\n",
    "\n",
    "balanced_vdf[\"BMI\"].boxplot(by = \"Response\",\n",
    "                              color = [\"#0073E7\",\n",
    "                                       \"#FE5016\",\n",
    "                                       \"#8F3A84\",\n",
    "                                       \"#388E3C\",\n",
    "                                       \"#607D8B\",\n",
    "                                       \"#03A9F4\",\n",
    "                                       \"#F06292\",\n",
    "                                       \"#263133\",])\n",
    "```\n"
   ]
  },
  {
   "cell_type": "markdown",
   "id": "459b50c1-27ec-44f7-9e80-dc7d513af6df",
   "metadata": {},
   "source": [
    "<a id='h8_cell'></a>\n",
    "##### Outliers"
   ]
  },
  {
   "cell_type": "markdown",
   "id": "dcdd383b-86a3-4be7-a64d-ce2d548ac807",
   "metadata": {},
   "source": [
    "Outliers are anomalies that can distort the data and provide a false interpretation of the dataset. For this reason they must be identified and either removed, or else accounted for.\n",
    "\n",
    "Data visualization, numerical methods, interquartile ranges, and hypothesis testing are the most common ways of detecting outliers. A boxplot, histogram, or scatterplot, for example, makes it easy to spot points far outside the standard range, while a z-score informs how far from the mean a data point is. Once found, an analyst can investigate, adjust, omit, or ignore the outliers.\n",
    "\n",
    "> <p style=\"color:dimgrey;\"><br><b><u> NOTE:</u></b><i> A failure to remove outliers from the data sample <b>decreases</b> <a href=\"https://www.statsdirect.com/help/basics/validity.htm\">Internal Validity</a>, an essential element of statistical research since it indicates the data's trustworthiness, which is paramount to establishing confidence in the results. To possess high internal validity, it must be shown with relative certainty that no other factor caused the results. Outliers, especially extreme outliers present data uncertainty, skewing outcomes and potentially leading to erroneous cause and effect conclusions between varaibles.</i></p><br>"
   ]
  },
  {
   "cell_type": "markdown",
   "id": "f8fb7607-f714-4833-aefb-3cf0bb715e0b",
   "metadata": {},
   "source": [
    "<br>\n",
    "<p style=\"font-family: Arial; font-size:1.2em;color:#F4511E;\">\n",
    "    <u>In the <b> Outliers Plot</b> example below</u> \n",
    "\n",
    "<p style=\"font-family: Arial; font-size:1em;color:#F4511E;\">The following Outlier Plots leverage the statistical <a href=\"https://www.discoveringstatistics.com/statistics-hell-p/postverta-foundational-statistics/z-scores-and-probability/\">Z-Score</a> to standardize, or <a href=\"https://www.vertica.com/python/documentation-0.8.1/vdataframe/main-methods/normalize/\">Normalize</a> the values for each varaible prior to computing and plotting outliers. The chart on the left illustrates all outliers for the Insurance Age (Ins_Age) variable. Likewise, the chart on the right calculates the outlier values for two variables: BMI and Weight (Wt). In both instances, black dots above or outside the red line should likely be removed from the working sample, or else accounted for in some statistical manner.<br>\n",
    "</p>\n",
    "   \n",
    "<p style=\"font-family: Arial; font-size:1em;color:#F4511E;\"><i>Navigate to the VerticaPy <a href=\"https://www.vertica.com/python/gallery/outliers/index.php\" target=\"_blank\">Outliers Plot</a> help page for more information. </i></p>"
   ]
  },
  {
   "cell_type": "markdown",
   "id": "affe6d9b-c7b3-402b-9c27-51158cb69a9a",
   "metadata": {},
   "source": [
    "<p float=\"left\">\n",
    "  <img src=\"Figures/outliers_contour.png\" width=\"320\" />\n",
    "  <img src=\"Figures/outliers_2D_contour.png\" width=\"320\" /> \n",
    "</p>"
   ]
  },
  {
   "cell_type": "markdown",
   "id": "5451fb0e-69bc-4edb-8236-e3be7618d062",
   "metadata": {},
   "source": [
    "<div class=\"alert alert-block alert-info\">\n",
    "<i> <p style=\"color:black;\">The following code snippet can be copied/pasted into your Python 3 Jupyter Notebook and altered as needed for your environment:</p></i>\n",
    "\n",
    "```python\n",
    "#Input line 1\n",
    "balanced_vdf.outliers_plot([\"Ins_Age\"])\n",
    "\n",
    "#Input line 2\n",
    "balanced_vdf.outliers_plot([\"Wt\", \"BMI\"])\n",
    "```"
   ]
  },
  {
   "cell_type": "markdown",
   "id": "a3c1401d-f93e-42c8-b209-86011d0cb18d",
   "metadata": {},
   "source": [
    "<br>\n",
    "<p style=\"font-family: Arial; font-size:1.2em;color:#F4511E;\">\n",
    "    <u>In the <b>Multidimentional Scatterplot</b> example below</u> \n",
    "\n",
    "<p style=\"font-family: Arial; font-size:1em;color:#F4511E;\">The chart below illustates a Four-Dimentional (4D) scatterplot, with data points for 3 variables (Height, Weight, and BMI) plotted on three axes, and the the 4th variable (Response) represented by color. <br>\n",
    "<br>\n",
    "This multidimentional scatterplot not only shows the relationship between these 4 variables, but also illustrates how the <i>response variable</i> (Response) relates to the three <i>predictor variables</i>: Height (Ht), Weight (Wt), and BMI. Each of the 8 Response values is represented by a different colored dot whose position on the X, Y, and Z axes depends on its Ht, Wt, and BMI predictor values.<br>\n",
    "<br>\n",
    "3D scatterplots are ideal for quickly visualizing correlations between variables, as well as identifying outliers, which fall far from the main group of data points. Positive correlation are observed when data points rise in unison. Negative correlations between variables occur when data points for one or more variables rises, while data points for another variable falls.<br>\n",
    "    <br>\n",
    "    <i>Here, we see a strong <u>positive correlation</u> between Ht, Wt, and BMI for most Response values; with the exception of Response:Others, and possibly Response:1, which seem to show a <u>negative correlation</u> between Ht and BMI. Additionally, Repsonse:1 shows numerous <u>outliers</u> that likely need to be removed.</i></p>\n",
    "\n",
    "<p style=\"font-family: Arial; font-size:1em;color:#F4511E;\"><i>Navigate to the VerticaPy <a href=\"https://www.vertica.com/python/gallery/scatter3D/index.php\">Scatter 3D</a> help page for more information. </i></p>"
   ]
  },
  {
   "cell_type": "markdown",
   "id": "1f4761f8-a7e1-4ee2-b5d1-1e09afd8d58c",
   "metadata": {},
   "source": [
    "![outliers_scatter_3D](Figures/outliers_3D_scatter.png)"
   ]
  },
  {
   "cell_type": "markdown",
   "id": "1aba67e3-e6c7-4262-a361-37c0fd9ac9d9",
   "metadata": {},
   "source": [
    "<div class=\"alert alert-block alert-info\">\n",
    "<i> <p style=\"color:black;\">The following code snippet can be copied/pasted into your Python 3 Jupyter Notebook and altered as needed for your environment:</p></i>\n",
    "\n",
    "```python\n",
    "balanced_vdf.scatter([\"Ht\", \"Wt\", \"BMI\"],\n",
    "                     catcol = \"Response\",\n",
    "                     color = [\"#0073E7\",\n",
    "                              \"#FE5016\",\n",
    "                              \"#8F3A84\",\n",
    "                              \"#388E3C\",\n",
    "                              \"#607D8B\",\n",
    "                              \"#03A9F4\",\n",
    "                              \"#F06292\",\n",
    "                              \"#263133\",])\n",
    "```"
   ]
  },
  {
   "cell_type": "markdown",
   "id": "c946b324-367b-41a9-a010-3ab9f97b4502",
   "metadata": {},
   "source": [
    "<a id='h9_cell'></a>\n",
    "##### Missingness"
   ]
  },
  {
   "cell_type": "markdown",
   "id": "840b1fb8-35c9-46e7-bd30-10c4b879b09e",
   "metadata": {},
   "source": [
    "Missing data is a common problem with real world datasets. It results from <b>deliberate omissions</b>, such as a person failing to answer to one or more survey questions, or to different types of <b>random omissions</b> such as gaps in IoT sensor data transmissions, for example. "
   ]
  },
  {
   "cell_type": "markdown",
   "id": "d3610cfd-f32f-4642-b039-5463d06e7696",
   "metadata": {},
   "source": [
    "While there is no perfect way to handle missing data, several techniques exist. \n",
    "\n",
    "1) The first, and simplest, is to <b>drop</b> or exclude the missing data, also known as <b>null values</b> from the dataset.\n",
    "- This is the least preferred method since it often induces data bias by altering key characteristics of the dataset, such at the global sample size.\n",
    "\n",
    "2) For <b>randomly missing <u>quantitative</u> data</b>, the preferred method is usually to replace the null values with a conservative estimate, based on all the other variable's values. The mean value, is the most common method used to impute this missing data, however, other options exist.\n",
    "- If too much data is missing, then this too will cause skew and induce bias.\n",
    "\n",
    "3) Lastly, for <b><u>qualitative</u> survey data</b>, missing data can be estimated from another responsant's submitted results.\n",
    "- This too induces a level of data bias in the dataset, since the answer does not belong to the original survey respondant.\n",
    "\n",
    "<i>Option 1 should be used with care. Options 2 and 3 achieve acceptable performance and generally reduce data bias.</i>"
   ]
  },
  {
   "cell_type": "markdown",
   "id": "b1035755-7699-4125-9de1-e4a7fa11d796",
   "metadata": {},
   "source": [
    "<br>\n",
    "<p style=\"font-family: Arial; font-size:1.2em;color:#F4511E;\">\n",
    "    <u>In the <b>count missing data</b> example below</u> \n",
    "\n",
    "<p style=\"font-family: Arial; font-size:1em;color:#F4511E;\">Once the dataset is imported into a Vertica Dataframe, the first step is to obtain a count on the number of missing values for each variable. Here, we see there are 59,381 total possible values, however, Medical_History_15 has only 14,785 values. </p>\n",
    "\n",
    "<p style=\"font-family: Arial; font-size:1em;color:#F4511E;\"><i>Navigate to the VerticaPy <a href=\"https://www.vertica.com/python/documentation_last/vdataframe/main-methods/count/\" target=\"_blank\">Count</a> help page for more information. </i></p>"
   ]
  },
  {
   "cell_type": "markdown",
   "id": "0860b94e-a20f-4d8f-9003-27cfc7dbbf06",
   "metadata": {},
   "source": [
    "<img src=\"Figures/train1_count_full.png\" alt=\"unaltered_count\" width=\"400\"/>"
   ]
  },
  {
   "cell_type": "markdown",
   "id": "00708c24-337a-464d-a3c5-568c30355c41",
   "metadata": {},
   "source": [
    "<div class=\"alert alert-block alert-info\">\n",
    "<i> <p style=\"color:black;\">The following code snippet can be copied/pasted into your Python 3 Jupyter Notebook and altered as needed for your environment:</p></i>\n",
    "\n",
    "```python\n",
    "train_vdf.count()\n",
    "```"
   ]
  },
  {
   "cell_type": "markdown",
   "id": "62af5d16-7faa-40bd-a429-e4a4a5e23613",
   "metadata": {},
   "source": [
    "<br>\n",
    "<p style=\"font-family: Arial; font-size:1.2em;color:#F4511E;\">\n",
    "    <u>In the <b>drop missing data</b> example below</u> \n",
    "\n",
    "<p style=\"font-family: Arial; font-size:1em;color:#F4511E;\">Since >66% of the values are missing from Medical_History_15, it would seem reasonable to simply drop these missing values. However, dropping these values also reduces all other dataframe values to the same number of values as Medical_History_15. As such, dropping data in this scenerio reduces the train dataset by >66%, deleting 44,596 records from the dataset which induces considerable bias.</p>\n",
    "\n",
    "<p style=\"font-family: Arial; font-size:1em;color:#F4511E;\"><i>Navigate to the VerticaPy <a href=\"https://www.vertica.com/python/documentation_last/vdataframe/main-methods/dropna/\">Dropna</a> help page for more information. </i></p>"
   ]
  },
  {
   "cell_type": "markdown",
   "id": "b14633ea-4879-4cb7-90cb-08e512fadfc0",
   "metadata": {},
   "source": [
    "<img src=\"Figures/train1_count_drop_medhist15.png\" alt=\"dropna\" width=\"400\"/>"
   ]
  },
  {
   "cell_type": "markdown",
   "id": "e228381d-bbf2-4f7d-b0c9-49c1070f6781",
   "metadata": {},
   "source": [
    "<div class=\"alert alert-block alert-info\">\n",
    "<i> <p style=\"color:black;\">The following code snippet can be copied/pasted into your Python 3 Jupyter Notebook and altered as needed for your environment:</p></i>\n",
    "\n",
    "```python\n",
    "train1_vdf.dropna(columns = [\"Medical_History_15\"])\n",
    "train1_vdf.count()\n",
    "```"
   ]
  },
  {
   "cell_type": "markdown",
   "id": "2fe80b7f-c184-43ec-918b-21acca8cbc0f",
   "metadata": {},
   "source": [
    "<br>\n",
    "<p style=\"font-family: Arial; font-size:1.2em;color:#F4511E;\">\n",
    "    <u>In the <b>Impute missing data</b> example below</u> \n",
    "\n",
    "<p style=\"font-family: Arial; font-size:1em;color:#F4511E;\">Instead of dropping null values from the train dataset, we instead fill all null values (fillna) using each variable's mean value. This decreases data bias by ensuring none of the data in the train dataset is lost.</p>\n",
    "\n",
    "<p style=\"font-family: Arial; font-size:1em;color:#F4511E;\"><i>Navigate to the VerticaPy DataFrame <a href=\"https://www.vertica.com/python/documentation_last/vdataframe/vcolumn-methods/fillna/\" target=\"_blank\">Fillna</a> help page for more information. </i></p>"
   ]
  },
  {
   "cell_type": "markdown",
   "id": "3d64b901-945f-4a96-a26e-041c562f38e1",
   "metadata": {},
   "source": [
    "<img src=\"Figures/train2_fillna.png\" alt=\"fillna\" width=\"800\"/>\n",
    "<img src=\"Figures/train2_count_full.png\" alt=\"train2_count\" width=\"400\"/>"
   ]
  },
  {
   "cell_type": "markdown",
   "id": "dfd0b1bf-f674-40d5-80b6-e38723c2567d",
   "metadata": {},
   "source": [
    "<div class=\"alert alert-block alert-info\">\n",
    "<i> <p style=\"color:black;\">The following code snippet can be copied/pasted into your Python 3 Jupyter Notebook and altered as needed for your environment:</p></i>\n",
    "\n",
    "```python\n",
    "#Input Line 1\n",
    "train2_vdf.fillna (\n",
    "    numeric_only = {\"True\"})\n",
    "\n",
    "#Input Line 2\n",
    "train2_vdf.count()\n",
    "```"
   ]
  },
  {
   "cell_type": "markdown",
   "id": "2eca190a-73b8-49d5-bd4a-7043d6a5736e",
   "metadata": {},
   "source": [
    "<a id='h10_cell'></a>\n",
    "##### Dispersion"
   ]
  },
  {
   "cell_type": "markdown",
   "id": "72efb6bb-e8d7-455b-b8a0-ac36d95fb981",
   "metadata": {},
   "source": [
    "Measurements of <b>Dispersion</b> describe the spread (or distribution) of the data around the dataset's central (or average) value. Dispersion can be calculated using various measures like mean, standard deviation, variance, and range to name a few."
   ]
  },
  {
   "cell_type": "markdown",
   "id": "4ce9cee0-faef-4c67-92ad-bc2367267aae",
   "metadata": {},
   "source": [
    "<br>\n",
    "<p style=\"font-family: Arial; font-size:1.2em;color:#F4511E;\">\n",
    "    <u>In the <b>Multidimentional Spidar Chart</b> example below</u> \n",
    "\n",
    "<p style=\"font-family: Arial; font-size:1em;color:#F4511E;\">The Response values (1-8) are plotted on the linear axis of the Spidar chart's polar coordinates. Three dataset variables, Weight, Height, and BMI, are then plotted on the radial axis, and radiate out from the center of the circle. The dispersion of all these different data dimensions can be viewed simultaneously by measuring each angle. Here, the first take-away is the symmetry of the different data dimentions.  However, upon close inspection, Height and Response 8 appear to have a strong association. As does BMI and Response 5. Finally, Weight appears to be correlated to multiple Responses: 1, 2, 3, 5, 6.\n",
    "</p>\n",
    "\n",
    "<p style=\"font-family: Arial; font-size:1em;color:#F4511E;\"><i>Navigate to the VerticaPy <a href=\"https://www.vertica.com/python/gallery/spider/index.php\">Spider Chart</a> help page for more information. </i></p>"
   ]
  },
  {
   "cell_type": "markdown",
   "id": "175d2cdc-912a-40f0-9a4f-44088c06ad61",
   "metadata": {},
   "source": [
    "<img src='Figures/spider_chart.png' width=\"500\" height=\"500\">"
   ]
  },
  {
   "cell_type": "markdown",
   "id": "5c7a5712-e955-490f-adf4-c3916449d26b",
   "metadata": {},
   "source": [
    "<div class=\"alert alert-block alert-info\">\n",
    "<i> <p style=\"color:black;\">The following code snippet can be copied/pasted into your Python 3 Jupyter Notebook and altered as needed for your environment:</p></i>\n",
    "\n",
    "```python\n",
    "balanced_vdf.hchart(x = \"Response\", y = [\"AVG(Wt) AS Weight\",\n",
    "                                  \"AVG(Ht) AS Height\",\n",
    "                                  \"AVG(BMI) AS BMI\"], kind = \"spider\")\n",
    "```"
   ]
  },
  {
   "cell_type": "markdown",
   "id": "d373253b-19ad-4553-970d-85c003a61cb6",
   "metadata": {},
   "source": [
    "<a id=\"PyViz\"></a>\n",
    "##### Python Visualization Tools"
   ]
  },
  {
   "cell_type": "markdown",
   "id": "57f74bb5-e3ad-465e-ba80-c58e30311f44",
   "metadata": {},
   "source": [
    "Advanced staticial plotting tools like Python's <b>Seaborn</b>, are idea for interpreting the shape of varaibles in a dataset. "
   ]
  },
  {
   "cell_type": "markdown",
   "id": "72d448b3-89b4-4055-bb74-0984b7c4e7a7",
   "metadata": {},
   "source": [
    "<img src=\"Figures/to_pandas.png\" alt=\"to_pandas\" width=\"800\"/>"
   ]
  },
  {
   "cell_type": "markdown",
   "id": "6a3ea124-6820-489e-8fc4-8e2f71881276",
   "metadata": {},
   "source": [
    "<div class=\"alert alert-block alert-info\">\n",
    "<p style=\"color:black;\"><i>The following code snippet uses pure python (not VerticaPy) and can be copied/pasted into your Python 3 Jupyter Notebook to create the above bell curve reflecting a normal distribution:</i></p>\n",
    "\n",
    "```python\n",
    "balanced_pd = balanced_vdf.to_pandas()\n",
    "balanced_pd\n",
    "```"
   ]
  },
  {
   "cell_type": "markdown",
   "id": "b4aceaa3-1801-4341-b47b-496561959dd9",
   "metadata": {},
   "source": [
    "<br>\n",
    "<b>All the following libraries and packages must be imported into your Jupyter notebook prior to building the Matplotlib and Seaborn plots that follow.</b>"
   ]
  },
  {
   "cell_type": "markdown",
   "id": "ee174fbc-dd28-4ea2-ab9c-c8eaa4a8a599",
   "metadata": {},
   "source": [
    "<div class=\"alert alert-block alert-info\">\n",
    "<i> <p style=\"color:black;\">The following code snippet uses pure python (not VerticaPy) and can be copied/pasted into your Python 3 Jupyter Notebook to create the above bell curve reflecting a normal distribution:</p></i>\n",
    "\n",
    "```python\n",
    "import numpy as np\n",
    "import matplotlib.pyplot as plt\n",
    "import scipy.stats as stats\n",
    "from scipy.stats import norm\n",
    "import math\n",
    "import seaborn as sns\n",
    "```"
   ]
  },
  {
   "cell_type": "markdown",
   "id": "81be0a42-1b0d-49f7-85a7-6d0e731860f0",
   "metadata": {},
   "source": [
    "<br>Data Visualization techniques like line graphs are the most effective method for determining the shape of the data's distibution around this central value. A <b>normal distribution</b> reflects a perfectly symmetrical bell-shaped curve, referred to as a <b>bell curce</b>."
   ]
  },
  {
   "cell_type": "markdown",
   "id": "be04d173-28bb-4af8-a1a6-f2d7c14177df",
   "metadata": {},
   "source": [
    "![BellCurve](Figures/bell_curve_normal_dist.png)"
   ]
  },
  {
   "cell_type": "markdown",
   "id": "de07b2a3-1b4b-46f7-a32c-b400582b035f",
   "metadata": {},
   "source": [
    "<div class=\"alert alert-block alert-info\">\n",
    "<i> <p style=\"color:black;\">The following code snippet uses pure python (not VerticaPy) and can be copied/pasted into your Python 3 Jupyter Notebook to create the above bell curve reflecting a normal distribution:</p></i>\n",
    "\n",
    "```python\n",
    "mu = 0\n",
    "variance = 1\n",
    "sigma = math.sqrt(variance)\n",
    "x = np.linspace(mu - 3*sigma, mu + 3*sigma, 100)\n",
    "plt.plot(x, stats.norm.pdf(x, mu, sigma))\n",
    "plt.show()\n",
    "```"
   ]
  },
  {
   "cell_type": "markdown",
   "id": "d891057b-0654-4aa4-b274-4bc196800e36",
   "metadata": {},
   "source": [
    "The top of the bell (highest point) represents the most probable event in a series of data (usually its mean value), while all other possible occurrences are symmetrically distributed (or scattered) around the mean, creating a downward-sloping curve on each side of the peak.\n",
    "\n",
    "- The width of the bell curve is described by its <b>standard deviation</b>."
   ]
  },
  {
   "cell_type": "markdown",
   "id": "ec286524-4cb0-4966-bea1-cf88650400cb",
   "metadata": {},
   "source": [
    "<b>Non-normal distributions</b> lack symmetry. For instance, if the normal distribution tilts to one side or the other, it is said to be <b>skewed</b>. Likewise, if the data's tail is longer or shorter, fatter or thiner than the normal distirubtion's tail, then a kurtosis measurement follows. Kurtosis measures the extreme high or low values of either tail. "
   ]
  },
  {
   "cell_type": "markdown",
   "id": "8748019b-191c-42cc-a92e-db78ad5a680c",
   "metadata": {},
   "source": [
    "<br>\n",
    "<p style=\"font-family: Arial; font-size:1.2em;color:#F4511E;\">\n",
    "    <u>In this <b>Bell Curve</b>example below</u> \n",
    "\n",
    "<p style=\"font-family: Arial; font-size:1em;color:#F4511E;\">These three plots are all of the BMI variable show. The line graph on the left reflects a non-normal distribution. However, upon performing a kernel-density plot, which charts line graph over a historgram of the datapoints, we see that the distribution is actually quite close to a normal distribution. However, upon plotting the different Repsonse values for each BMI, we again see most of the distributions are non-normal; however, a couple appear close to normal.</p>"
   ]
  },
  {
   "cell_type": "markdown",
   "id": "a495aa49-fc19-49a3-801d-7c4da6152449",
   "metadata": {},
   "source": [
    "<p float=\"left\">\n",
    "  <img src=\"Figures/bell_curve_bmi.png\" width=\"300\" />\n",
    "  <img src=\"Figures/bell_curve_bmi_sns.png\" width=\"300\" /> \n",
    "  <img src=\"Figures/bell_curve_group_response_bmi.png\" width=\"300\" /> \n",
    "</p>"
   ]
  },
  {
   "cell_type": "markdown",
   "id": "549a9ae0-e47d-425f-90dd-58058ee23bc5",
   "metadata": {},
   "source": [
    "<div class=\"alert alert-block alert-info\">\n",
    "<i> <p style=\"color:black;\">The following code snippet uses pure python (not VerticaPy) and can be copied/pasted into your Python 3 Jupyter Notebook to create the above bell curve reflecting a normal distribution:</p></i>\n",
    "\n",
    "```python\n",
    "#Input line 1\n",
    "balanced_pd['BMI'].plot(kind='kde')\n",
    "\n",
    "#Input line 2\n",
    "import seaborn as sns\n",
    "sns.distplot(balanced_pd['BMI'], bins=30)\n",
    "\n",
    "#Input line 3\n",
    "balanced_pd.groupby('Response')['BMI'].plot(kind='kde')\n",
    "#add legend\n",
    "plt.legend(['1', '2', '3', '4', '5', '6', '7', '8'], title='Response')\n",
    "#add x-axis label\n",
    "plt.xlabel('BMI')\n",
    "```"
   ]
  },
  {
   "cell_type": "markdown",
   "id": "0793cc26-f3bf-43f4-b448-24ec5a06bcc7",
   "metadata": {},
   "source": [
    "<b><u>Skew</u></b>\n",
    "- A <b>Positively Skewed</b> distribution is indicated by positive mean, median, and mode values. These values are concentrated on the left side of the graph, and possess a long trailing tail on the right.\n",
    "\n",
    "- A <b> Negatively Skewed</b> distribution begins with a long left tail that is precedes values concentrated on the right-side of the graph. Negative mean, median, and mode values indicate a negative skew. \n",
    "\n",
    "<i>A normal distibution has 0 skew.</i>"
   ]
  },
  {
   "cell_type": "markdown",
   "id": "9c930e30-5ce2-4368-992e-a958218ac74d",
   "metadata": {},
   "source": [
    "<p style=\"font-family: Arial; font-size:1.2em;color:#F4511E;\">\n",
    "    <u>In the <b>Skew</b> example below</u> \n",
    "\n",
    "<p style=\"font-family: Arial; font-size:1em;color:#F4511E;\">The Height (Ht) variable is plotted below in order to understand its distribution. The left line graph reveals a long left tail preceding the curve of the plotted values. This further aligns with the histogram datapoints, which reflect many height datapoints close to 0. This aligns with Negatively skewed data.</p> \n",
    "    \n",
    "<p style=\"font-family: Arial; font-size:1em;color:#F4511E;\">Postively skewed data, would reflect a long tail on the right, after the plotted values. The Weight (Wt) varaible, plotted in the next Kurtosis section, is an example of postiively skewed data.</p>"
   ]
  },
  {
   "cell_type": "markdown",
   "id": "2a72c187-b5cc-4091-98ac-9d6eac6bbe01",
   "metadata": {},
   "source": [
    "<p float=\"left\">\n",
    "  <img src=\"Figures/bell_curve_ht.png\" width=\"300\" />\n",
    "  <img src=\"Figures/bell_curve_ht_sns.png\" width=\"300\" /> \n",
    "</p>"
   ]
  },
  {
   "cell_type": "markdown",
   "id": "89260850-b6c7-43b9-a2b0-3da45288dd6b",
   "metadata": {},
   "source": [
    "<div class=\"alert alert-block alert-info\">\n",
    "<i> <p style=\"color:black;\">The following code snippet uses pure python (not VerticaPy) and can be copied/pasted into your Python 3 Jupyter Notebook to create these charts:</p></i>\n",
    "\n",
    "```python\n",
    "```python\n",
    "#Input line 1\n",
    "balanced_pd['Ht'].plot(kind='kde')\n",
    "\n",
    "#Input line 2\n",
    "sns.distplot(balanced_pd['Ht'], bins=30)\n",
    "```\n",
    "```\n"
   ]
  },
  {
   "cell_type": "code",
   "execution_count": null,
   "id": "ad1f674b-6cf9-4046-af85-eb418a5cc84e",
   "metadata": {},
   "outputs": [],
   "source": []
  },
  {
   "cell_type": "markdown",
   "id": "73d702f0-aaff-4802-9d70-bb3c9f432e3d",
   "metadata": {},
   "source": [
    "<u><b>Kurtosis</b></u>\n",
    "- Distributions with <b>High Kurtosis</b> exhibit <i>long-fat tails</i> when compared to the center of the distribution, that far-exceed the normal distribution's tail. \n",
    "\n",
    "- Distributions with <b>Low Kurtosis</b> exhibit <i>short-skinny tails</i> that are generally less extreme than the tails of the normal distribution. \n",
    "\n",
    "<i>The tail on a normal distribution is typically 3 standard deviations away from the mean.  Large Kurtosis is therefore +3, and Small Kurtosis is -3.</i>"
   ]
  },
  {
   "cell_type": "markdown",
   "id": "9894b21d-cb67-43d9-8718-63bfff2b5436",
   "metadata": {},
   "source": [
    "<p style=\"font-family: Arial; font-size:1.2em;color:#F4511E;\">\n",
    "    <u>In the <b>High Kurtosis</b> example below</u> \n",
    "\n",
    "<p style=\"font-family: Arial; font-size:1em;color:#F4511E;\">The Weight (Wt) variable is plotted below in order to understand its distribution. The left line graph reveals a peak at the top; which further aligns with the histogram datapoints. This reflects a high kurtosis, which indicates either an extreme positive or an extreme negative. In this case, the weight varaible reflects an extreme value of approximately +5.</p>"
   ]
  },
  {
   "cell_type": "markdown",
   "id": "875bbd46-1b26-46bd-9d76-50e7ce7e1b32",
   "metadata": {},
   "source": [
    "<p float=\"left\">\n",
    "  <img src=\"Figures/bell_curve_wt.png\" width=\"300\" />\n",
    "  <img src=\"Figures/bell_curve_wt_sns.png\" width=\"300\" /> \n",
    "</p>"
   ]
  },
  {
   "cell_type": "markdown",
   "id": "7cc2ec26-4edc-4d2e-8c51-4e99bf77ba91",
   "metadata": {},
   "source": [
    "<div class=\"alert alert-block alert-info\">\n",
    "<i> <p style=\"color:black;\">The following code snippet uses pure python (not VerticaPy) and can be copied/pasted into your Python 3 Jupyter Notebook to create these charts:</p></i>\n",
    "    \n",
    "```python\n",
    "```python\n",
    "#Input line 1\n",
    "balanced_pd['Wt'].plot(kind='kde')\n",
    "\n",
    "#Input line 2\n",
    "sns.distplot(balanced_pd['Wt'], bins=30)\n",
    "```\n",
    "```\n"
   ]
  },
  {
   "cell_type": "markdown",
   "id": "de773634-5518-4e34-929a-67cd88318c0c",
   "metadata": {},
   "source": [
    "<p style=\"font-family: Arial; font-size:1.2em;color:#F4511E;\">\n",
    "    <u>In the <b>Low Kurtosis</b> example below</u> \n",
    "\n",
    "<p style=\"font-family: Arial; font-size:1em;color:#F4511E;\">The Insurance Age (Ins_Age) variable is plotted below in order to understand its distribution. The left line graph reveals a shape indicative of a bell; however, when the Ins_Age datapoints are plotted in an underlying histogram, the short-flat bell curve is revealed, indicating a low kurtosis.</p>"
   ]
  },
  {
   "cell_type": "markdown",
   "id": "3ee987f3-28ff-407d-b03b-b6c3eb2879a0",
   "metadata": {},
   "source": [
    "<p float=\"left\">\n",
    "  <img src=\"Figures/bell_curve_ins_age.png\" width=\"300\" />\n",
    "  <img src=\"Figures/bell_curve_ins_age_sns.png\" width=\"300\" /> \n",
    "</p>"
   ]
  },
  {
   "cell_type": "markdown",
   "id": "1d786f12-9823-43ad-a14e-86375b609237",
   "metadata": {},
   "source": [
    "<div class=\"alert alert-block alert-info\">\n",
    "<i> <p style=\"color:black;\">The following code snippet uses pure python (not VerticaPy) and can be copied/pasted into your Python 3 Jupyter Notebook to create these charts:</p></i>\n",
    "\n",
    "```python\n",
    "#Input line 1\n",
    "balanced_pd['Ins_Age'].plot(kind='kde')\n",
    "\n",
    "#Input line 2\n",
    "sns.distplot(balanced_pd['Ins_Age'], bins=30)\n",
    "```\n"
   ]
  },
  {
   "cell_type": "markdown",
   "id": "df68475c-0265-436b-bcb7-10448bafab3e",
   "metadata": {},
   "source": [
    "#### [Return to the Table of Contents](#toc_cell)"
   ]
  },
  {
   "cell_type": "markdown",
   "id": "325108b7-c760-4042-a14a-2389ac0d8726",
   "metadata": {},
   "source": [
    "<a id='h11_cell'></a>\n",
    "#### Inferential"
   ]
  },
  {
   "cell_type": "markdown",
   "id": "26302114-05bf-48c0-a815-64e17f57e81e",
   "metadata": {},
   "source": [
    "<b>Inferential Statistics</b> provides a way to draw conclusions about general populations based on sampling a smaller subset of the data. However, for inferential statistics to accurately reflect the global population, the sample must be both <i>unbiased</i> and <i>random</i>. "
   ]
  },
  {
   "cell_type": "markdown",
   "id": "74b06331-caaf-49ae-9b74-75bca250d5ed",
   "metadata": {},
   "source": [
    "Inferential statistics is often used for hypothosis testing, or when it is impossible or impractical to obtain data from an entire population. However, it is also used to determine the statistical validity of ML models against the trained data."
   ]
  },
  {
   "cell_type": "markdown",
   "id": "3f0a846a-b03c-4630-9f3e-899b3bc54001",
   "metadata": {},
   "source": [
    "<a id='h12_cell'></a>\n",
    "##### Data Sampling"
   ]
  },
  {
   "cell_type": "markdown",
   "id": "b0bbc5db-b2f5-44f4-9916-d0cd0c479984",
   "metadata": {},
   "source": [
    "Data sampling is an inferential statistics technique used to select, manipulate, and analyze a representative sample (or subset) of data to identify patterns and trends in the dataset's larger global population. Data sampling, therfore, contains three criteria:"
   ]
  },
  {
   "cell_type": "markdown",
   "id": "180bfa6c-e1a8-4ca5-b570-6a202bebcfaa",
   "metadata": {},
   "source": [
    "1. The general or global <b>population</b> is a group of elements with common characteristics, that we would like to make inferences against.\n",
    "\n",
    "2. The <b>sample</b> represents a subset of the overall population.\n",
    "\n",
    "3. When a collection of samples is obtained from the general population, a <b>sampling</b> occurs."
   ]
  },
  {
   "cell_type": "markdown",
   "id": "4c7390ca-dc46-4c7f-bda2-fdedba4fd8c9",
   "metadata": {},
   "source": [
    "<p style=\"font-family: Arial; font-size:1.2em;color:#F4511E;\">\n",
    "    <u>In the <b>Sampling</b> example below</u> \n",
    "\n",
    "<p style=\"font-family: Arial; font-size:1em;color:#F4511E;\">A representative sample is taken of the global dataset. The sample is comprised of 1/3 or 33% of all data in the dataset.  Thus, the new sample comprises 19,587 rows, out of the training datasets 59.381 total rows. Moreover, a stratified random sample is performed thereby ensuring all subgroups are represented.</p>\n",
    "\n",
    "<p style=\"font-family: Arial; font-size:1em;color:#F4511E;\"><i>Navigate to the VerticaPy DataFrame <a href=\"https://www.vertica.com/python/documentation_last/vdataframe/main-methods/sample/\" target=\"_blank\">Sampling</a> help page for more information. </i></p>"
   ]
  },
  {
   "cell_type": "markdown",
   "id": "2b8d0d34-e05d-4824-8196-03d846222e09",
   "metadata": {},
   "source": [
    "<img src=\"Figures/sample_table.png\" alt=\"hybridsample\" width=\"800\"/>"
   ]
  },
  {
   "cell_type": "markdown",
   "id": "bf992ce9-575e-4150-a6de-77e6d42230df",
   "metadata": {},
   "source": [
    "<div class=\"alert alert-block alert-info\">\n",
    "<i> <p style=\"color:black;\">The following code snippet can be copied/pasted into your Python 3 Jupyter Notebook and altered as needed for your environment:</p></i>\n",
    "\n",
    "```python\n",
    "balanced_vdf.sample(x = 0.33,\n",
    "               method = \"stratified\", \n",
    "               by = [\"Response\"])\n",
    "```"
   ]
  },
  {
   "cell_type": "markdown",
   "id": "978f04d2-3a65-4bf3-aa28-1550977cbc29",
   "metadata": {},
   "source": [
    "#### [Return to the Table of Contents](#toc_cell)"
   ]
  },
  {
   "cell_type": "markdown",
   "id": "2219d87a-c829-4c0b-ab2e-eab73acc02b5",
   "metadata": {},
   "source": [
    "\n",
    "<u>Instructional Video:</u>\n",
    "\n",
    "<i>The following 9 minute instructional video is intended to guide you through this data exploration and visualization lesson. The video does not possess any narriation. Moreover, many of the steps in this lesson require considerable time, all wait times have been removed from the video. </i>"
   ]
  },
  {
   "cell_type": "code",
   "execution_count": 8,
   "id": "b0be9a02-bd00-4ee0-899f-c4decde77685",
   "metadata": {},
   "outputs": [
    {
     "data": {
      "image/jpeg": "[encoded data removed]",
      "text/html": [
       "\n",
       "        <iframe\n",
       "            width=\"400\"\n",
       "            height=\"300\"\n",
       "            src=\"https://www.youtube.com/embed/viDlXlIlQlc\"\n",
       "            frameborder=\"0\"\n",
       "            allowfullscreen\n",
       "            \n",
       "        ></iframe>\n",
       "        "
      ],
      "text/plain": [
       "<IPython.lib.display.YouTubeVideo at 0x7f53278bc250>"
      ]
     },
     "execution_count": 8,
     "metadata": {},
     "output_type": "execute_result"
    }
   ],
   "source": [
    "\"\"\"\n",
    "    Helper video showing all steps in this lesson\n",
    "    Video Title/URL: Boo --- https://youtu.be/viDlXlIlQlc\n",
    "    Ensure that your YouTube video resolution is set to 1080p\n",
    "    \"\"\"\n",
    "\n",
    "YouTubeVideo('viDlXlIlQlc')"
   ]
  },
  {
   "cell_type": "markdown",
   "id": "c7148002-6481-4f52-9b61-47d49c91cbaf",
   "metadata": {},
   "source": [
    "<h3 style=\"font-size:20px;color:green;\"><u>Next Steps: Modeling & Analytics</u>"
   ]
  },
  {
   "cell_type": "markdown",
   "id": "1e90bca7-4809-4e99-99f2-610679d647f2",
   "metadata": {},
   "source": [
    "<p style=\"color:green;\"><i>The dataset is normalized upon completion of all steps in Lesson 2 and ready for data modeling and analytics. <br>\n",
    "    <br>This next modeling & analytics stage is where the (Lesson 2) Hypothesis is either accepted or rejected, based on modelling experiment outcomes.</i></p>"
   ]
  },
  {
   "cell_type": "markdown",
   "id": "c02f25ee",
   "metadata": {},
   "source": [
    "***"
   ]
  },
  {
   "cell_type": "markdown",
   "id": "ca2aa185",
   "metadata": {},
   "source": [
    "<font style=\"font-family:Calibri\"> Author Name: Theresa Melvin\n",
    "<br>\n",
    "Author Contact: theresa.melvin@verticapy.com</font>"
   ]
  }
 ],
 "metadata": {
  "kernelspec": {
   "display_name": "Python 3 (ipykernel)",
   "language": "python",
   "name": "python3"
  },
  "language_info": {
   "codemirror_mode": {
    "name": "ipython",
    "version": 3
   },
   "file_extension": ".py",
   "mimetype": "text/x-python",
   "name": "python",
   "nbconvert_exporter": "python",
   "pygments_lexer": "ipython3",
   "version": "3.8.15"
  }
 },
 "nbformat": 4,
 "nbformat_minor": 5
}
