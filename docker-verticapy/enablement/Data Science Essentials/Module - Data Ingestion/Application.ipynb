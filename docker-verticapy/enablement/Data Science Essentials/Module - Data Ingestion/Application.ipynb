{
 "cells": [
  {
   "cell_type": "code",
   "execution_count": 2,
   "id": "d8813b06",
   "metadata": {},
   "outputs": [],
   "source": [
    "import ipywidgets as widgets\n",
    "from IPython.display import display, clear_output\n",
    "from ipywidgets import Layout"
   ]
  },
  {
   "cell_type": "code",
   "execution_count": 3,
   "id": "73c74fd4",
   "metadata": {},
   "outputs": [
    {
     "data": {
      "text/html": [
       "<!--The top Logo and the menu bar-->\n",
       "\n",
       "<head>\n",
       "<meta name=\"viewport\" content=\"width=device-width, initial-scale=1\">\n",
       "<style>\n",
       "body {\n",
       "  font-family: Arial, Helvetica, sans-serif;\n",
       "  margin: 0 0 0 0px;\n",
       "}\n",
       ".back{\n",
       "    height: 130px;\n",
       "    width: 100%;\n",
       "    background-color:#263133;\n",
       "    display: flex;\n",
       "    align-items: center;\n",
       "}\n",
       ".navbar_0 {\n",
       "  overflow: hidden;\n",
       "  background-color: #263133; \n",
       "  display: block;\n",
       "}\n",
       ".navbar_0 a {\n",
       "  float: left;\n",
       "  font-size: 16px;\n",
       "  color: white;\n",
       "  text-align: center;\n",
       "  padding: 14px 16px;\n",
       "  text-decoration: none;\n",
       "  overflow: visible;\n",
       "  display: inline-block;\n",
       "}\n",
       ".subnav {\n",
       "  float: left;\n",
       "  overflow: hidden;\n",
       "}\n",
       ".subnav .subnavbtn {\n",
       "  font-size: 16px;\n",
       "  border: none;\n",
       "  outline: none;\n",
       "  color: white;\n",
       "  padding: 14px 16px;\n",
       "  background-color: inherit;\n",
       "  font-family: inherit;\n",
       "  margin: 0;\n",
       "  position: relative;\n",
       "}\n",
       ".navbar_0 a:hover, .subnav:hover .subnavbtn {\n",
       "  position:relative;\n",
       "  display:inlije-block;\n",
       "  overflow:visible;\n",
       "  background-color: #F48B34;\n",
       "}\n",
       ".subnav-content {\n",
       "  display: none;\n",
       "  position: absolute;\n",
       "  left: 0;\n",
       "  background-color: #263133;\n",
       "  width: 100%;\n",
       "  z-index: 1;\n",
       "    border-style: solid;\n",
       "  border-color: white;\n",
       "    border-width:1px;\n",
       "}\n",
       ".subnav-content a {\n",
       "  float: left;\n",
       "  overflow:visible;\n",
       "  color: white;\n",
       "  text-decoration: none;\n",
       "}\n",
       ".subnav-content a:hover {\n",
       "  background-color: #F48B34;\n",
       "  color: black;\n",
       "}\n",
       ".subnav:hover .subnav-content {\n",
       "  display: block;\n",
       "}\n",
       "</style>\n",
       "</head>\n",
       "\n",
       "\n",
       "\n",
       "\n",
       "\n",
       "<style>\n",
       ".content_0 {\n",
       "  display: flex;\n",
       "  text-align: center;\n",
       "  vertical-align: middle;\n",
       "}\n",
       "\n",
       "\n",
       ".icon-container {\n",
       "  margin-top: 0px;\n",
       "  width: 100%;\n",
       "  height: 70px;\n",
       "}\n",
       "\n",
       ".icon {\n",
       "  cursor: pointer;\n",
       "  position: relative;\n",
       "  display: inline-block;\n",
       "  width: 45px;\n",
       "  height: 45px;\n",
       "  margin-left: 12px;\n",
       "  margin-right: 12px;\n",
       "  border-radius: 30px;\n",
       "  overflow: hidden;\n",
       "  background-color:white;\n",
       "}\n",
       ".icon::before, .icon::after {\n",
       "  content: \"\";\n",
       "  position: absolute;\n",
       "  top: 0;\n",
       "  left: 0;\n",
       "  height: 100%;\n",
       "  width: 100%;\n",
       "  transition: all 0.25s ease;\n",
       "  border-radius: 30px;\n",
       "}\n",
       ".icon i {\n",
       "  position: relative;\n",
       "  color: #263133;\n",
       "  font-size: 24px;\n",
       "  margin-top: 10px;\n",
       "  transition: all 0.25s ease;\n",
       "}\n",
       "\n",
       ".icon-fill::before {\n",
       "  transition-duration: 0.7s;\n",
       "}\n",
       ".icon-fill:hover::before {\n",
       "  box-shadow: inset 0 0 0 60px #F48B34;\n",
       "    \n",
       "}\n",
       "</style>\n",
       "\n",
       "\n",
       "\n",
       "\n",
       "\n",
       "<body>\n",
       "<div class=back>\n",
       "<img src=\"Figures/v2.svg.png\" alt=\"Vertica logo\" width=\"300\">\n",
       "</div>\n",
       "<div class=\"navbar_0\">\n",
       "\n",
       "  <div class=\"subnav\">\n",
       "    <div class=\"content_0\">\n",
       "      <div class=\"icon-container\">\n",
       "        <div class=\"icon icon-fill\" onclick=\"window.location.href = '/voila/render/demos/enablement/Template/Course_Page_v1.ipynb';\"><i class=\"fa fa-home\"></i></div>\n",
       "      </div>\n",
       "    </div>\n",
       "  </div>\n",
       "\n",
       "  <div class=\"subnav\">\n",
       "    <button class=\"subnavbtn\">Courses <i class=\"fa fa-caret-down\"></i></button>\n",
       "    <div class=\"subnav-content\">\n",
       "      <a href=\"#\">Course 1</a>\n",
       "      <a href=\"#\">Course 2</a>\n",
       "      <a href=\"#\">Course 3</a>\n",
       "    </div>\n",
       "  </div> \n",
       "  <div class=\"subnav\">\n",
       "    <button class=\"subnavbtn\">Documentation <i class=\"fa fa-caret-down\"></i></button>\n",
       "    <div class=\"subnav-content\">\n",
       "      <a href=\"#\">Topic 1</a>\n",
       "      <a href=\"#\">Topic 2</a>\n",
       "      <a href=\"#\">Topic 3</a>\n",
       "    </div>\n",
       "  </div> \n",
       "    <div class=\"subnav\">\n",
       "    <button class=\"subnavbtn\">Quick Examples <i class=\"fa fa-caret-down\"></i></button>\n",
       "    <div class=\"subnav-content\">\n",
       "      <a href=\"#\">Example 1</a>\n",
       "      <a href=\"#\">Example 2</a>\n",
       "      <a href=\"#\">Example 3 3</a>\n",
       "    </div>\n",
       "  </div> \n",
       "  <a href=\"#contact\">Contact</a>\n",
       "</div>\n",
       "</body>\n"
      ],
      "text/plain": [
       "<IPython.core.display.HTML object>"
      ]
     },
     "metadata": {},
     "output_type": "display_data"
    }
   ],
   "source": [
    "%%html\n",
    "<!--The top Logo and the menu bar-->\n",
    "\n",
    "<head>\n",
    "<meta name=\"viewport\" content=\"width=device-width, initial-scale=1\">\n",
    "<style>\n",
    "body {\n",
    "  font-family: Arial, Helvetica, sans-serif;\n",
    "  margin: 0px 0px 0px 0px;\n",
    "}\n",
    ".back{\n",
    "    height: 90px;\n",
    "    width: 100%;\n",
    "    background-color:#263133;\n",
    "    display: flex;\n",
    "    align-items: center;\n",
    "}\n",
    ".navbar_0 {\n",
    "  overflow: hidden;\n",
    "  background-color: #263133; \n",
    "  display: block;\n",
    "  z-index: 2;\n",
    "}\n",
    ".navbar_0 a {\n",
    "  float: left;\n",
    "  font-size: 16px;\n",
    "  color: white;\n",
    "  text-align: center;\n",
    "  padding: 14px 16px;\n",
    "  text-decoration: none;\n",
    "  overflow: visible;\n",
    "  display: inline-block;\n",
    "  z-index: 2;\n",
    "}\n",
    ".subnav {\n",
    "  float: left;\n",
    "  display:inline-block;\n",
    "  overflow: visible;\n",
    "}\n",
    ".subnav .subnavbtn {\n",
    "  font-size: 16px;\n",
    "  border: none;\n",
    "  outline: none;\n",
    "  color: white;\n",
    "  padding: 14px 16px;\n",
    "  background-color: inherit;\n",
    "  font-family: inherit;\n",
    "  margin: 0;\n",
    "  position: relative;\n",
    "}\n",
    ".navbar_0 a:hover, .subnav:hover .subnavbtn {\n",
    "  position:relative;\n",
    "  display:inline-block;\n",
    "  overflow:visible;\n",
    "  background-color: #F48B34;\n",
    "}\n",
    ".subnav-content {\n",
    "  display: none;\n",
    "  overflow: visible;\n",
    "  position: absolute;\n",
    "  left: 0;\n",
    "  background-color: #263133;\n",
    "  width: 100%;\n",
    "  z-index: 3;\n",
    "  border-style: solid;\n",
    "  border-color: white;\n",
    "  border-width:1px;\n",
    "    \n",
    "}\n",
    ".subnav-content a {\n",
    "  float: left;\n",
    "  overflow:visible;\n",
    "  color: white;\n",
    "  text-decoration: none;\n",
    "}\n",
    ".subnav-content a:hover {\n",
    "  background-color: #F48B34;\n",
    "  color: black;\n",
    "}\n",
    ".subnav:hover .subnav-content {\n",
    "  display: block;\n",
    "}\n",
    ".sticky {\n",
    "  position: fixed;\n",
    "  top: 0;\n",
    "  width: 100%;\n",
    "  overflow: visible;\n",
    "}\n",
    "\n",
    ".sticky + .content {\n",
    "  padding-top: 10px;\n",
    "}\n",
    ".sticky_2 {\n",
    "  position: relative;\n",
    "  top: 0;\n",
    "  width: 100%;\n",
    "}\n",
    "</style>\n",
    "</head>\n",
    "\n",
    "<style>\n",
    ".content_0 {\n",
    "  display: flex;\n",
    "  text-align: center;\n",
    "  vertical-align: middle;\n",
    "}\n",
    "\n",
    "\n",
    ".icon-container {\n",
    "  margin-top: 0px;\n",
    "  width: 100%;\n",
    "  height: 70px;\n",
    "}\n",
    "\n",
    ".icon {\n",
    "  cursor: pointer;\n",
    "  position: relative;\n",
    "  display: inline-block;\n",
    "  width: 45px;\n",
    "  height: 45px;\n",
    "  margin-left: 12px;\n",
    "  margin-right: 12px;\n",
    "  border-radius: 30px;\n",
    "  overflow: hidden;\n",
    "  background-color:white;\n",
    "}\n",
    ".icon::before, .icon::after {\n",
    "  content: \"\";\n",
    "  position: absolute;\n",
    "  top: 0;\n",
    "  left: 0;\n",
    "  height: 100%;\n",
    "  width: 100%;\n",
    "  transition: all 0.25s ease;\n",
    "  border-radius: 30px;\n",
    "}\n",
    ".icon i {\n",
    "  position: relative;\n",
    "  color: #263133;\n",
    "  font-size: 24px;\n",
    "  margin-top: 10px;\n",
    "  transition: all 0.25s ease;\n",
    "}\n",
    "\n",
    ".icon-fill::before {\n",
    "  transition-duration: 0.7s;\n",
    "}\n",
    ".icon-fill:hover::before {\n",
    "  box-shadow: inset 0 0 0 60px #F48B34;\n",
    "    \n",
    "}\n",
    "</style>\n",
    "\n",
    "\n",
    "\n",
    "\n",
    "\n",
    "<body>\n",
    "<div class=back>\n",
    "<img src=\"Figures/v2.svg.png\" alt=\"Vertica logo\" width=\"200\">\n",
    "</div>\n",
    "<div class=\"navbar_0\" id=\"navbar_top\">\n",
    "\n",
    "  <div class=\"subnav\">\n",
    "    <div class=\"content_0\">\n",
    "      <div class=\"icon-container\">\n",
    "        <div class=\"icon icon-fill\" onclick=\"window.location.href = '/voila/render/demos/enablement/Data%20Science%20Essentials/Data_Science_Essentials.ipynb';\"><i class=\"fa fa-home\"></i></div>\n",
    "      </div>\n",
    "    </div>\n",
    "  </div>\n",
    "\n",
    "  <div class=\"subnav\">\n",
    "    <button class=\"subnavbtn\">Courses <i class=\"fa fa-caret-down\"></i></button>\n",
    "    <div class=\"subnav-content\">\n",
    "      <a href=\"/voila/render/demos/enablement/Data%20Science%20Essentials/Data_Science_Essentials.ipynb\">Data Science Essentials</a>\n",
    "\n",
    "    </div>\n",
    "  </div> \n",
    "  <div class=\"subnav\">\n",
    "    <button class=\"subnavbtn\">Documentation <i class=\"fa fa-caret-down\"></i></button>\n",
    "    <div class=\"subnav-content\">\n",
    "      <a href=\"https://www.vertica.com/python/documentation_last/vdataframe/\">vDataFrame</a>\n",
    "      <a href=\"https://www.vertica.com/python/documentation_last/vdataframe/plot.php\">Plots</a>\n",
    "      <a href=\"https://www.vertica.com/python/workshop/ml/\">Machine Learning</a>\n",
    "    </div>\n",
    "  </div> \n",
    "    <div class=\"subnav\">\n",
    "    <button class=\"subnavbtn\">Quick Examples <i class=\"fa fa-caret-down\"></i></button>\n",
    "    <div class=\"subnav-content\">\n",
    "      <a href=\"/voila/render/demos/enablement/Examples/Inference%20of%20geopolitical%20data/Example_Data_Wrangling_And_Analysis.ipynb\">Geopolitical Analysis</a>\n",
    "      <a href=\"https://www.vertica.com/python/examples/\">Business Applications</a>\n",
    "\n",
    "    </div>\n",
    "  </div> \n",
    "  <a href=\"https://www.vertica.com/contact-us/\">Contact</a>\n",
    "</div>\n",
    "</body>"
   ]
  },
  {
   "cell_type": "code",
   "execution_count": 4,
   "id": "b1fec60f",
   "metadata": {},
   "outputs": [
    {
     "data": {
      "text/html": [
       "<!--Style for correct and incorrect prompts-->\n",
       "<style>\n",
       "\n",
       ".correct-prompt {\n",
       "  font-family: \"Helvetica\", \"Arial\", sans-serif;\n",
       "  display: inline-block;\n",
       "  font-size: 17px;\n",
       "  background-color: green;\n",
       "  color: #fff;\n",
       "  border-radius: 4px;\n",
       "  position: relative;\n",
       "  box-shadow: 0 2px 25px rgba(25,163,97,0.75);\n",
       "  padding:5px;\n",
       "}\n",
       ".incorrect-prompt {\n",
       "  font-family: \"Helvetica\", \"Arial\", sans-serif;\n",
       "  display: inline-block;\n",
       "  font-size: 17px;\n",
       "  background-color: red;\n",
       "  color: #fff;\n",
       "  border-radius: 4px;\n",
       "  position: relative;\n",
       "  box-shadow: 0 2px 25px rgba(255, 0, 130, 0.5);\n",
       "  padding:5px;\n",
       "}  \n",
       "</style>\n"
      ],
      "text/plain": [
       "<IPython.core.display.HTML object>"
      ]
     },
     "metadata": {},
     "output_type": "display_data"
    }
   ],
   "source": [
    "%%html\n",
    "<!--Style for correct and incorrect prompts-->\n",
    "<style>\n",
    "\n",
    ".correct-prompt {\n",
    "  font-family: \"Helvetica\", \"Arial\", sans-serif;\n",
    "  display: inline-block;\n",
    "  font-size: 17px;\n",
    "  background-color: green;\n",
    "  color: #fff;\n",
    "  border-radius: 4px;\n",
    "  position: relative;\n",
    "  box-shadow: 0 2px 25px rgba(25,163,97,0.75);\n",
    "  padding:5px;\n",
    "}\n",
    ".incorrect-prompt {\n",
    "  font-family: \"Helvetica\", \"Arial\", sans-serif;\n",
    "  display: inline-block;\n",
    "  font-size: 17px;\n",
    "  background-color: red;\n",
    "  color: #fff;\n",
    "  border-radius: 4px;\n",
    "  position: relative;\n",
    "  box-shadow: 0 2px 25px rgba(255, 0, 130, 0.5);\n",
    "  padding:5px;\n",
    "}  \n",
    "</style>"
   ]
  },
  {
   "cell_type": "code",
   "execution_count": 5,
   "id": "8b0862f1",
   "metadata": {},
   "outputs": [],
   "source": [
    "# Defining a function for multiple choice widgets\n",
    "\n",
    "def create_multipleChoice_widget(options, correct_answer):\n",
    "    if correct_answer not in options:\n",
    "        options.append(correct_answer)\n",
    "    \n",
    "    correct_answer_index = options.index(correct_answer)\n",
    "    \n",
    "    radio_options = [(words, i) for i, words in enumerate(options)]\n",
    "    alternativ = widgets.RadioButtons(\n",
    "        options = radio_options,\n",
    "        description = '',\n",
    "        disabled = False\n",
    "    )\n",
    "    \n",
    "    description_out = widgets.Output()\n",
    "#    with description_out:\n",
    "#        print(description)\n",
    "        \n",
    "    feedback_out = widgets.Output()\n",
    "\n",
    "    def check_selection(b):\n",
    "        a = int(alternativ.value)\n",
    "        if a==correct_answer_index:\n",
    "            s = widgets.HTML('<div class=\"correct-prompt\">Correct!</div>')\n",
    "        else:\n",
    "            s = widgets.HTML('<div class=\"incorrect-prompt\">Try Again!</div>')\n",
    "        with feedback_out:\n",
    "            clear_output()\n",
    "            display(s)\n",
    "        return\n",
    "    \n",
    "    check = widgets.Button(description=\"submit\")\n",
    "    check.on_click(check_selection)\n",
    "    \n",
    "    \n",
    "    return widgets.VBox([description_out, alternativ, check, feedback_out])\n",
    "\n",
    "def create_numeric_widget(correct_answer):\n",
    "    \n",
    "    #correct_answer_index = options.index(correct_answer)\n",
    "    \n",
    "    #radio_options = [(words, i) for i, words in enumerate(options)]\n",
    "    alternativ = widgets.Text(\n",
    "        #options = radio_options,\n",
    "        #description = '',\n",
    "        disabled = False\n",
    "    )\n",
    "    \n",
    "    description_out = widgets.Output()\n",
    "#    with description_out:\n",
    "#        print(description)\n",
    "        \n",
    "    feedback_out = widgets.Output()\n",
    "\n",
    "    def check_selection(b):\n",
    "        try:\n",
    "            a = int(alternativ.value)\n",
    "        except ValueError:\n",
    "            a = float(alternativ.value)\n",
    "        if a==correct_answer:\n",
    "            s = widgets.HTML('<div class=\"correct-prompt\">Correct!</div>')\n",
    "        else:\n",
    "            s = widgets.HTML('<div class=\"incorrect-prompt\">Try Again!</div>')\n",
    "        with feedback_out:\n",
    "            clear_output()\n",
    "            display(s)\n",
    "        return\n",
    "    \n",
    "    check = widgets.Button(description=\"submit\")\n",
    "    check.on_click(check_selection)\n",
    "    \n",
    "    \n",
    "    return widgets.VBox([description_out, alternativ, check, feedback_out])"
   ]
  },
  {
   "cell_type": "code",
   "execution_count": 6,
   "id": "dab1e034",
   "metadata": {},
   "outputs": [
    {
     "data": {
      "text/html": [
       "<!--Module Button-->\n",
       "\n",
       "<style>\n",
       ".moduler{\n",
       "    box-shadow: 0px 15px 10px -15px #F48B34;  \n",
       "    font-size:30px;\n",
       "    color: blue;\n",
       "}\n",
       "    </style>\n",
       "    \n",
       "<div class=\"moduler\">\n",
       "  <a href=\"/voila/render/demos/enablement/Template/Module_Page_v1.ipynb\">\n",
       "    Data Ingestion</a>\n",
       "</div>\n"
      ],
      "text/plain": [
       "<IPython.core.display.HTML object>"
      ]
     },
     "metadata": {},
     "output_type": "display_data"
    }
   ],
   "source": [
    "%%html\n",
    "<!--Module Button-->\n",
    "\n",
    "<style>\n",
    ".moduler{\n",
    "    box-shadow: 0px 15px 10px -15px #F48B34;  \n",
    "    font-size:30px;\n",
    "    color: blue;\n",
    "}\n",
    "    </style>\n",
    "    \n",
    "<div class=\"moduler\">\n",
    "  <a href=\"/voila/render/demos/enablement/Data%20Science%20Essentials/Module%20-%20Data%20Ingestion/Essentials_DataIngestion.ipynb\">\n",
    "    Data Ingestion</a>\n",
    "</div>\n"
   ]
  },
  {
   "cell_type": "markdown",
   "id": "1eb61592",
   "metadata": {},
   "source": [
    "## Application in VerticaPy"
   ]
  },
  {
   "cell_type": "code",
   "execution_count": 7,
   "id": "8e5bc7f2",
   "metadata": {},
   "outputs": [
    {
     "data": {
      "text/html": [
       "<!--Time required-->\n",
       "<i class=\"fas fa-clock\" style='color:#F48B34;font-size:18px;'></i> 20 mins\n"
      ],
      "text/plain": [
       "<IPython.core.display.HTML object>"
      ]
     },
     "metadata": {},
     "output_type": "display_data"
    }
   ],
   "source": [
    "%%html\n",
    "<!--Time required-->\n",
    "<i class=\"fas fa-clock\" style='color:#F48B34;font-size:18px;'></i> 20 mins"
   ]
  },
  {
   "cell_type": "markdown",
   "id": "989fd8da",
   "metadata": {},
   "source": [
    "### Table of Contents\n",
    "\n",
    "- [Data Ingestion in relation to Vertica](#h0_cell)\n",
    "- [Comma Separated Variable (CSV) Files ](#h1_cell)\n",
    "- [JSON Files and complex data](#h2_cell)\n",
    "- [Generic Ingestion](#h2_cell)\n"
   ]
  },
  {
   "cell_type": "markdown",
   "id": "7a49c17e",
   "metadata": {},
   "source": [
    "In this lesson we will try to import different datasets and get familiar with the format and nuances of data ingestion."
   ]
  },
  {
   "cell_type": "markdown",
   "id": "e359fcc6",
   "metadata": {},
   "source": [
    "### What you will learn in this module?\n",
    "\n",
    "- What does materialize mean?\n",
    "- How to import single files?\n",
    "- How to import complex data?\n",
    "- What are the file formats currently accepted in VerticaPy?\n",
    "- How to import a batch of files?"
   ]
  },
  {
   "cell_type": "markdown",
   "id": "e4eae0c4",
   "metadata": {},
   "source": [
    "***"
   ]
  },
  {
   "cell_type": "markdown",
   "id": "e91b7444",
   "metadata": {},
   "source": [
    "<a id='h0_cell'></a>\n",
    "### Data Ingestion in Vertica\n"
   ]
  },
  {
   "cell_type": "markdown",
   "id": "7050ec65",
   "metadata": {},
   "source": [
    "As you may know, VerticaPy is the python API for Vertica. So, almost all the calculations/computations are actually performed inside the Vertica servers. This means that during meaningful work, the data first has to get transfered to Vertica from your local computer or your data repository where you want to extract the data from. The process of creating a copy of data inside Vertica is called \"<b>materialize</b>\".\n",
    "\n",
    "Altogether, we have three options when we are ingesting data:\n",
    "\n",
    "- <b>Materialize:</b>\n",
    "    A copy of the data is created inside the Vertica server which will remain there until deleted.\n",
    "- <b>Create Temp Table:</b>\n",
    "    A copy of the data/table is created on the server which will be deleted after a certain time, but not during the session.\n",
    "- <b>Create local temporary table (in-memory):</b>\n",
    "    A copy of table is created inside the local random access memory of the user/client machine. This table will be deleted at the end of the session."
   ]
  },
  {
   "cell_type": "markdown",
   "id": "3b2dd636",
   "metadata": {},
   "source": [
    "With the above in mind, let us begin ingesting data."
   ]
  },
  {
   "cell_type": "markdown",
   "id": "3b946cb8",
   "metadata": {},
   "source": [
    "***"
   ]
  },
  {
   "cell_type": "markdown",
   "id": "3fd84ef3",
   "metadata": {},
   "source": [
    "<a id='h1_cell'></a>\n",
    "### Comma Separated Variables (CSV) Files"
   ]
  },
  {
   "cell_type": "markdown",
   "id": "0ef0675d",
   "metadata": {},
   "source": [
    "CSV is perhaps the most common type of data format for simple structured data. We can now use VerticaPy to ingest CSV data and explore the options that we have.\n",
    "\n",
    "For example, we have a csv file \"gapminder.csv\" which has temporal development data concerning some countries across the world. Since it is a CSV file, we can use the VerticaPy [read_csv function](https://www.vertica.com/python/documentation_last/utilities/read_csv/).\n",
    "\n",
    "```python\n",
    "import verticapy as vp\n",
    "data=vp.read_csv(\"gapminder.csv\")\n",
    "```\n",
    "\n",
    "The above code will ingest the data and create a vDataFrame containing all the data. Let's look at the data:\n",
    "\n",
    "```python\n",
    "data\n",
    "```"
   ]
  },
  {
   "cell_type": "code",
   "execution_count": 9,
   "id": "76119eef",
   "metadata": {},
   "outputs": [
    {
     "data": {
      "application/vnd.jupyter.widget-view+json": {
       "model_id": "2d33de5519fe47a0bda8db25d2209253",
       "version_major": 2,
       "version_minor": 0
      },
      "text/plain": [
       "Image(value=b'\\x89PNG\\r\\n\\x1a\\n\\x00\\x00\\x00\\rIHDR\\x00\\x00\\x04\\xae\\x00\\x00\\x02\\x12\\x08\\x06\\x00\\x00\\x00\\xe5B\\x87…"
      ]
     },
     "metadata": {},
     "output_type": "display_data"
    }
   ],
   "source": [
    "file = open(\"Figures/app_fig_1.png\", \"rb\")\n",
    "image = file.read()\n",
    "\n",
    "image= widgets.Image(\n",
    "                    value=image,\n",
    "                    format='png',\n",
    "                    width='1000px'\n",
    "                )\n",
    "display(image)"
   ]
  },
  {
   "cell_type": "markdown",
   "id": "6781448c",
   "metadata": {},
   "source": [
    "Note how VerticaPy automatically detected the data types for each of the columns in our table. \n",
    "\n",
    "Using the previously mentioned syntax, we only ingested the data locally i.e., we only created a temporary table. but if we wanted to store the table in our Vertica server than we can easily do this by switching on the <b>materialize</b> parameter and providing the schema and table name:\n",
    "\n",
    "```python\n",
    "data=vp.read_csv(\"gapminder.csv\",\n",
    "                 table_name = \"gapminder_data\",\n",
    "                 schema = \"public\",\n",
    "                 materialize = True\n",
    "                )\n",
    "```"
   ]
  },
  {
   "cell_type": "markdown",
   "id": "17404d62",
   "metadata": {},
   "source": [
    "Another parameter inside read_csv function is <b>omit_empty_keys</b>. This parameters allows the user to ignore the columns whose headers are missing. VerticaPy also has many other amazing options inside read_csv function which  the readers are encouraged to check out in detail [here](https://www.vertica.com/python/documentation_last/utilities/read_csv/)."
   ]
  },
  {
   "cell_type": "markdown",
   "id": "b48a98ea",
   "metadata": {},
   "source": [
    "***"
   ]
  },
  {
   "cell_type": "markdown",
   "id": "2a9098a8",
   "metadata": {},
   "source": [
    "<a id='h2_cell'></a>\n",
    "### JSON Files and Complex Data"
   ]
  },
  {
   "cell_type": "markdown",
   "id": "799051be",
   "metadata": {},
   "source": [
    "As mentioned in previous lesson, JSON files are very efficient in storing nested complex data. Let us ingest data of a soccer tournaments for the year 2005 using the [read_json](https://www.vertica.com/python/documentation_last/utilities/read_json/) function:\n",
    "\n",
    "```python\n",
    "data=vp.read_json(\"2005.json\")\n",
    "```"
   ]
  },
  {
   "cell_type": "code",
   "execution_count": 10,
   "id": "914de172",
   "metadata": {},
   "outputs": [
    {
     "data": {
      "application/vnd.jupyter.widget-view+json": {
       "model_id": "b6a2a863d55c4cf081b15a1686b4f8ad",
       "version_major": 2,
       "version_minor": 0
      },
      "text/plain": [
       "Image(value=b'\\x89PNG\\r\\n\\x1a\\n\\x00\\x00\\x00\\rIHDR\\x00\\x00\\x05\\x90\\x00\\x00\\x02\\x13\\x08\\x06\\x00\\x00\\x00\\x99\\xaa9…"
      ]
     },
     "metadata": {},
     "output_type": "display_data"
    }
   ],
   "source": [
    "file = open(\"Figures/app_fig_2.png\", \"rb\")\n",
    "image = file.read()\n",
    "\n",
    "image= widgets.Image(\n",
    "                    value=image,\n",
    "                    format='png',\n",
    "                    width='1000px'\n",
    "                )\n",
    "display(image)"
   ]
  },
  {
   "cell_type": "markdown",
   "id": "5cab2f24",
   "metadata": {},
   "source": [
    "When we look at the resulting table, we see that there are 30 columns. VerticaPy has automatically flattened the structure of the nested table. This is because the defaul value of the <b>flatten_maps</b> parameter is set to True. \n",
    "\n",
    "In order to keep the original structure, we can turn this value to False and get the nested structure as output.\n",
    "\n",
    "```python\n",
    "data=vp.read_json(\"2005.json\",\n",
    "                 flatten_maps=False)\n",
    "```"
   ]
  },
  {
   "cell_type": "code",
   "execution_count": 12,
   "id": "c3cca13a",
   "metadata": {},
   "outputs": [
    {
     "data": {
      "application/vnd.jupyter.widget-view+json": {
       "model_id": "00fe72bb80d646b893ce952b49f05591",
       "version_major": 2,
       "version_minor": 0
      },
      "text/plain": [
       "Image(value=b'\\x89PNG\\r\\n\\x1a\\n\\x00\\x00\\x00\\rIHDR\\x00\\x00\\x05\\x8f\\x00\\x00\\x02\\x13\\x08\\x06\\x00\\x00\\x00O\\x0f\\xe3…"
      ]
     },
     "metadata": {},
     "output_type": "display_data"
    }
   ],
   "source": [
    "file = open(\"Figures/app_fig_3.png\", \"rb\")\n",
    "image = file.read()\n",
    "\n",
    "image= widgets.Image(\n",
    "                    value=image,\n",
    "                    format='png',\n",
    "                    width='1000px'\n",
    "                )\n",
    "display(image)"
   ]
  },
  {
   "cell_type": "markdown",
   "id": "7c45c6d2",
   "metadata": {},
   "source": [
    "Note that the number of columns have shrunk because the nested columns have coalesced into parent columns. Also note that the data-type of a few columns have changed to Vmap.\n",
    "\n",
    "<b>VMap:</b> Flexible maps that store the data as a string of maps, allowing the ingestion of data in varying shapes. The shape is not fixed and new keys can easily be handled. This is a great option when we don't know the structure in advance, or if the structure changes over time.\n",
    "\n",
    "Another data type of complex data in VerticaPy is <b>Row</b>.\n",
    "\n",
    "<b>Row:</b> More rigid because the dictionaries, including all the data types, are fixed when they are defined. Newly parsed keys are ignored. But because of it's rigid structure, it is much more performant than VMaps. They are best used when the file structure is known in advance.\n",
    "\n",
    "In order to get data stored as rows, we have to switch the <b>use_complex_dt</b> parameter to True. But currently, this is only allowed for data that is placed inside the Vertica server. "
   ]
  },
  {
   "cell_type": "markdown",
   "id": "34ea5bb9",
   "metadata": {},
   "source": [
    "***"
   ]
  },
  {
   "cell_type": "markdown",
   "id": "e0cf77da",
   "metadata": {},
   "source": [
    "<a id='h3_cell'></a>\n",
    "### Other ingestion tips"
   ]
  },
  {
   "cell_type": "markdown",
   "id": "53ab4e29",
   "metadata": {},
   "source": [
    "<b>Batch Ingestion:</b>\n",
    "\n",
    "Above are just a few basic ingestion instructions involving only one file at a time. Sometimes you want to ingest a whole folder of files or even zipped files. Let's see how we can do that using the ease of VerticaPy syntax.\n",
    "\n",
    "Firstly, VerticaPy allows us to import a <b>batch of files</b> inside a folder of a particular format just by using the following syntax.\n",
    "\n",
    "```python\n",
    "all_data=vp.read_csv(\"folder/*.csv\")\n",
    "```\n",
    "OR below for JSON.\n",
    "\n",
    "```python\n",
    "all_data=vp.read_json(\"folder/*.csv\")\n",
    "```\n",
    "\n",
    "But in order to accurately extract all the data, the user has to make sure that all the files share the same structure i.e., they have the same column names and data types etc.\n",
    "\n"
   ]
  },
  {
   "cell_type": "markdown",
   "id": "7633c9cf",
   "metadata": {},
   "source": [
    "<b>Acceptable File Formats:</b>\n",
    "\n",
    "\n",
    "Apart from the most popular formats JSON and CSV, VerticaPy allows ingestion of other formats including:\n",
    "\n",
    "1. AVRO\n",
    "2. PARQUET\n",
    "3. ORC\n",
    "4. SHP\n",
    "\n",
    "In the scenario where a user forgets the syntax of the particualr function, then VerticaPy has a generic function [read_file](https://www.vertica.com/python/documentation_last/utilities/read_file/index.php) function which automatically detects the type of file and imports it. \n"
   ]
  },
  {
   "cell_type": "markdown",
   "id": "521262dc",
   "metadata": {},
   "source": [
    "<b>Data augmentation/insertion:</b>\n",
    "\n",
    "In some instances, we already have a table and we want to add to that table. For such a scenario, we can easily add more lines of data to an already existing file by using the <b>insert</b> parameter in any of the read functions introduced above. For example, for CSV we can do this:\n",
    "\n",
    "```python\n",
    "data=vp.read_csv(\"gapminder.csv\",\n",
    "                table_name=\"master_data\")\n",
    "data.count()\n",
    "```"
   ]
  },
  {
   "cell_type": "code",
   "execution_count": 16,
   "id": "9d8af1d1",
   "metadata": {},
   "outputs": [
    {
     "data": {
      "application/vnd.jupyter.widget-view+json": {
       "model_id": "93a581e5ba404aa7ab2b8c5abe97eec4",
       "version_major": 2,
       "version_minor": 0
      },
      "text/plain": [
       "Image(value=b'\\x89PNG\\r\\n\\x1a\\n\\x00\\x00\\x00\\rIHDR\\x00\\x00\\x01z\\x00\\x00\\x01w\\x08\\x06\\x00\\x00\\x00\\xab>\\x80N\\x00\\…"
      ]
     },
     "metadata": {},
     "output_type": "display_data"
    }
   ],
   "source": [
    "file = open(\"Figures/app_fig_4.png\", \"rb\")\n",
    "image = file.read()\n",
    "\n",
    "image= widgets.Image(\n",
    "                    value=image,\n",
    "                    format='png',\n",
    "                    width='300px'\n",
    "                )\n",
    "display(image)"
   ]
  },
  {
   "cell_type": "markdown",
   "id": "accf9ef4",
   "metadata": {},
   "source": [
    "We see that we only have 1704 datapoints for each column. Now using the table_name parameter as a reference, we can insert more data into the same file using the following syntax:\n",
    "\n",
    "```python\n",
    "data=vp.read_csv(\"gapminder.csv\",\n",
    "                table_name=\"master_data\",\n",
    "                insert=True)\n",
    "data.count()\n",
    "```"
   ]
  },
  {
   "cell_type": "code",
   "execution_count": 17,
   "id": "a90ce6c5",
   "metadata": {},
   "outputs": [
    {
     "data": {
      "application/vnd.jupyter.widget-view+json": {
       "model_id": "e01b5885e2504b93b2b4610e3a95a827",
       "version_major": 2,
       "version_minor": 0
      },
      "text/plain": [
       "Image(value=b'\\x89PNG\\r\\n\\x1a\\n\\x00\\x00\\x00\\rIHDR\\x00\\x00\\x01r\\x00\\x00\\x01w\\x08\\x06\\x00\\x00\\x00\\xb8\\xe9\\xc0\\xb…"
      ]
     },
     "metadata": {},
     "output_type": "display_data"
    }
   ],
   "source": [
    "file = open(\"Figures/app_fig_5.png\", \"rb\")\n",
    "image = file.read()\n",
    "\n",
    "image= widgets.Image(\n",
    "                    value=image,\n",
    "                    format='png',\n",
    "                    width='300px'\n",
    "                )\n",
    "display(image)"
   ]
  },
  {
   "cell_type": "code",
   "execution_count": null,
   "id": "481459d5",
   "metadata": {},
   "outputs": [],
   "source": [
    "%%javascript\n",
    "// When the user scrolls the page, execute myFunction\n",
    "window.onscroll = function() {myFunction()};\n",
    "\n",
    "// Get the navbar\n",
    "var navbar = document.getElementById(\"navbar_top\");\n",
    "\n",
    "// Get the offset position of the navbar\n",
    "var sticky = navbar.offsetTop;\n",
    "\n",
    "// Add the sticky class to the navbar when you reach its scroll position. Remove \"sticky\" when you leave the scroll position\n",
    "function myFunction() {\n",
    "  if (window.pageYOffset >= sticky+140) {\n",
    "    navbar.classList.add(\"sticky\")\n",
    "  } else {\n",
    "    navbar.classList.remove(\"sticky\");\n",
    "  }\n",
    "  if (window.pageYOffset <= sticky) {\n",
    "    navbar.classList.remove(\"sticky\");\n",
    "  }\n",
    "}"
   ]
  },
  {
   "cell_type": "markdown",
   "id": "5a71c2b1",
   "metadata": {},
   "source": [
    "<html>\n",
    "<head>\n",
    "<meta name=\"viewport\" content=\"width=device-width, initial-scale=1\">\n",
    "<style>\n",
    "a {\n",
    "  text-decoration: none;\n",
    "  display: inline-block;\n",
    "  padding: 8px 16px;\n",
    "}\n",
    "\n",
    "a:hover {\n",
    "  background-color: #ddd;\n",
    "  color: black;\n",
    "}\n",
    "\n",
    ".previous {\n",
    "  background-color: #f1f1f1;\n",
    "  color: black;\n",
    "}\n",
    "\n",
    ".next {\n",
    "  background-color: #F48B34;\n",
    "  color: white;\n",
    "}\n",
    "\n",
    ".round {\n",
    "  border-radius: 50%;\n",
    "}\n",
    "</style>\n",
    "</head>\n",
    "<body>\n",
    "\n",
    "<a href=\"/voila/render/demos/enablement/Data%20Science%20Essentials/Module%20-%20Data%20Ingestion/DataIngestion.ipynb\" font-size= 40px class=\"previous round\">&#8249;</a>\n",
    "<a href=\"/voila/render/demos/enablement/Data%20Science%20Essentials/Module%20-%20Data%20Exploration/Essentials_DataExploration.ipynb\" class=\"next round\">&#8250;</a>\n",
    "  \n",
    "</body>\n",
    "</html> "
   ]
  },
  {
   "cell_type": "markdown",
   "id": "c02f25ee",
   "metadata": {},
   "source": [
    "***"
   ]
  },
  {
   "cell_type": "markdown",
   "id": "ca2aa185",
   "metadata": {},
   "source": [
    "<font style=\"font-family:Calibri\"> Author Name: Umar Farooq Ghumman\n",
    "<br>\n",
    "Author Contact: umarfarooq.ghumman@vertica.com</font>"
   ]
  },
  {
   "cell_type": "markdown",
   "id": "185edfa5",
   "metadata": {},
   "source": [
    "### Resources\n",
    "\n",
    "- [<font color='red' size='2'>Gapminder Data</font>](https://www.vertica.com/python/)\n",
    "\n",
    "- [<font color='red' size='2'>Laliga Data</font>](https://www.vertica.com/python/)\n"
   ]
  }
 ],
 "metadata": {
  "kernelspec": {
   "display_name": "Python 3 (ipykernel)",
   "language": "python",
   "name": "python3"
  },
  "language_info": {
   "codemirror_mode": {
    "name": "ipython",
    "version": 3
   },
   "file_extension": ".py",
   "mimetype": "text/x-python",
   "name": "python",
   "nbconvert_exporter": "python",
   "pygments_lexer": "ipython3",
   "version": "3.9.12"
  }
 },
 "nbformat": 4,
 "nbformat_minor": 5
}
