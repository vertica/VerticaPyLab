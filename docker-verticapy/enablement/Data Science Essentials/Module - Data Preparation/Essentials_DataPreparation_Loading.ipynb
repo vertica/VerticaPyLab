{
 "cells": [
  {
   "cell_type": "code",
   "execution_count": null,
   "id": "d8813b06",
   "metadata": {},
   "outputs": [],
   "source": [
    "import ipywidgets as widgets\n",
    "from IPython.display import display, clear_output\n",
    "from ipywidgets import Layout"
   ]
  },
  {
   "cell_type": "code",
   "execution_count": null,
   "id": "73c74fd4",
   "metadata": {},
   "outputs": [],
   "source": [
    "%%html\n",
    "<!--The top Logo and the menu bar-->\n",
    "\n",
    "<head>\n",
    "<meta name=\"viewport\" content=\"width=device-width, initial-scale=1\">\n",
    "<style>\n",
    "body {\n",
    "  font-family: Arial, Helvetica, sans-serif;\n",
    "  margin: 0px 0px 0px 0px;\n",
    "}\n",
    ".back{\n",
    "    height: 90px;\n",
    "    width: 100%;\n",
    "    background-color:#263133;\n",
    "    display: flex;\n",
    "    align-items: center;\n",
    "}\n",
    ".navbar_0 {\n",
    "  overflow: hidden;\n",
    "  background-color: #263133; \n",
    "  display: block;\n",
    "  z-index: 2;\n",
    "}\n",
    ".navbar_0 a {\n",
    "  float: left;\n",
    "  font-size: 16px;\n",
    "  color: white;\n",
    "  text-align: center;\n",
    "  padding: 14px 16px;\n",
    "  text-decoration: none;\n",
    "  overflow: visible;\n",
    "  display: inline-block;\n",
    "  z-index: 2;\n",
    "}\n",
    ".subnav {\n",
    "  float: left;\n",
    "  display:inline-block;\n",
    "  overflow: visible;\n",
    "}\n",
    ".subnav .subnavbtn {\n",
    "  font-size: 16px;\n",
    "  border: none;\n",
    "  outline: none;\n",
    "  color: white;\n",
    "  padding: 14px 16px;\n",
    "  background-color: inherit;\n",
    "  font-family: inherit;\n",
    "  margin: 0;\n",
    "  position: relative;\n",
    "}\n",
    ".navbar_0 a:hover, .subnav:hover .subnavbtn {\n",
    "  position:relative;\n",
    "  display:inline-block;\n",
    "  overflow:visible;\n",
    "  background-color: #F48B34;\n",
    "}\n",
    ".subnav-content {\n",
    "  display: none;\n",
    "  overflow: visible;\n",
    "  position: absolute;\n",
    "  left: 0;\n",
    "  background-color: #263133;\n",
    "  width: 100%;\n",
    "  z-index: 3;\n",
    "  border-style: solid;\n",
    "  border-color: white;\n",
    "  border-width:1px;\n",
    "    \n",
    "}\n",
    ".subnav-content a {\n",
    "  float: left;\n",
    "  overflow:visible;\n",
    "  color: white;\n",
    "  text-decoration: none;\n",
    "}\n",
    ".subnav-content a:hover {\n",
    "  background-color: #F48B34;\n",
    "  color: black;\n",
    "}\n",
    ".subnav:hover .subnav-content {\n",
    "  display: block;\n",
    "}\n",
    ".sticky {\n",
    "  position: fixed;\n",
    "  top: 0;\n",
    "  width: 100%;\n",
    "  overflow: visible;\n",
    "}\n",
    "\n",
    ".sticky + .content {\n",
    "  padding-top: 10px;\n",
    "}\n",
    ".sticky_2 {\n",
    "  position: relative;\n",
    "  top: 0;\n",
    "  width: 100%;\n",
    "}\n",
    "</style>\n",
    "</head>\n",
    "\n",
    "<style>\n",
    ".content_0 {\n",
    "  display: flex;\n",
    "  text-align: center;\n",
    "  vertical-align: middle;\n",
    "}\n",
    "\n",
    "\n",
    ".icon-container {\n",
    "  margin-top: 0px;\n",
    "  width: 100%;\n",
    "  height: 70px;\n",
    "}\n",
    "\n",
    ".icon {\n",
    "  cursor: pointer;\n",
    "  position: relative;\n",
    "  display: inline-block;\n",
    "  width: 45px;\n",
    "  height: 45px;\n",
    "  margin-left: 12px;\n",
    "  margin-right: 12px;\n",
    "  border-radius: 30px;\n",
    "  overflow: hidden;\n",
    "  background-color:white;\n",
    "}\n",
    ".icon::before, .icon::after {\n",
    "  content: \"\";\n",
    "  position: absolute;\n",
    "  top: 0;\n",
    "  left: 0;\n",
    "  height: 100%;\n",
    "  width: 100%;\n",
    "  transition: all 0.25s ease;\n",
    "  border-radius: 30px;\n",
    "}\n",
    ".icon i {\n",
    "  position: relative;\n",
    "  color: #263133;\n",
    "  font-size: 24px;\n",
    "  margin-top: 10px;\n",
    "  transition: all 0.25s ease;\n",
    "}\n",
    "\n",
    ".icon-fill::before {\n",
    "  transition-duration: 0.7s;\n",
    "}\n",
    ".icon-fill:hover::before {\n",
    "  box-shadow: inset 0 0 0 60px #F48B34;\n",
    "    \n",
    "}\n",
    "</style>\n",
    "\n",
    "\n",
    "\n",
    "\n",
    "\n",
    "<body>\n",
    "<div class=back>\n",
    "<img src=\"Figures/v2.svg.png\" alt=\"Vertica logo\" width=\"200\">\n",
    "</div>\n",
    "<div class=\"navbar_0\" id=\"navbar_top\">\n",
    "\n",
    "  <div class=\"subnav\">\n",
    "    <div class=\"content_0\">\n",
    "      <div class=\"icon-container\">\n",
    "        <div class=\"icon icon-fill\" onclick=\"window.location.href = '/voila/render/demos/enablement/Data%20Science%20Essentials/Data_Science_Essentials.ipynb';\"><i class=\"fa fa-home\"></i></div>\n",
    "      </div>\n",
    "    </div>\n",
    "  </div>\n",
    "\n",
    "  <div class=\"subnav\">\n",
    "    <button class=\"subnavbtn\">Courses <i class=\"fa fa-caret-down\"></i></button>\n",
    "    <div class=\"subnav-content\">\n",
    "      <a href=\"/voila/render/demos/enablement/Data%20Science%20Essentials/Data_Science_Essentials.ipynb\">Data Science Essentials</a>\n",
    "\n",
    "    </div>\n",
    "  </div> \n",
    "  <div class=\"subnav\">\n",
    "    <button class=\"subnavbtn\">Documentation <i class=\"fa fa-caret-down\"></i></button>\n",
    "    <div class=\"subnav-content\">\n",
    "      <a href=\"https://www.vertica.com/python/documentation_last/vdataframe/\">vDataFrame</a>\n",
    "      <a href=\"https://www.vertica.com/python/documentation_last/vdataframe/plot.php\">Plots</a>\n",
    "      <a href=\"https://www.vertica.com/python/workshop/ml/\">Machine Learning</a>\n",
    "    </div>\n",
    "  </div> \n",
    "    <div class=\"subnav\">\n",
    "    <button class=\"subnavbtn\">Quick Examples <i class=\"fa fa-caret-down\"></i></button>\n",
    "    <div class=\"subnav-content\">\n",
    "      <a href=\"/voila/render/demos/enablement/Examples/Inference%20of%20geopolitical%20data/Example_Data_Wrangling_And_Analysis.ipynb\">Geopolitical Analysis</a>\n",
    "      <a href=\"https://www.vertica.com/python/examples/\">Business Applications</a>\n",
    "\n",
    "    </div>\n",
    "  </div> \n",
    "  <a href=\"https://www.vertica.com/contact-us/\">Contact</a>\n",
    "</div>\n",
    "</body>"
   ]
  },
  {
   "cell_type": "code",
   "execution_count": null,
   "id": "b1fec60f",
   "metadata": {},
   "outputs": [],
   "source": [
    "%%html\n",
    "<!--Style for correct and incorrect prompts-->\n",
    "<style>\n",
    "\n",
    ".correct-prompt {\n",
    "  font-family: \"Helvetica\", \"Arial\", sans-serif;\n",
    "  display: inline-block;\n",
    "  font-size: 17px;\n",
    "  background-color: green;\n",
    "  color: #fff;\n",
    "  border-radius: 4px;\n",
    "  position: relative;\n",
    "  box-shadow: 0 2px 25px rgba(25,163,97,0.75);\n",
    "  padding:5px;\n",
    "}\n",
    ".incorrect-prompt {\n",
    "  font-family: \"Helvetica\", \"Arial\", sans-serif;\n",
    "  display: inline-block;\n",
    "  font-size: 17px;\n",
    "  background-color: red;\n",
    "  color: #fff;\n",
    "  border-radius: 4px;\n",
    "  position: relative;\n",
    "  box-shadow: 0 2px 25px rgba(255, 0, 130, 0.5);\n",
    "  padding:5px;\n",
    "}  \n",
    "</style>"
   ]
  },
  {
   "cell_type": "code",
   "execution_count": null,
   "id": "8b0862f1",
   "metadata": {},
   "outputs": [],
   "source": [
    "# Defining a function for multiple choice widgets\n",
    "\n",
    "def create_multipleChoice_widget(options, correct_answer):\n",
    "    if correct_answer not in options:\n",
    "        options.append(correct_answer)\n",
    "    \n",
    "    correct_answer_index = options.index(correct_answer)\n",
    "    \n",
    "    radio_options = [(words, i) for i, words in enumerate(options)]\n",
    "    alternativ = widgets.RadioButtons(\n",
    "        options = radio_options,\n",
    "        description = '',\n",
    "        disabled = False\n",
    "    )\n",
    "    \n",
    "    description_out = widgets.Output()\n",
    "#    with description_out:\n",
    "#        print(description)\n",
    "        \n",
    "    feedback_out = widgets.Output()\n",
    "\n",
    "    def check_selection(b):\n",
    "        a = int(alternativ.value)\n",
    "        if a==correct_answer_index:\n",
    "            s = widgets.HTML('<div class=\"correct-prompt\">Correct!</div>')\n",
    "        else:\n",
    "            s = widgets.HTML('<div class=\"incorrect-prompt\">Try Again!</div>')\n",
    "        with feedback_out:\n",
    "            clear_output()\n",
    "            display(s)\n",
    "        return\n",
    "    \n",
    "    check = widgets.Button(description=\"submit\")\n",
    "    check.on_click(check_selection)\n",
    "    \n",
    "    \n",
    "    return widgets.VBox([description_out, alternativ, check, feedback_out])\n",
    "\n",
    "def create_numeric_widget(correct_answer):\n",
    "    \n",
    "    #correct_answer_index = options.index(correct_answer)\n",
    "    \n",
    "    #radio_options = [(words, i) for i, words in enumerate(options)]\n",
    "    alternativ = widgets.Text(\n",
    "        #options = radio_options,\n",
    "        #description = '',\n",
    "        disabled = False\n",
    "    )\n",
    "    \n",
    "    description_out = widgets.Output()\n",
    "#    with description_out:\n",
    "#        print(description)\n",
    "        \n",
    "    feedback_out = widgets.Output()\n",
    "\n",
    "    def check_selection(b):\n",
    "        try:\n",
    "            a = int(alternativ.value)\n",
    "        except ValueError:\n",
    "            a = float(alternativ.value)\n",
    "        if a==correct_answer:\n",
    "            s = widgets.HTML('<div class=\"correct-prompt\">Correct!</div>')\n",
    "        else:\n",
    "            s = widgets.HTML('<div class=\"incorrect-prompt\">Try Again!</div>')\n",
    "        with feedback_out:\n",
    "            clear_output()\n",
    "            display(s)\n",
    "        return\n",
    "    \n",
    "    check = widgets.Button(description=\"submit\")\n",
    "    check.on_click(check_selection)\n",
    "    \n",
    "    \n",
    "    return widgets.VBox([description_out, alternativ, check, feedback_out])"
   ]
  },
  {
   "cell_type": "code",
   "execution_count": null,
   "id": "dab1e034",
   "metadata": {},
   "outputs": [
    {
     "ename": "SyntaxError",
     "evalue": "invalid syntax (2195513585.py, line 1)",
     "output_type": "error",
     "traceback": [
      "\u001b[0;36m  Cell \u001b[0;32mIn [2], line 1\u001b[0;36m\u001b[0m\n\u001b[0;31m    <!--Module Button-->\u001b[0m\n\u001b[0m    ^\u001b[0m\n\u001b[0;31mSyntaxError\u001b[0m\u001b[0;31m:\u001b[0m invalid syntax\n"
     ]
    }
   ],
   "source": [
    "%%html\n",
    "<!--Module Button-->\n",
    "\n",
    "<style>\n",
    ".moduler{\n",
    "    box-shadow: 0px 15px 10px -15px #F48B34;  \n",
    "    font-size:30px;\n",
    "    color: blue;\n",
    "}\n",
    "    </style>\n",
    "    \n",
    "<div class=\"moduler\">\n",
    "  <a href=\"/voila/render/demos/enablement/Data%20Science%20Essentials/Module%20-%20Data%20Preparation/Essentials_DataPreparation.ipynb\">\n",
    "    Data Preparation</a>\n",
    "</div>\n"
   ]
  },
  {
   "cell_type": "markdown",
   "id": "1eb61592",
   "metadata": {},
   "source": [
    "## Data Loading"
   ]
  },
  {
   "cell_type": "code",
   "execution_count": 3,
   "id": "6f6880a3-2471-4995-a556-034c41d71af5",
   "metadata": {
    "tags": []
   },
   "outputs": [
    {
     "data": {
      "text/html": [
       "<!--Time required-->\n",
       "<i class=\"fas fa-clock\" style='color:#F48B34;font-size:18px;'></i> 15 mins\n"
      ],
      "text/plain": [
       "<IPython.core.display.HTML object>"
      ]
     },
     "metadata": {},
     "output_type": "display_data"
    }
   ],
   "source": [
    "%%html\n",
    "<!--Time required-->\n",
    "<i class=\"fas fa-clock\" style='color:#F48B34;font-size:18px;'></i> 15 mins"
   ]
  },
  {
   "cell_type": "markdown",
   "id": "989fd8da",
   "metadata": {
    "tags": []
   },
   "source": [
    "<a id='toc_cell'></a>\n",
    "### Table of Contents\n",
    "\n",
    "- [Downloading Dataset](#h1_cell)\n",
    "- [Loading Data](#h2_cell)\n",
    "   - [VerticaPy vDataframe Creation](#h4_cell)\n",
    "   \n"
   ]
  },
  {
   "cell_type": "markdown",
   "id": "7a49c17e",
   "metadata": {},
   "source": [
    "Data loading and preperation are the first steps of any ML pipeline. This multi-stage process is called ELT: it <b>extracts (E)</b> the data from one or more data sources, <b>loads (L)</b> the data into Python and/or VerticaPy dataframes, and then <b>transforms (T)</b> the data to prepare it for further analysis. "
   ]
  },
  {
   "cell_type": "markdown",
   "id": "e359fcc6",
   "metadata": {},
   "source": [
    "### Covered in This Module\n",
    "\n",
    "- <b>Extract</b> an open-source Kaggle dataset and <b>load</b> the data into Python using an API.\n",
    "- Create a vDataFrame by ingesting a CSV file.\n",
    "- <b>Transform</b> a Pandas dataframe into a VerticaPy dataframe."
   ]
  },
  {
   "cell_type": "markdown",
   "id": "e4eae0c4",
   "metadata": {},
   "source": [
    "***"
   ]
  },
  {
   "cell_type": "markdown",
   "id": "e91b7444",
   "metadata": {},
   "source": [
    "<a id='h1_cell'></a>\n",
    "### Load the Dataset"
   ]
  },
  {
   "cell_type": "markdown",
   "id": "7050ec65",
   "metadata": {},
   "source": [
    "This section uses the following resources:\n",
    "- An open-source Kaggle dataset\n",
    "- The Kaggle API\n",
    "- The <a href=\"https://pypi.org/project/opendatasets/\" target=\"_blank\">opendatasets</a> package to ingest the Kaggle dataset into the Jupyter notebook"
   ]
  },
  {
   "cell_type": "markdown",
   "id": "058b3d8c-b0ed-4cc4-aaee-15dcc6830fad",
   "metadata": {},
   "source": [
    "<h2 style=\"font-size:16px;\">Retrieve API Credentials</h2>\n",
    "\n",
    "To retrieve your Kaggle credentials for access to the Kaggle API:\n",
    "\n",
    "1. Navigate to <a href=\"https://www.kaggle.com/\" target=\"_blank\">kaggle.com</a> and log in.\n",
    "2. Navigate to <b>Account</b>. \n",
    "3. Click on <b>Create New API Token</b>.\n",
    "4. Verify that the downloaded `kaggle.json` file contains your Kaggle ID and API token."
   ]
  },
  {
   "cell_type": "markdown",
   "id": "8383b3d0-c14e-4bea-87e5-1503018314a6",
   "metadata": {},
   "source": [
    "The following video is a brief demonstration of the above process:"
   ]
  },
  {
   "cell_type": "code",
   "execution_count": null,
   "id": "3642456b-c2da-4e5b-b1cc-7729979e73a8",
   "metadata": {},
   "outputs": [],
   "source": [
    "\"\"\"\n",
    "    Tutorial video showing how to create a Kaggle API key for Jupyter Notebook access\n",
    "    Video Title/URL: kaggle_login_api_key --- https://youtu.be/XOv-F8hByB4\n",
    "    Ensure that your YouTube video resolution is set to 1080p\n",
    "\"\"\"\n",
    "\n",
    "from IPython.display import YouTubeVideo\n",
    "YouTubeVideo('XOv-F8hByB4')"
   ]
  },
  {
   "cell_type": "markdown",
   "id": "35dde652-7dc7-48d6-9f88-359ff04414ef",
   "metadata": {},
   "source": [
    "<h2 style=\"font-size:16px;\">Import Dataset</h2>\n",
    "\n",
    "To import the <a href=\"https://www.kaggle.com/competitions/prudential-life-insurance-assessment/rules\">Prudential Life Insurance Assessment dataset</a> from Kaggle into a Jupyter notebook (Python 3):\n",
    "\n",
    "1. Navigate to the <a href=\"https://www.kaggle.com/competitions/prudential-life-insurance-assessment/rules\">Prudential Life Insurance Assessment dataset</a> in Kaggle.\n",
    "2. In the **Rules** tab, click on **I Understand and Accept** to accept the rules of the competition.\n",
    "3. Execute the following code snippet in your Jupyter notebook.\n",
    "  ```python\n",
    "!pip install opendatasets\n",
    "import opendatasets as od\n",
    "od.download(\"https://www.kaggle.com/competitions/prudential-life-insurance-assessment/rules\")\n",
    "```\n",
    "4. When prompted, enter your Kaggle ID and API token. You can find these in `kaggle.json` from the previous section.\n",
    "\n",
    "<br>\n",
    "<p style=\"color:dimgrey;\"><br><b><u> NOTE:</u></b><i> The kaggle.json file can also be placed in the same directory as the Jupyter notebook, and the credentials will then be read automatically.</i></p>\n",
    "<br>"
   ]
  },
  {
   "cell_type": "markdown",
   "id": "5de6ac86-d66c-411b-95be-a1eb18cb57c7",
   "metadata": {
    "jupyter": {
     "source_hidden": true
    },
    "tags": []
   },
   "source": [
    "<u>Instructional Video:</u>\n",
    "\n",
    "The following video is a brief demonstration of the above process:"
   ]
  },
  {
   "cell_type": "code",
   "execution_count": null,
   "id": "541f4ebe-ae31-44eb-8214-fdcf0afeee4f",
   "metadata": {},
   "outputs": [],
   "source": [
    "\"\"\"\n",
    "    Tutorial video showing how to retrieve the dataset from Kaggle with the Kaggle API and the opendatasets package\n",
    "    in the Jupyter Notebook and enter the Kaggle API key login information\n",
    "    Video Title/URL: kaggle_prudential_copy_import --- https://youtu.be/Mo2DFXZTCyY\n",
    "    Ensure that your YouTube video resolution is set to 1080p\n",
    "\"\"\"\n",
    "\n",
    "YouTubeVideo('Mo2DFXZTCyY')"
   ]
  },
  {
   "cell_type": "markdown",
   "id": "371c82e3-89a3-4ef3-96fd-bca2ae781269",
   "metadata": {},
   "source": [
    "#### [Return to the Table of Contents](#toc_cell)"
   ]
  },
  {
   "cell_type": "markdown",
   "id": "3b946cb8",
   "metadata": {},
   "source": [
    "***"
   ]
  },
  {
   "cell_type": "markdown",
   "id": "3fd84ef3",
   "metadata": {},
   "source": [
    "### Data Preperation\n",
    "\n",
    "<a id='h2_cell'></a>"
   ]
  },
  {
   "cell_type": "markdown",
   "id": "34cdae0d",
   "metadata": {},
   "source": [
    "This section covers loading the downloaded data into a vDataFrame. Let's start by extracting the downloaded files:"
   ]
  },
  {
   "cell_type": "markdown",
   "id": "6f4de49b",
   "metadata": {},
   "source": [
    "<div class=\"alert alert-block alert-info\">\n",
    "<i> <p style=\"color:black;\">Copy and paste the following code snippet into your Jupyter notebook (Python 3), making modifications for your environment if necessary:</p></i>\n",
    "\n",
    "```python\n",
    "import shutil\n",
    "shutil.unpack_archive(\"prudential-life-insurance-assessment/train.csv.zip\")\n",
    "shutil.unpack_archive(\"prudential-life-insurance-assessment/test.csv.zip\")\n",
    "```"
   ]
  },
  {
   "cell_type": "markdown",
   "id": "3b60f2da-e388-48de-a503-c9f950bf4d30",
   "metadata": {},
   "source": [
    "<a id='h4_cell'></a>\n",
    "#### Creating a VerticaPy vDataframe"
   ]
  },
  {
   "cell_type": "markdown",
   "id": "74cae374",
   "metadata": {},
   "source": [
    "Use `read_csv()` to create vDataFrames from the extracted files:"
   ]
  },
  {
   "cell_type": "markdown",
   "id": "3a0b06ff",
   "metadata": {},
   "source": [
    "<div class=\"alert alert-block alert-info\">\n",
    "<i> <p style=\"color:black;\">Copy and paste the following code snippet into your Jupyter notebook (Python 3), making modifications for your environment if necessary:</p></i>\n",
    "\n",
    "```python\n",
    "import verticapy as vp\n",
    "train_df=vp.read_csv('train.csv')\n",
    "test_df=read_csv('test.csv')\n",
    "```"
   ]
  },
  {
   "cell_type": "markdown",
   "id": "e4dc28ae",
   "metadata": {},
   "source": [
    "<b>Note:</b> <a href=\"https://www.vertica.com/python/documentation_last/utilities/read_csv/\">`read_csv()`</a> creates a temporary local table in memory when it reads `.csv` files. To make a permanent copy of that table inside Vertica, specify a schema and table name as arguments to `read_csv()`."
   ]
  },
  {
   "cell_type": "markdown",
   "id": "e70943ff",
   "metadata": {},
   "source": [
    "<h3 style=\"font-size:14px;\">The Shape of the Dataframes</h3><br>\n",
    "The dataframe's shape refers to the number of rows and columns. Test datasets are typically smaller than the training dataset.\n",
    "\n",
    "<b>In Jupyter:</b>\n",
    "- `train_df` should have one more column than the `test_df` to account for the <b>Response</b> column.\n",
    "- `test_df` should be approximately 30% the size of of `train_df`."
   ]
  },
  {
   "cell_type": "markdown",
   "id": "77513be3",
   "metadata": {},
   "source": [
    "<div class=\"alert alert-block alert-info\">\n",
    "<i><p style=\"color:black;\">Copy and paste the following code snippet into your Jupyter notebook (Python 3), making modifications for your environment if necessary:</p></i>\n",
    "\n",
    "```python\n",
    "print(\"Shape of Train Dataset {}\".format(train_df.shape()))\n",
    "print(\"Shape of Test Dataset {}\".format(test_df.shape()))\n",
    "```"
   ]
  },
  {
   "cell_type": "markdown",
   "id": "582af5ef",
   "metadata": {},
   "source": [
    "#### Pandas to VerticaPy conversion"
   ]
  },
  {
   "cell_type": "markdown",
   "id": "2ec2cd7c",
   "metadata": {},
   "source": [
    "To load data from a Pandas dataframe into VerticaPy, use the function [`pandas_to_vertica()`](https://www.vertica.com/python/documentation_last/utilities/pandas_to_vertica/):"
   ]
  },
  {
   "cell_type": "markdown",
   "id": "728a803f",
   "metadata": {},
   "source": [
    "<div class=\"alert alert-block alert-info\">\n",
    "<i><p style=\"color:black;\">Copy and paste the following code snippet into your Jupyter notebook (Python 3), making modifications for your environment if necessary:</p></i>\n",
    "\n",
    "```python\n",
    "vDataFrame_data = pandas_to_vertica(pandas_DataFrame_data)\n",
    "```"
   ]
  },
  {
   "cell_type": "markdown",
   "id": "0866369a",
   "metadata": {},
   "source": [
    "The following video is a brief demonstration of creating Pandas dataframes from the sample datasets and importing them into VerticaPy as vDataFrames."
   ]
  },
  {
   "cell_type": "code",
   "execution_count": null,
   "id": "c1891e02-e58b-4fb6-a044-8ef8ff6cdd85",
   "metadata": {},
   "outputs": [],
   "source": [
    "\"\"\"\n",
    "    Tutorial video showing how to create Pandas dataframes for the 3 zipped-csv Kaggle files and to convert them to VerticaPy vDataFrames\n",
    "    Video Title/URL: kaggle_prudential_copy_import --- https://youtu.be/zhY9OSEDpFs\n",
    "    Ensure that your YouTube video resolution is set to 1080p\n",
    "    \"\"\"\n",
    "\n",
    "YouTubeVideo('zhY9OSEDpFs')"
   ]
  },
  {
   "cell_type": "markdown",
   "id": "18dfb4f9-0165-4459-a891-17e83e66e58f",
   "metadata": {},
   "source": [
    "#### [Return to the Table of Contents](#toc_cell)"
   ]
  },
  {
   "cell_type": "code",
   "execution_count": null,
   "id": "22eee261",
   "metadata": {},
   "outputs": [],
   "source": [
    "%%javascript\n",
    "// When the user scrolls the page, execute myFunction\n",
    "window.onscroll = function() {myFunction()};\n",
    "\n",
    "// Get the navbar\n",
    "var navbar = document.getElementById(\"navbar_top\");\n",
    "\n",
    "// Get the offset position of the navbar\n",
    "var sticky = navbar.offsetTop;\n",
    "\n",
    "// Add the sticky class to the navbar when you reach its scroll position. Remove \"sticky\" when you leave the scroll position\n",
    "function myFunction() {\n",
    "  if (window.pageYOffset >= sticky+140) {\n",
    "    navbar.classList.add(\"sticky\")\n",
    "  } else {\n",
    "    navbar.classList.remove(\"sticky\");\n",
    "  }\n",
    "  if (window.pageYOffset <= sticky) {\n",
    "    navbar.classList.remove(\"sticky\");\n",
    "  }\n",
    "}"
   ]
  },
  {
   "cell_type": "markdown",
   "id": "fc645b77",
   "metadata": {},
   "source": [
    "<html>\n",
    "<head>\n",
    "<meta name=\"viewport\" content=\"width=device-width, initial-scale=1\">\n",
    "<style>\n",
    "a {\n",
    "  text-decoration: none;\n",
    "  display: inline-block;\n",
    "  padding: 8px 16px;\n",
    "}\n",
    "\n",
    "a:hover {\n",
    "  background-color: #ddd;\n",
    "  color: black;\n",
    "}\n",
    "\n",
    ".previous {\n",
    "  background-color: #f1f1f1;\n",
    "  color: black;\n",
    "}\n",
    "\n",
    ".next {\n",
    "  background-color: #F48B34;\n",
    "  color: white;\n",
    "}\n",
    "\n",
    ".round {\n",
    "  border-radius: 50%;\n",
    "}\n",
    "</style>\n",
    "</head>\n",
    "<body>\n",
    "\n",
    "<a href=\"/voila/render/demos/enablement/Data%20Science%20Essentials/Module%20-%20Data%20Preparation/Essentials_DataPreparation.ipynb\" font-size= 40px class=\"previous round\">&#8249;</a>\n",
    "<a href=\"/voila/render/demos/enablement/Data%20Science%20Essentials/Module%20-%20Data%20Preparation/Essentials_DataPreparation_Prep.ipynb\" class=\"next round\">&#8250;</a>\n",
    "  \n",
    "</body>\n",
    "</html> "
   ]
  },
  {
   "cell_type": "markdown",
   "id": "c02f25ee",
   "metadata": {},
   "source": [
    "***"
   ]
  },
  {
   "cell_type": "markdown",
   "id": "ca2aa185",
   "metadata": {},
   "source": [
    "<font style=\"font-family:Calibri\"> Author Name: Theresa Melvin\n",
    "<br>\n",
    "Author Contact: theresa.melvin@verticapy.com</font>"
   ]
  }
 ],
 "metadata": {
  "kernelspec": {
   "display_name": "Python 3 (ipykernel)",
   "language": "python",
   "name": "python3"
  },
  "language_info": {
   "codemirror_mode": {
    "name": "ipython",
    "version": 3
   },
   "file_extension": ".py",
   "mimetype": "text/x-python",
   "name": "python",
   "nbconvert_exporter": "python",
   "pygments_lexer": "ipython3",
   "version": "3.9.12"
  }
 },
 "nbformat": 4,
 "nbformat_minor": 5
}
