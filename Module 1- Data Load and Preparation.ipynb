{
 "cells": [
  {
   "cell_type": "code",
   "execution_count": null,
   "id": "d8813b06",
   "metadata": {},
   "outputs": [],
   "source": [
    "import ipywidgets as widgets\n",
    "from IPython.display import display, clear_output\n",
    "from ipywidgets import Layout"
   ]
  },
  {
   "cell_type": "code",
   "execution_count": null,
   "id": "73c74fd4",
   "metadata": {},
   "outputs": [],
   "source": [
    "%%html\n",
    "<!--The top Logo and the menu bar-->\n",
    "\n",
    "<head>\n",
    "<meta name=\"viewport\" content=\"width=device-width, initial-scale=1\">\n",
    "<style>\n",
    "body {\n",
    "  font-family: Arial, Helvetica, sans-serif;\n",
    "  margin: 0 0 0 0px;\n",
    "}\n",
    ".back{\n",
    "    height: 130px;\n",
    "    width: 100%;\n",
    "    background-color:#263133;\n",
    "    display: flex;\n",
    "    align-items: center;\n",
    "}\n",
    ".navbar_0 {\n",
    "  overflow: hidden;\n",
    "  background-color: #263133; \n",
    "  display: block;\n",
    "}\n",
    ".navbar_0 a {\n",
    "  float: left;\n",
    "  font-size: 16px;\n",
    "  color: white;\n",
    "  text-align: center;\n",
    "  padding: 14px 16px;\n",
    "  text-decoration: none;\n",
    "  overflow: visible;\n",
    "  display: inline-block;\n",
    "}\n",
    ".subnav {\n",
    "  float: left;\n",
    "  overflow: hidden;\n",
    "}\n",
    ".subnav .subnavbtn {\n",
    "  font-size: 16px;\n",
    "  border: none;\n",
    "  outline: none;\n",
    "  color: white;\n",
    "  padding: 14px 16px;\n",
    "  background-color: inherit;\n",
    "  font-family: inherit;\n",
    "  margin: 0;\n",
    "  position: relative;\n",
    "}\n",
    ".navbar_0 a:hover, .subnav:hover .subnavbtn {\n",
    "  position:relative;\n",
    "  display:inlije-block;\n",
    "  overflow:visible;\n",
    "  background-color: #F48B34;\n",
    "}\n",
    ".subnav-content {\n",
    "  display: none;\n",
    "  position: absolute;\n",
    "  left: 0;\n",
    "  background-color: #263133;\n",
    "  width: 100%;\n",
    "  z-index: 1;\n",
    "    border-style: solid;\n",
    "  border-color: white;\n",
    "    border-width:1px;\n",
    "}\n",
    ".subnav-content a {\n",
    "  float: left;\n",
    "  overflow:visible;\n",
    "  color: white;\n",
    "  text-decoration: none;\n",
    "}\n",
    ".subnav-content a:hover {\n",
    "  background-color: #F48B34;\n",
    "  color: black;\n",
    "}\n",
    ".subnav:hover .subnav-content {\n",
    "  display: block;\n",
    "}\n",
    "</style>\n",
    "</head>\n",
    "\n",
    "\n",
    "\n",
    "\n",
    "\n",
    "<style>\n",
    ".content_0 {\n",
    "  display: flex;\n",
    "  text-align: center;\n",
    "  vertical-align: middle;\n",
    "}\n",
    "\n",
    "\n",
    ".icon-container {\n",
    "  margin-top: 0px;\n",
    "  width: 100%;\n",
    "  height: 70px;\n",
    "}\n",
    "\n",
    ".icon {\n",
    "  cursor: pointer;\n",
    "  position: relative;\n",
    "  display: inline-block;\n",
    "  width: 45px;\n",
    "  height: 45px;\n",
    "  margin-left: 12px;\n",
    "  margin-right: 12px;\n",
    "  border-radius: 30px;\n",
    "  overflow: hidden;\n",
    "  background-color:white;\n",
    "}\n",
    ".icon::before, .icon::after {\n",
    "  content: \"\";\n",
    "  position: absolute;\n",
    "  top: 0;\n",
    "  left: 0;\n",
    "  height: 100%;\n",
    "  width: 100%;\n",
    "  transition: all 0.25s ease;\n",
    "  border-radius: 30px;\n",
    "}\n",
    ".icon i {\n",
    "  position: relative;\n",
    "  color: #263133;\n",
    "  font-size: 24px;\n",
    "  margin-top: 10px;\n",
    "  transition: all 0.25s ease;\n",
    "}\n",
    "\n",
    ".icon-fill::before {\n",
    "  transition-duration: 0.7s;\n",
    "}\n",
    ".icon-fill:hover::before {\n",
    "  box-shadow: inset 0 0 0 60px #F48B34;\n",
    "    \n",
    "}\n",
    "</style>\n",
    "\n",
    "\n",
    "\n",
    "\n",
    "\n",
    "<body>\n",
    "<div class=back>\n",
    "<img src=\"Figures/v2.svg.png\" alt=\"Vertica logo\" width=\"300\">\n",
    "</div>\n",
    "<div class=\"navbar_0\">\n",
    "\n",
    "  <div class=\"subnav\">\n",
    "    <div class=\"content_0\">\n",
    "      <div class=\"icon-container\">\n",
    "        <div class=\"icon icon-fill\" onclick=\"window.location.href = 'http://localhost:8888/voila/render/Documents/GitHub/vertica-demo/docker-verticapy/enablement/Template/Course_Page_v1.ipynb';\"><i class=\"fa fa-home\"></i></div>\n",
    "      </div>\n",
    "    </div>\n",
    "  </div>\n",
    "\n",
    "  <div class=\"subnav\">\n",
    "    <button class=\"subnavbtn\">Courses <i class=\"fa fa-caret-down\"></i></button>\n",
    "    <div class=\"subnav-content\">\n",
    "      <a href=\"#\">Course 1</a>\n",
    "      <a href=\"#\">Course 2</a>\n",
    "      <a href=\"#\">Course 3</a>\n",
    "    </div>\n",
    "  </div> \n",
    "  <div class=\"subnav\">\n",
    "    <button class=\"subnavbtn\">Documentation <i class=\"fa fa-caret-down\"></i></button>\n",
    "    <div class=\"subnav-content\">\n",
    "      <a href=\"#\">Topic 1</a>\n",
    "      <a href=\"#\">Topic 2</a>\n",
    "      <a href=\"#\">Topic 3</a>\n",
    "    </div>\n",
    "  </div> \n",
    "    <div class=\"subnav\">\n",
    "    <button class=\"subnavbtn\">Quick Examples <i class=\"fa fa-caret-down\"></i></button>\n",
    "    <div class=\"subnav-content\">\n",
    "      <a href=\"#\">Example 1</a>\n",
    "      <a href=\"#\">Example 2</a>\n",
    "      <a href=\"#\">Example 3 3</a>\n",
    "    </div>\n",
    "  </div> \n",
    "  <a href=\"#contact\">Contact</a>\n",
    "</div>\n",
    "</body>"
   ]
  },
  {
   "cell_type": "code",
   "execution_count": null,
   "id": "b1fec60f",
   "metadata": {},
   "outputs": [],
   "source": [
    "%%html\n",
    "<!--Style for correct and incorrect prompts-->\n",
    "<style>\n",
    "\n",
    ".correct-prompt {\n",
    "  font-family: \"Helvetica\", \"Arial\", sans-serif;\n",
    "  display: inline-block;\n",
    "  font-size: 17px;\n",
    "  background-color: green;\n",
    "  color: #fff;\n",
    "  border-radius: 4px;\n",
    "  position: relative;\n",
    "  box-shadow: 0 2px 25px rgba(25,163,97,0.75);\n",
    "  padding:5px;\n",
    "}\n",
    ".incorrect-prompt {\n",
    "  font-family: \"Helvetica\", \"Arial\", sans-serif;\n",
    "  display: inline-block;\n",
    "  font-size: 17px;\n",
    "  background-color: red;\n",
    "  color: #fff;\n",
    "  border-radius: 4px;\n",
    "  position: relative;\n",
    "  box-shadow: 0 2px 25px rgba(255, 0, 130, 0.5);\n",
    "  padding:5px;\n",
    "}  \n",
    "</style>"
   ]
  },
  {
   "cell_type": "code",
   "execution_count": null,
   "id": "8b0862f1",
   "metadata": {},
   "outputs": [],
   "source": [
    "# Defining a function for multiple choice widgets\n",
    "\n",
    "def create_multipleChoice_widget(options, correct_answer):\n",
    "    if correct_answer not in options:\n",
    "        options.append(correct_answer)\n",
    "    \n",
    "    correct_answer_index = options.index(correct_answer)\n",
    "    \n",
    "    radio_options = [(words, i) for i, words in enumerate(options)]\n",
    "    alternativ = widgets.RadioButtons(\n",
    "        options = radio_options,\n",
    "        description = '',\n",
    "        disabled = False\n",
    "    )\n",
    "    \n",
    "    description_out = widgets.Output()\n",
    "#    with description_out:\n",
    "#        print(description)\n",
    "        \n",
    "    feedback_out = widgets.Output()\n",
    "\n",
    "    def check_selection(b):\n",
    "        a = int(alternativ.value)\n",
    "        if a==correct_answer_index:\n",
    "            s = widgets.HTML('<div class=\"correct-prompt\">Correct!</div>')\n",
    "        else:\n",
    "            s = widgets.HTML('<div class=\"incorrect-prompt\">Try Again!</div>')\n",
    "        with feedback_out:\n",
    "            clear_output()\n",
    "            display(s)\n",
    "        return\n",
    "    \n",
    "    check = widgets.Button(description=\"submit\")\n",
    "    check.on_click(check_selection)\n",
    "    \n",
    "    \n",
    "    return widgets.VBox([description_out, alternativ, check, feedback_out])\n",
    "\n",
    "def create_numeric_widget(correct_answer):\n",
    "    \n",
    "    #correct_answer_index = options.index(correct_answer)\n",
    "    \n",
    "    #radio_options = [(words, i) for i, words in enumerate(options)]\n",
    "    alternativ = widgets.Text(\n",
    "        #options = radio_options,\n",
    "        #description = '',\n",
    "        disabled = False\n",
    "    )\n",
    "    \n",
    "    description_out = widgets.Output()\n",
    "#    with description_out:\n",
    "#        print(description)\n",
    "        \n",
    "    feedback_out = widgets.Output()\n",
    "\n",
    "    def check_selection(b):\n",
    "        try:\n",
    "            a = int(alternativ.value)\n",
    "        except ValueError:\n",
    "            a = float(alternativ.value)\n",
    "        if a==correct_answer:\n",
    "            s = widgets.HTML('<div class=\"correct-prompt\">Correct!</div>')\n",
    "        else:\n",
    "            s = widgets.HTML('<div class=\"incorrect-prompt\">Try Again!</div>')\n",
    "        with feedback_out:\n",
    "            clear_output()\n",
    "            display(s)\n",
    "        return\n",
    "    \n",
    "    check = widgets.Button(description=\"submit\")\n",
    "    check.on_click(check_selection)\n",
    "    \n",
    "    \n",
    "    return widgets.VBox([description_out, alternativ, check, feedback_out])"
   ]
  },
  {
   "cell_type": "code",
   "execution_count": null,
   "id": "dab1e034",
   "metadata": {},
   "outputs": [
    {
     "ename": "SyntaxError",
     "evalue": "invalid syntax (2195513585.py, line 1)",
     "output_type": "error",
     "traceback": [
      "\u001b[0;36m  Cell \u001b[0;32mIn [2], line 1\u001b[0;36m\u001b[0m\n\u001b[0;31m    <!--Module Button-->\u001b[0m\n\u001b[0m    ^\u001b[0m\n\u001b[0;31mSyntaxError\u001b[0m\u001b[0;31m:\u001b[0m invalid syntax\n"
     ]
    }
   ],
   "source": [
    "%%html\n",
    "<!--Module Button-->\n",
    "\n",
    "<style>\n",
    ".moduler{\n",
    "    box-shadow: 0px 15px 10px -15px #F48B34;  \n",
    "    font-size:30px;\n",
    "    color: blue;\n",
    "}\n",
    "    </style>\n",
    "    \n",
    "<div class=\"moduler\">\n",
    "  <a href=\"http://localhost:8888/voila/render/Documents/GitHub/vertica-demo/docker-verticapy/enablement/Template/Module_Page_v1.ipynb\">Module Name</a>\n",
    "</div>\n"
   ]
  },
  {
   "cell_type": "markdown",
   "id": "1eb61592",
   "metadata": {},
   "source": [
    "## Data Load and Preperation"
   ]
  },
  {
   "cell_type": "code",
   "execution_count": 3,
   "id": "6f6880a3-2471-4995-a556-034c41d71af5",
   "metadata": {
    "tags": []
   },
   "outputs": [
    {
     "data": {
      "text/html": [
       "<!--Time required-->\n",
       "<i class=\"fas fa-clock\" style='color:#F48B34;font-size:18px;'></i> 15 mins\n"
      ],
      "text/plain": [
       "<IPython.core.display.HTML object>"
      ]
     },
     "metadata": {},
     "output_type": "display_data"
    }
   ],
   "source": [
    "%%html\n",
    "<!--Time required-->\n",
    "<i class=\"fas fa-clock\" style='color:#F48B34;font-size:18px;'></i> 15 mins"
   ]
  },
  {
   "cell_type": "markdown",
   "id": "989fd8da",
   "metadata": {
    "tags": []
   },
   "source": [
    "<a id='toc_cell'></a>\n",
    "### Table of Contents\n",
    "\n",
    "- [Load Dataset](#h1_cell)\n",
    "- [Data Preperation](#h2_cell)\n",
    "   - [Pandas Dataframe Creation](#h3_cell)\n",
    "   - [VerticyPy vDataframe Creation](#h4_cell)\n"
   ]
  },
  {
   "cell_type": "markdown",
   "id": "7a49c17e",
   "metadata": {},
   "source": [
    "Data loading and preperation is the first step in an Operational ML Pipeline. \n",
    "\n",
    "This multi-stage process <b> Extracts (E) </b>the data from one or more data sources, <b>Loads (L) </b>the data into Python and/or VerticaPy dataframes, and then <b>Transforms (T) </b>the data through cleansing and aggregation steps. \n",
    "\n",
    "This<b> ELT </b>process standardizes and integrates diverse data affording data exploration, modeling, and visualization."
   ]
  },
  {
   "cell_type": "markdown",
   "id": "e359fcc6",
   "metadata": {},
   "source": [
    "### What you will learn in this module?\n",
    "\n",
    "- How to <b>Extract</b> an open-source Kaggle dataset and <b>Load</b> the data into Python using an API.\n",
    "- How to <b>Transform</b> the Pandas dataframe into a VerticaPy dataframe in preparation for data  exploration using VerticaPy."
   ]
  },
  {
   "cell_type": "markdown",
   "id": "e4eae0c4",
   "metadata": {},
   "source": [
    "***"
   ]
  },
  {
   "cell_type": "markdown",
   "id": "e91b7444",
   "metadata": {},
   "source": [
    "<a id='h1_cell'></a>\n",
    "###Load Dataset"
   ]
  },
  {
   "cell_type": "markdown",
   "id": "7050ec65",
   "metadata": {},
   "source": [
    "In this section an open-source dataset is imported from Kaggle"
   ]
  },
  {
   "cell_type": "markdown",
   "id": "3b2dd636",
   "metadata": {},
   "source": [
    "- An open-source Kaggle dataset along with the Kaggle API are used for this demo.\n",
    "\n",
    "- The Python <a href=\"https://pypi.org/project/opendatasets/\" target=\"_blank\">opendatasets</a> package is used to ingest this Kaggle dataset URL into the jupyter notebook.\n",
    "\n"
   ]
  },
  {
   "cell_type": "markdown",
   "id": "058b3d8c-b0ed-4cc4-aaee-15dcc6830fad",
   "metadata": {},
   "source": [
    "\n",
    "<h2 style=\"font-size:16px;\">Retrieve Login Credentials</h2>\n",
    "\n",
    "Perform the Following Steps to Retrieve Your Kaggle Login Credentials for API Access:\n",
    "\n",
    "1. Open a web browser\n",
    "2. Navigate to <a href=\"https://www.kaggle.com/\" target=\"_blank\">Kaggle</a> \n",
    "3. Use your Kaggle credentials to sign in <br>(if you do not have a Kaggle account, create one, it's free)</br>\n",
    "4. Navigate to Account \n",
    "5. Click on Create New API Token\n",
    "6. Using a text editor, open the downloaded <i>kaggle.json</i> file\n",
    "7. Verify this file contains your Kaggle ID and API token"
   ]
  },
  {
   "cell_type": "markdown",
   "id": "8383b3d0-c14e-4bea-87e5-1503018314a6",
   "metadata": {},
   "source": [
    "<u>Instructional Video:</u>\n",
    "\n",
    "<i>The following 40 second instructional video will guide you through this process, if needed</i>"
   ]
  },
  {
   "cell_type": "code",
   "execution_count": null,
   "id": "3642456b-c2da-4e5b-b1cc-7729979e73a8",
   "metadata": {},
   "outputs": [],
   "source": [
    "\"\"\"\n",
    "    Helper video showing how to create a Kaggle API key for Jupyter Notebook access\n",
    "    Video Title/URL: kaggle_login_api_key --- https://youtu.be/XOv-F8hByB4\n",
    "    Ensure that your YouTube video resolution is set to 1080p\n",
    "\"\"\"\n",
    "\n",
    "from IPython.display import YouTubeVideo\n",
    "YouTubeVideo('XOv-F8hByB4')"
   ]
  },
  {
   "cell_type": "markdown",
   "id": "35dde652-7dc7-48d6-9f88-359ff04414ef",
   "metadata": {},
   "source": [
    "<h2 style=\"font-size:16px;\">Import Dataset</h2>\n",
    "\n",
    "Perform the Following Steps to Import the Kaggle Dataset into a Python 3 Jupyter Notebook:\n",
    "\n",
    "<b>From Kaggle, navigate to the Search bar: </b>\n",
    "- Type in \"Prudential\"\n",
    "- <i>Select</i> Prudential Life Insurance Assessment\n",
    "- <i>Copy</i> the dataset URL: <br>https://www.kaggle.com/c/prudential-life-insurance-assessment</br>\n",
    "\n",
    "<b>From a text editor: </b>\n",
    "- <i>Open</i> the downloaded kaggle.json file\n",
    "- <i>Copy </i> your API token\n",
    "\n",
    "<b>From Jupyter: </b>\n",
    "<br>(python code-snippet included below) </br>\n",
    "\n",
    "- <i>Paste </i>the URL into the <b>od.download</b> dataset_url field, then execute the cell\n",
    "- <i>Enter </i>your kaggle ID when prompted, press enter/return\n",
    "- <i>Paste</i> your Kaggle API token, press enter/return the dataset download from Kaggle should commence\n",
    "\n",
    "<br>\n",
    "> <p style=\"color:dimgrey;\"><br><b><u> NOTE:</u></b><i> The kaggle.json file can also be placed the same directory as the Jupyter notebook, and the credentials will then be read automatically. </i></p>\n",
    "<br>"
   ]
  },
  {
   "cell_type": "markdown",
   "id": "36310325-f6c3-453c-acb2-a4ab79b4c65a",
   "metadata": {},
   "source": [
    "<div class=\"alert alert-block alert-info\">\n",
    "<i> <p style=\"color:black;\">The following code snippet can be copied/pasted into your Python 3 Jupyter Notebook and altered as needed for your environment:</i></p>\n",
    "\n",
    "```python\n",
    "!pip install opendatasets\n",
    "import opendatasets as od\n",
    "od.download(\"https://www.kaggle.com/c/prudential-life-insurance-assessment\")\n",
    "```"
   ]
  },
  {
   "cell_type": "markdown",
   "id": "5de6ac86-d66c-411b-95be-a1eb18cb57c7",
   "metadata": {
    "jupyter": {
     "source_hidden": true
    },
    "tags": []
   },
   "source": [
    "<u>Instructional Video:</u>\n",
    "\n",
    "<i>The following 75 second instructional video will guide you through the Data Import process, if needed</i>"
   ]
  },
  {
   "cell_type": "code",
   "execution_count": null,
   "id": "541f4ebe-ae31-44eb-8214-fdcf0afeee4f",
   "metadata": {},
   "outputs": [],
   "source": [
    "\"\"\"\n",
    "    Helper video showing how to copy the Kaggle Dataset URL, paste it into the opendatasets URL\n",
    "    in the Jupyter Notebook and enter the Kaggle API key login information\n",
    "    Video Title/URL: kaggle_prudential_copy_import --- https://youtu.be/Mo2DFXZTCyY\n",
    "    Ensure that your YouTube video resolution is set to 1080p\n",
    "\"\"\"\n",
    "\n",
    "YouTubeVideo('Mo2DFXZTCyY')"
   ]
  },
  {
   "cell_type": "markdown",
   "id": "371c82e3-89a3-4ef3-96fd-bca2ae781269",
   "metadata": {},
   "source": [
    "#### [Return to the Table of Contents](#toc_cell)"
   ]
  },
  {
   "cell_type": "markdown",
   "id": "3b946cb8",
   "metadata": {},
   "source": [
    "***"
   ]
  },
  {
   "cell_type": "markdown",
   "id": "3fd84ef3",
   "metadata": {},
   "source": [
    "### Data Preperation\n",
    "\n",
    "<a id='h2_cell'></a>"
   ]
  },
  {
   "cell_type": "markdown",
   "id": "641fec64-13ce-435d-96a8-aaf620217d58",
   "metadata": {},
   "source": [
    "This section contains two subsections. The first, Pandas Dataframe Creation, section shows how to create pandas dataframes from the Kaggle data without uncompressing the zipped train and test files. <br>\n",
    "<br>\n",
    "The second, VerticaPy Dataframe Creation section shows how to convert the pandas dataframe to a VerticPy vDataframe while simultaneously writing the content to a Vertica Database Table. "
   ]
  },
  {
   "cell_type": "markdown",
   "id": "d668dfc7-8ff2-42f9-bba9-d47b5a3fa45d",
   "metadata": {},
   "source": [
    "- [Pandas Dataframe Creation](#h3_cell)\n",
    "- [VerticyPy vDataframe Creation](#h4_cell)"
   ]
  },
  {
   "cell_type": "markdown",
   "id": "17dd5306-9168-4524-948b-fbf9838f8f66",
   "metadata": {},
   "source": [
    "<a id='h3_cell'></a>\n",
    "####Pandas Dataframe Creation"
   ]
  },
  {
   "cell_type": "markdown",
   "id": "0ef0675d",
   "metadata": {},
   "source": [
    "<h3 style=\"font-size:14px;\">View the Downloaded Kaggle Files</h3>\n",
    "\n",
    "<b>From Jupyter: </b>\n",
    "- Import the <b> os</b> library to scan the host directory\n",
    "- Set the working directory to <b>prudential-life-insurance-assessment</b>\n",
    "- Perform a directory-<b>walk</b> to list all the downloaded Kaaggle files"
   ]
  },
  {
   "cell_type": "markdown",
   "id": "25b6827c",
   "metadata": {},
   "source": [
    "<div class=\"alert alert-block alert-info\">\n",
    "<i> <p style=\"color:black;\">The following code snippet can be copied/pasted into your Python 3 Jupyter Notebook and altered as needed for your environment:</p></i>\n",
    "\n",
    "```python\n",
    "import os\n",
    "for dirname, _, filenames in os.walk('./prudential-life-insurance-assessment/'):\n",
    "    for filename in filenames:\n",
    "        print(os.path.join(dirname, filename))\n",
    "```"
   ]
  },
  {
   "cell_type": "markdown",
   "id": "7b57b97b-7b66-4219-8d74-c570f64626da",
   "metadata": {
    "tags": []
   },
   "source": [
    "<h3 style=\"font-size:14px;\">Install Python Zipfile Package</h3>\n",
    "\n",
    "The zipfile package is needed since the Kaggle dataset is downloaded in a compressed format. Python's Pandas has the ability to create a dataframe from compressed comma-delimited data using this helper library.\n",
    "\n",
    "<b>From Jupyter: </b>\n",
    "- Install Python <b> zipfile </b> package \n",
    "- Import the zipfile library"
   ]
  },
  {
   "cell_type": "markdown",
   "id": "0acf9a19-a72b-4f32-a5d6-f309b2781520",
   "metadata": {},
   "source": [
    "<div class=\"alert alert-block alert-info\">\n",
    "<i> <p style=\"color:black;\">The following code snippet can be copied/pasted into your Python 3 Jupyter Notebook and altered as needed for your environment:</p></i>\n",
    "\n",
    "```python\n",
    "!pip install zipfile36\n",
    "import zipfile\n",
    "```"
   ]
  },
  {
   "cell_type": "markdown",
   "id": "55f05a11-522e-4e90-bd11-cced82e48be3",
   "metadata": {
    "tags": []
   },
   "source": [
    "<h3 style=\"font-size:14px;\">Create Pandas Dataframes</h3>\n",
    "Perform the Following Steps to Create Pandas Dataframes for the test and train datasets using the compressed Kaggle csv.zip files:\n",
    "\n",
    "<b>From Jupyter: </b>\n",
    "- Import the pandas data analytics library\n",
    "- Create a pandas dataframe using <b>pd.read_csv</b>of the train.csv.zip file\n",
    "- Add 'zip' for the compression\n",
    "- Set the index column to 'Id'\n",
    "- Repeat all the above steps for the test.csv.zip file"
   ]
  },
  {
   "cell_type": "markdown",
   "id": "a5cf7eda-3860-420c-8af9-222bf4064968",
   "metadata": {
    "tags": []
   },
   "source": [
    "<div class=\"alert alert-block alert-info\">\n",
    "<i> <p style=\"color:black;\">The following code snippet can be copied/pasted into your Python 3 Jupyter Notebook and altered as needed for your environment:</p></i>\n",
    "\n",
    "```python\n",
    "import pandas as pd\n",
    "train_df = pd.read_csv('./prudential-life-insurance-assessment/train.csv.zip', compression='zip', index_col='Id')\n",
    "test_df = pd.read_csv('./prudential-life-insurance-assessment/test.csv.zip', compression='zip', index_col='Id')\n",
    "```"
   ]
  },
  {
   "cell_type": "markdown",
   "id": "06470ea1-1749-4f23-b8f6-01a19a2c7546",
   "metadata": {
    "tags": []
   },
   "source": [
    "<h3 style=\"font-size:14px;\">Retrieve the Shape of the Dataframes</h3><br>\n",
    "The dataframe's shape tells you how many rows and columns it contains. For ML models, the test dataset is typically smaller than the training dataset.\n",
    "\n",
    "<b>From Jupyter: </b>\n",
    "- The train_df should have one more column than the test_df to account for the <b>Response</b> column \n",
    "- The test_df should be approximately 30% the size of the train_df<br>"
   ]
  },
  {
   "cell_type": "markdown",
   "id": "6d854e1a-1013-41d2-b0e8-790bea342107",
   "metadata": {},
   "source": [
    "<div class=\"alert alert-block alert-info\">\n",
    "<i> <p style=\"color:black;\">The following code snippet can be copied/pasted into your Python 3 Jupyter Notebook and altered as needed for your environment:</p></i>\n",
    "\n",
    "```python\n",
    "print(\"Shape of Train Dataset {}\".format(train_df.shape))\n",
    "print(\"Shape of Test Dataset {}\".format(test_df.shape))\n",
    "```"
   ]
  },
  {
   "cell_type": "markdown",
   "id": "72851a07-5138-4e21-a2da-139be5d25b3c",
   "metadata": {},
   "source": [
    "<u>Instructional Video:</u>\n",
    "\n",
    "<i>The following 50 second instructional video will guide you through this section's entire Pandas dataframe creation process</i>"
   ]
  },
  {
   "cell_type": "code",
   "execution_count": null,
   "id": "a9b4dd97",
   "metadata": {},
   "outputs": [],
   "source": [
    "\"\"\"\n",
    "    Helper video showing how to create a Pandas dataframes for the 3 zipped-csv Kaggle files\n",
    "    Video Title/URL: kaggle_prudential_copy_import --- https://youtu.be/Kw2yGMjeO2o\n",
    "    Ensure that your YouTube video resolution is set to 1080p\n",
    "    \"\"\"\n",
    "\n",
    "YouTubeVideo('Kw2yGMjeO2o')"
   ]
  },
  {
   "cell_type": "markdown",
   "id": "72bf83c8-0aec-4790-a8c9-96d8a34bffd5",
   "metadata": {},
   "source": [
    "#### [Return to the Table of Contents](#toc_cell)"
   ]
  },
  {
   "cell_type": "markdown",
   "id": "d3f996c9-e657-4bd4-b707-32097fd93364",
   "metadata": {},
   "source": [
    "***"
   ]
  },
  {
   "cell_type": "markdown",
   "id": "3b60f2da-e388-48de-a503-c9f950bf4d30",
   "metadata": {},
   "source": [
    "<a id='h4_cell'></a>\n",
    "####VerticaPy vDataframe Creation"
   ]
  },
  {
   "cell_type": "markdown",
   "id": "0aff2010-6e09-4a96-b2c9-e29ed2ed2ebc",
   "metadata": {},
   "source": [
    "\n",
    "<h2 style=\"font-size:16px;\">Configuration and Support</h2>\n",
    "\n",
    "To avail yourself of all VerticaPy functionality ensure the <b>latest version</b> of both <b>VerticaPy</b> and the <b>Vertica</b> Database Engine are installed.\n",
    "\n",
    "Ensure your <b>Python version</b> is supported. VerticaPy supports Python versions 3.6-3.8 as of the time of this writing, other versions may work but they are not supported. \n",
    "\n",
    "To validate your configuration please check the VerticaPy <a href=\"https://www.vertica.com/python/documentation_last/prerequisites.php\" target=\"_blank\">prerequisites</a> webpage."
   ]
  },
  {
   "cell_type": "markdown",
   "id": "cba6a317-8f3c-48fb-926e-0c62e74dec0c",
   "metadata": {},
   "source": [
    "<u>Lab Setup:</u>\n",
    "\n",
    "The following lab configuration was used in all VerticaPy lessons leveraging the Kaggle <i>Prudential Life Insurance Assessment</i> dataset:\n",
    "\n",
    "1. <b>Python</b><img src='Figures/Python-Logo-trans.png' width=\"60\" height=\"60\"><br>version 3.8.8 \n",
    "2. <b>VerticaPy</b>  <img src='Figures/verticapy-logo-trans.png' width=\"20\" height=\"20\"><br>version 0.10.2\n",
    "3. <img src='Figures/vertica.png' width=\"55\" height=\"55\"><br><i>Community Edition Database (Docker image)</i><br>version 12.0.1.0\n",
    "<br>"
   ]
  },
  {
   "cell_type": "markdown",
   "id": "570dfa84-866f-4e77-b855-3ed2e6cf6168",
   "metadata": {
    "tags": []
   },
   "source": [
    "<h3 style=\"font-size:14px;\">Verify Python Version</h3>\n",
    "\n",
    "Before proceeding with the VerticaPy installation, ensure that a supported Python version is installed"
   ]
  },
  {
   "cell_type": "markdown",
   "id": "3441e4d8-eddb-4891-862f-b7b8709ea61f",
   "metadata": {},
   "source": [
    "<div class=\"alert alert-block alert-info\">\n",
    "<i> <p style=\"color:black;\">The following code snippet can be copied/pasted into your Python 3 Jupyter Notebook and altered as needed for your environment:</p></i>\n",
    "\n",
    "```python\n",
    "from platform import python_version\n",
    "print(python_version())\n",
    "```"
   ]
  },
  {
   "cell_type": "markdown",
   "id": "5f0a7801-7fce-4331-8e1a-0ae631e47f7b",
   "metadata": {},
   "source": [
    "<h3 style=\"font-size:14px;\">Install VerticaPy</h3>\n",
    "\n",
    "Install the latest version of VerticaPy into the Python environment using one of the following methods:\n",
    "\n",
    "1. VerticaPy can be installed using Python's <i>pip</i> command from <a href=\"https://pypi.org/project/verticapy/\" target=\"_blank\">PyPi</a>\n",
    "\n",
    "2. VerticaPy can also be installed from source from the <a href=\"https://github.com/vertica/VerticaPy\" target=\"_blank\">github</a>\n",
    "\n",
    "<b>From Jupyter: </b>\n",
    "- Install VerticaPy (pip method shown below)\n",
    "- Import VerticaPy and Utilities\n",
    "- Validate installed VerticaPy version"
   ]
  },
  {
   "cell_type": "markdown",
   "id": "cae3a101-0ac9-4d30-913a-a9a538b324eb",
   "metadata": {},
   "source": [
    "<div class=\"alert alert-block alert-info\">\n",
    "<i> <p style=\"color:black;\">The following code snippet can be copied/pasted into your Python 3 Jupyter Notebook and altered as needed for your environment:</p></i>\n",
    "\n",
    "```python\n",
    "!pip install verticapy[all]\n",
    "import verticapy as vp\n",
    "from verticapy.utilities import *\n",
    "vp.__version__\n",
    "```"
   ]
  },
  {
   "cell_type": "markdown",
   "id": "7cb99e1b-3d88-418c-af88-5a9b427cff03",
   "metadata": {},
   "source": [
    "<h3 style=\"font-size:14px;\">Configure Vertica Database Access for VerticaPy</h3>\n",
    "\n",
    "VerticaPy is an open-source Python library developed specifically for the Vertica Database, this affords VerticaPy with native support for fully-distributed, Massively Parallel Processing (MPP) python operations.\n",
    "\n",
    "As of VerticaPy version 0.10.2, the VerticaPy configuration requires only two components:\n",
    "\n",
    "1. A <a href=\"https://www.vertica.com/python/documentation_last/connect/new_connection/index.php\" target=\"_blank\">new_connection</a> VerticaPy configuration file\n",
    "\n",
    "2. A <a href=\"https://www.vertica.com/python/documentation_last/connect/connect/index.php\" target=\"_blank\">connect</a> string for VerticaPy to connect to the Vertica Database. \n",
    "\n",
    "The VerticaPy <b>connect</b> string calls the <b>new_connection</b> configuration file to communicate with the Vertica database\n",
    "\n",
    "> <p style=\"color:dimgrey;\"><br><b><u> NOTE:</u></b><i> Exectute the <a href=\"https://www.vertica.com/python/documentation_last/connect/close_connection/index.php\" target=\"_blank\">close_connection</a> command to terminate a VerticaPy connection to the Vertica Database.</i></p>\n",
    "<br>"
   ]
  },
  {
   "cell_type": "markdown",
   "id": "0dd60844-83ec-4e2e-8a3a-3a2e0d7faeaa",
   "metadata": {},
   "source": [
    "<b>From Jupyter: </b>\n",
    "- Setup a <b>new_connection</b> for VerticaPy\n",
    "    - <i>host, database, and password</i> are all required fields\n",
    "    - <i>port and user</i> are optional fields and will default to the Vertica defaults\n",
    "- Setup the <b>connect</b> string to connect to the Vertica Database"
   ]
  },
  {
   "cell_type": "markdown",
   "id": "f8e4c195-bf1d-4983-86ec-75d266619ee1",
   "metadata": {},
   "source": [
    "<div class=\"alert alert-block alert-info\">\n",
    "<i> <p style=\"color:black;\">The following code snippet can be copied/pasted into your Python 3 Jupyter Notebook and altered as needed for your environment:</p></i>\n",
    "\n",
    "```python\n",
    "vp.new_connection({\"host\": \"any_vertica_node\", \n",
    "                   \"port\": \"5433\", #default\n",
    "                   \"database\": \"my_vertica_db\", \n",
    "                   \"password\": \"my_pass\", \n",
    "                   \"user\": \"dbadmin\"}, #default\n",
    "                   name = \"verticaconnection\")\n",
    "\n",
    "vp.connect(\"verticaconnection\")\n",
    "```"
   ]
  },
  {
   "cell_type": "markdown",
   "id": "bb89531b-78bd-45cc-a48d-b869a0c49e52",
   "metadata": {
    "tags": []
   },
   "source": [
    "<h3 style=\"font-size:14px;\">Convert Pandas Dataframes to VerticaPy vDataframes</h3>\n",
    "\n",
    "Perform all the following steps to convert a Pandas dataframe (df) to a Vertica vDataframe (vdf):\n",
    "\n",
    "1. Use VerticaPy's \"pandas_to_vertica\" Utility\n",
    "\n",
    "2. Add the existing df_name, the new vdf_name, and a corresponding Vertica table name\n",
    "\n",
    "> <p style=\"color:dimgrey;\"><br><b><u> NOTE:</u></b><i> VerticaPy vDataframe output is easily identifiable by the VerticaPy logo</i></p><img src='Figures/verticapy-logo-trans.png' width=\"35\" height=\"35\"><br>\n",
    "<br>"
   ]
  },
  {
   "cell_type": "markdown",
   "id": "e4c05cca-0a3a-4f7e-8d7e-3b0237026a34",
   "metadata": {
    "tags": []
   },
   "source": [
    "<b>From Jupyter: </b>\n",
    "\n",
    "- Convert the <b>train</b> dataset:\n",
    "    - Execute the <b>pandas_to_verica</b> command with the following variables:\n",
    "        - Pandas Dataframe = train_df\n",
    "        - VerticaPy vDataframe = train_vdf\n",
    "        - Vertica Table = prudential_train\n",
    "     - Review train_vdf once it prints to std_out\n",
    "        - Verify 127 columns\n",
    "        - Scroll to the end, note the <b>Response</b> column\n",
    "<br>\n",
    "<br>\n",
    "- Convert the <b>test</b> dataset:\n",
    "    - Execute the <b>pandas_to_verica</b> command with the following variables:\n",
    "        - Pandas Dataframe = test_df\n",
    "        - VerticaPy vDataframe = test_vdf\n",
    "        - Vertica Table = prudential_test\n",
    "    - Review test_vdf once it prints to std_out\n",
    "        - Verify 126 columns\n",
    "        - Scroll to the end, note the <i>omission</i> of the Response column, this field only exists in the train dataset. The ML algorithm will create the Response column, based off test dataset predictions."
   ]
  },
  {
   "cell_type": "markdown",
   "id": "c0702489-b211-4479-bf43-f05d10aa8b42",
   "metadata": {},
   "source": [
    "<div class=\"alert alert-block alert-info\">\n",
    "<i> <p style=\"color:black;\">The following code snippet can be copied/pasted into your Python 3 Jupyter Notebook and altered as needed for your environment:</p></i>\n",
    "\n",
    "```python\n",
    "#Train Dataset Conversion from Pandas to VerticaPy Dataframe\n",
    "\n",
    "train_vdf = pandas_to_vertica(train_df).to_db(name = '\"prudential_train\"', relation_type = \"table\")\n",
    "#Print the vDataframe to std_out\n",
    "train_vdf\n",
    "\n",
    "#Run in a difference cell\n",
    "#Test Dataset Conversion from Pandas to VerticaPy Dataframe\n",
    "\n",
    "test_vdf = pandas_to_vertica(test_df).to_db(name = '\"prudential_test\"', relation_type = \"table\")\n",
    "#Print the vDataframe to std_out\n",
    "test_vdf\n",
    "```"
   ]
  },
  {
   "cell_type": "markdown",
   "id": "00fd5b33-fccb-4e31-b010-64dc5b33f7fa",
   "metadata": {},
   "source": [
    "<h3 style=\"font-size:14px;\">Dropping Vertica Database Tables using VerticaPy</h3>\n",
    "\n",
    "In the event you wish to re-execute the examples in these VerticaPy lessons, you will first need to <b>drop</b> any existing Vertica tables, created from previous lesson runs, prior to repeating a lesson instruction.\n",
    "<br>\n",
    "> <p style=\"color:dimgrey;\"><br><b><u> NOTE: </u></b><i>Execute the 'drop' command with extreme caution as once the table is deleted out of Vertica, that data is gone.</i></p>\n",
    "<br>"
   ]
  },
  {
   "cell_type": "markdown",
   "id": "77340540-936e-45cf-b4f3-cbcc69ddd44b",
   "metadata": {},
   "source": [
    "<b>From Jupyter: </b>\n",
    "\n",
    "- <b>Drop</b> the <i>prudential_train</i> and <i>prudential_test</i> Vertica tables that were created during the VerticaPy vDataframe creation process\n",
    "    - Output that returns <b>True</b> indicates the table existed in the database, and was dropped\n",
    "    - Output that returns <b>False</b> indicates that the table did not exist in the Vertica Database so nothing was dropped."
   ]
  },
  {
   "cell_type": "markdown",
   "id": "71f2cf3d-15d6-4c8d-a632-a3f2f7220ba1",
   "metadata": {},
   "source": [
    "<div class=\"alert alert-block alert-info\">\n",
    "<i> <p style=\"color:black;\">The following code snippet can be copied/pasted into your Python 3 Jupyter Notebook and altered as needed for your environment:</p></i>\n",
    "\n",
    "```python\n",
    "drop(name = \"prudential_train\")\n",
    "#run is a different cell:\n",
    "drop(name = \"prudential_test\") \n",
    "```"
   ]
  },
  {
   "cell_type": "markdown",
   "id": "1254a844-bb9a-4006-b7a7-d74a6d85fe52",
   "metadata": {},
   "source": [
    "\n",
    "<u>Instructional Video:</u>\n",
    "\n",
    "<i>The following 80 second instructional video will guide you through all Pandas dataframe to VerticaPy vDataframe conversion steps covered in this section</i>"
   ]
  },
  {
   "cell_type": "code",
   "execution_count": null,
   "id": "c1891e02-e58b-4fb6-a044-8ef8ff6cdd85",
   "metadata": {},
   "outputs": [],
   "source": [
    "\"\"\"\n",
    "    Helper video showing how to create a Pandas dataframes for the 3 zipped-csv Kaggle files\n",
    "    Video Title/URL: kaggle_prudential_copy_import --- https://youtu.be/zhY9OSEDpFs\n",
    "    Ensure that your YouTube video resolution is set to 1080p\n",
    "    \"\"\"\n",
    "\n",
    "YouTubeVideo('zhY9OSEDpFs')"
   ]
  },
  {
   "cell_type": "markdown",
   "id": "18dfb4f9-0165-4459-a891-17e83e66e58f",
   "metadata": {},
   "source": [
    "#### [Return to the Table of Contents](#toc_cell)"
   ]
  },
  {
   "cell_type": "markdown",
   "id": "c02f25ee",
   "metadata": {},
   "source": [
    "***"
   ]
  },
  {
   "cell_type": "markdown",
   "id": "ca2aa185",
   "metadata": {},
   "source": [
    "<font style=\"font-family:Calibri\"> Author Name: Theresa Melvin\n",
    "<br>\n",
    "Author Contact: theresa.melvin@verticapy.com</font>"
   ]
  }
 ],
 "metadata": {
  "kernelspec": {
   "display_name": "Python 3 (ipykernel)",
   "language": "python",
   "name": "python3"
  },
  "language_info": {
   "codemirror_mode": {
    "name": "ipython",
    "version": 3
   },
   "file_extension": ".py",
   "mimetype": "text/x-python",
   "name": "python",
   "nbconvert_exporter": "python",
   "pygments_lexer": "ipython3",
   "version": "3.8.15"
  }
 },
 "nbformat": 4,
 "nbformat_minor": 5
}
